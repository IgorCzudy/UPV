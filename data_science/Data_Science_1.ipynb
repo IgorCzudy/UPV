{
  "nbformat": 4,
  "nbformat_minor": 0,
  "metadata": {
    "colab": {
      "provenance": []
    },
    "kernelspec": {
      "name": "ir",
      "display_name": "R"
    },
    "language_info": {
      "name": "R"
    }
  },
  "cells": [
    {
      "cell_type": "code",
      "execution_count": null,
      "metadata": {
        "id": "dH1M4_EsDd48"
      },
      "outputs": [],
      "source": [
        "x<-1:12"
      ]
    },
    {
      "cell_type": "code",
      "source": [
        "x"
      ],
      "metadata": {
        "colab": {
          "base_uri": "https://localhost:8080/",
          "height": 34
        },
        "id": "HW1NOQVnEDBo",
        "outputId": "d5de41dd-2a72-44db-e238-99684a5b5c07"
      },
      "execution_count": null,
      "outputs": [
        {
          "output_type": "display_data",
          "data": {
            "text/html": [
              "<style>\n",
              ".list-inline {list-style: none; margin:0; padding: 0}\n",
              ".list-inline>li {display: inline-block}\n",
              ".list-inline>li:not(:last-child)::after {content: \"\\00b7\"; padding: 0 .5ex}\n",
              "</style>\n",
              "<ol class=list-inline><li>1</li><li>2</li><li>3</li><li>4</li><li>5</li><li>6</li><li>7</li><li>8</li><li>9</li><li>10</li><li>11</li><li>12</li></ol>\n"
            ],
            "text/markdown": "1. 1\n2. 2\n3. 3\n4. 4\n5. 5\n6. 6\n7. 7\n8. 8\n9. 9\n10. 10\n11. 11\n12. 12\n\n\n",
            "text/latex": "\\begin{enumerate*}\n\\item 1\n\\item 2\n\\item 3\n\\item 4\n\\item 5\n\\item 6\n\\item 7\n\\item 8\n\\item 9\n\\item 10\n\\item 11\n\\item 12\n\\end{enumerate*}\n",
            "text/plain": [
              " [1]  1  2  3  4  5  6  7  8  9 10 11 12"
            ]
          },
          "metadata": {}
        }
      ]
    },
    {
      "cell_type": "code",
      "source": [
        "seq = c(6,2,4)\n",
        "rep(seq, times=4)"
      ],
      "metadata": {
        "colab": {
          "base_uri": "https://localhost:8080/",
          "height": 34
        },
        "id": "aXI88T1gEDh_",
        "outputId": "dffdf290-e971-418e-d352-f7fa3faac0fc"
      },
      "execution_count": null,
      "outputs": [
        {
          "output_type": "display_data",
          "data": {
            "text/html": [
              "<style>\n",
              ".list-inline {list-style: none; margin:0; padding: 0}\n",
              ".list-inline>li {display: inline-block}\n",
              ".list-inline>li:not(:last-child)::after {content: \"\\00b7\"; padding: 0 .5ex}\n",
              "</style>\n",
              "<ol class=list-inline><li>6</li><li>2</li><li>4</li><li>6</li><li>2</li><li>4</li><li>6</li><li>2</li><li>4</li><li>6</li><li>2</li><li>4</li></ol>\n"
            ],
            "text/markdown": "1. 6\n2. 2\n3. 4\n4. 6\n5. 2\n6. 4\n7. 6\n8. 2\n9. 4\n10. 6\n11. 2\n12. 4\n\n\n",
            "text/latex": "\\begin{enumerate*}\n\\item 6\n\\item 2\n\\item 4\n\\item 6\n\\item 2\n\\item 4\n\\item 6\n\\item 2\n\\item 4\n\\item 6\n\\item 2\n\\item 4\n\\end{enumerate*}\n",
            "text/plain": [
              " [1] 6 2 4 6 2 4 6 2 4 6 2 4"
            ]
          },
          "metadata": {}
        }
      ]
    },
    {
      "cell_type": "code",
      "source": [
        "v <- c(rep(9,6), rep(2,5), rep(5,4))\n",
        "m = matrix(v, nrow=5, ncol=3)\n",
        "m"
      ],
      "metadata": {
        "colab": {
          "base_uri": "https://localhost:8080/",
          "height": 226
        },
        "id": "hHkjF59gEYVP",
        "outputId": "d4beb57c-cd25-4e54-f294-5e3757ee2a91"
      },
      "execution_count": null,
      "outputs": [
        {
          "output_type": "display_data",
          "data": {
            "text/html": [
              "<table class=\"dataframe\">\n",
              "<caption>A matrix: 5 × 3 of type dbl</caption>\n",
              "<tbody>\n",
              "\t<tr><td>9</td><td>9</td><td>2</td></tr>\n",
              "\t<tr><td>9</td><td>2</td><td>5</td></tr>\n",
              "\t<tr><td>9</td><td>2</td><td>5</td></tr>\n",
              "\t<tr><td>9</td><td>2</td><td>5</td></tr>\n",
              "\t<tr><td>9</td><td>2</td><td>5</td></tr>\n",
              "</tbody>\n",
              "</table>\n"
            ],
            "text/markdown": "\nA matrix: 5 × 3 of type dbl\n\n| 9 | 9 | 2 |\n| 9 | 2 | 5 |\n| 9 | 2 | 5 |\n| 9 | 2 | 5 |\n| 9 | 2 | 5 |\n\n",
            "text/latex": "A matrix: 5 × 3 of type dbl\n\\begin{tabular}{lll}\n\t 9 & 9 & 2\\\\\n\t 9 & 2 & 5\\\\\n\t 9 & 2 & 5\\\\\n\t 9 & 2 & 5\\\\\n\t 9 & 2 & 5\\\\\n\\end{tabular}\n",
            "text/plain": [
              "     [,1] [,2] [,3]\n",
              "[1,] 9    9    2   \n",
              "[2,] 9    2    5   \n",
              "[3,] 9    2    5   \n",
              "[4,] 9    2    5   \n",
              "[5,] 9    2    5   "
            ]
          },
          "metadata": {}
        }
      ]
    },
    {
      "cell_type": "code",
      "source": [
        "set.seed(100)\n",
        "random_vecor <- rnorm(20)\n",
        "random_vecor"
      ],
      "metadata": {
        "colab": {
          "base_uri": "https://localhost:8080/",
          "height": 69
        },
        "id": "r1qOBUnqEwj3",
        "outputId": "4bb08c33-a712-460a-d6b1-ce001cf72fc3"
      },
      "execution_count": null,
      "outputs": [
        {
          "output_type": "display_data",
          "data": {
            "text/html": [
              "<style>\n",
              ".list-inline {list-style: none; margin:0; padding: 0}\n",
              ".list-inline>li {display: inline-block}\n",
              ".list-inline>li:not(:last-child)::after {content: \"\\00b7\"; padding: 0 .5ex}\n",
              "</style>\n",
              "<ol class=list-inline><li>-0.502192350531457</li><li>0.131531165327303</li><li>-0.07891708981887</li><li>0.886784809417845</li><li>0.116971270510841</li><li>0.318630087617032</li><li>-0.58179068471591</li><li>0.714532710891568</li><li>-0.825259425862769</li><li>-0.359862131395465</li><li>0.0898861437775305</li><li>0.0962744602851301</li><li>-0.201633952183354</li><li>0.739840499878431</li><li>0.123379501088869</li><li>-0.0293167092293474</li><li>-0.388854246903499</li><li>0.510856257369925</li><li>-0.913814185369186</li><li>2.31029682277906</li></ol>\n"
            ],
            "text/markdown": "1. -0.502192350531457\n2. 0.131531165327303\n3. -0.07891708981887\n4. 0.886784809417845\n5. 0.116971270510841\n6. 0.318630087617032\n7. -0.58179068471591\n8. 0.714532710891568\n9. -0.825259425862769\n10. -0.359862131395465\n11. 0.0898861437775305\n12. 0.0962744602851301\n13. -0.201633952183354\n14. 0.739840499878431\n15. 0.123379501088869\n16. -0.0293167092293474\n17. -0.388854246903499\n18. 0.510856257369925\n19. -0.913814185369186\n20. 2.31029682277906\n\n\n",
            "text/latex": "\\begin{enumerate*}\n\\item -0.502192350531457\n\\item 0.131531165327303\n\\item -0.07891708981887\n\\item 0.886784809417845\n\\item 0.116971270510841\n\\item 0.318630087617032\n\\item -0.58179068471591\n\\item 0.714532710891568\n\\item -0.825259425862769\n\\item -0.359862131395465\n\\item 0.0898861437775305\n\\item 0.0962744602851301\n\\item -0.201633952183354\n\\item 0.739840499878431\n\\item 0.123379501088869\n\\item -0.0293167092293474\n\\item -0.388854246903499\n\\item 0.510856257369925\n\\item -0.913814185369186\n\\item 2.31029682277906\n\\end{enumerate*}\n",
            "text/plain": [
              " [1] -0.50219235  0.13153117 -0.07891709  0.88678481  0.11697127  0.31863009\n",
              " [7] -0.58179068  0.71453271 -0.82525943 -0.35986213  0.08988614  0.09627446\n",
              "[13] -0.20163395  0.73984050  0.12337950 -0.02931671 -0.38885425  0.51085626\n",
              "[19] -0.91381419  2.31029682"
            ]
          },
          "metadata": {}
        }
      ]
    },
    {
      "cell_type": "code",
      "source": [
        "mean_value <- mean(random_vecor)\n",
        "median_value <- median(random_vecor)\n",
        "variance_value <- var(random_vecor)\n",
        "std_deviation_value <- sd(random_vecor)\n",
        "\n",
        "cat(\"Mean:\", mean_value, \"\\n\")\n",
        "cat(\"Median:\", median_value, \"\\n\")\n",
        "cat(\"Variance:\", variance_value, \"\\n\")\n",
        "cat(\"Standard Deviation:\", std_deviation_value, \"\\n\")\n"
      ],
      "metadata": {
        "colab": {
          "base_uri": "https://localhost:8080/"
        },
        "id": "G9vCei0UFVLB",
        "outputId": "e01096fb-637d-4399-abe6-4830769d60f5"
      },
      "execution_count": null,
      "outputs": [
        {
          "output_type": "stream",
          "name": "stdout",
          "text": [
            "Mean: 0.1078671 \n",
            "Median: 0.0930803 \n",
            "Variance: 0.516335 \n",
            "Standard Deviation: 0.7185645 \n"
          ]
        }
      ]
    },
    {
      "cell_type": "markdown",
      "source": [
        "When you dont change the seed, all matrices stay the same. Its becouse drowing number state the same. Oposite happend when you change the seed."
      ],
      "metadata": {
        "id": "5Wh-UQSQFiGn"
      }
    },
    {
      "cell_type": "code",
      "source": [
        "# system(paste(\"wget\", \"https://poliformat.upv.es/access/content/group/DOC_33420_2023/Practicals/Datasets%20Practical%201/data1.txt\"))"
      ],
      "metadata": {
        "id": "9-PEQjYgF1v3"
      },
      "execution_count": null,
      "outputs": []
    },
    {
      "cell_type": "code",
      "source": [
        "students <- read.table(\"data.txt\", header = FALSE, sep = \" \", col.names=c(\"height\", \"shoesize\", \"gender\", \"population\"))\n",
        "head(students)"
      ],
      "metadata": {
        "colab": {
          "base_uri": "https://localhost:8080/",
          "height": 286
        },
        "id": "VfSEtfjWGc73",
        "outputId": "b8e49cd3-f96a-4d18-f30f-61339226c546"
      },
      "execution_count": null,
      "outputs": [
        {
          "output_type": "display_data",
          "data": {
            "text/html": [
              "<table class=\"dataframe\">\n",
              "<caption>A data.frame: 6 × 4</caption>\n",
              "<thead>\n",
              "\t<tr><th></th><th scope=col>height</th><th scope=col>shoesize</th><th scope=col>gender</th><th scope=col>population</th></tr>\n",
              "\t<tr><th></th><th scope=col>&lt;int&gt;</th><th scope=col>&lt;int&gt;</th><th scope=col>&lt;chr&gt;</th><th scope=col>&lt;chr&gt;</th></tr>\n",
              "</thead>\n",
              "<tbody>\n",
              "\t<tr><th scope=row>1</th><td>181</td><td>44</td><td>male  </td><td>kuopio</td></tr>\n",
              "\t<tr><th scope=row>2</th><td>160</td><td>38</td><td>female</td><td>kuopio</td></tr>\n",
              "\t<tr><th scope=row>3</th><td>174</td><td>42</td><td>female</td><td>kuopio</td></tr>\n",
              "\t<tr><th scope=row>4</th><td>170</td><td>43</td><td>male  </td><td>kuopio</td></tr>\n",
              "\t<tr><th scope=row>5</th><td>172</td><td>43</td><td>male  </td><td>kuopio</td></tr>\n",
              "\t<tr><th scope=row>6</th><td>165</td><td>39</td><td>female</td><td>kuopio</td></tr>\n",
              "</tbody>\n",
              "</table>\n"
            ],
            "text/markdown": "\nA data.frame: 6 × 4\n\n| <!--/--> | height &lt;int&gt; | shoesize &lt;int&gt; | gender &lt;chr&gt; | population &lt;chr&gt; |\n|---|---|---|---|---|\n| 1 | 181 | 44 | male   | kuopio |\n| 2 | 160 | 38 | female | kuopio |\n| 3 | 174 | 42 | female | kuopio |\n| 4 | 170 | 43 | male   | kuopio |\n| 5 | 172 | 43 | male   | kuopio |\n| 6 | 165 | 39 | female | kuopio |\n\n",
            "text/latex": "A data.frame: 6 × 4\n\\begin{tabular}{r|llll}\n  & height & shoesize & gender & population\\\\\n  & <int> & <int> & <chr> & <chr>\\\\\n\\hline\n\t1 & 181 & 44 & male   & kuopio\\\\\n\t2 & 160 & 38 & female & kuopio\\\\\n\t3 & 174 & 42 & female & kuopio\\\\\n\t4 & 170 & 43 & male   & kuopio\\\\\n\t5 & 172 & 43 & male   & kuopio\\\\\n\t6 & 165 & 39 & female & kuopio\\\\\n\\end{tabular}\n",
            "text/plain": [
              "  height shoesize gender population\n",
              "1 181    44       male   kuopio    \n",
              "2 160    38       female kuopio    \n",
              "3 174    42       female kuopio    \n",
              "4 170    43       male   kuopio    \n",
              "5 172    43       male   kuopio    \n",
              "6 165    39       female kuopio    "
            ]
          },
          "metadata": {}
        }
      ]
    },
    {
      "cell_type": "code",
      "source": [
        "colnames(students)"
      ],
      "metadata": {
        "id": "x9JsUrT4HViL",
        "colab": {
          "base_uri": "https://localhost:8080/",
          "height": 34
        },
        "outputId": "fbb22153-1f56-4d03-b4bb-7547f810cc03"
      },
      "execution_count": null,
      "outputs": [
        {
          "output_type": "display_data",
          "data": {
            "text/html": [
              "<style>\n",
              ".list-inline {list-style: none; margin:0; padding: 0}\n",
              ".list-inline>li {display: inline-block}\n",
              ".list-inline>li:not(:last-child)::after {content: \"\\00b7\"; padding: 0 .5ex}\n",
              "</style>\n",
              "<ol class=list-inline><li>'height'</li><li>'shoesize'</li><li>'gender'</li><li>'population'</li></ol>\n"
            ],
            "text/markdown": "1. 'height'\n2. 'shoesize'\n3. 'gender'\n4. 'population'\n\n\n",
            "text/latex": "\\begin{enumerate*}\n\\item 'height'\n\\item 'shoesize'\n\\item 'gender'\n\\item 'population'\n\\end{enumerate*}\n",
            "text/plain": [
              "[1] \"height\"     \"shoesize\"   \"gender\"     \"population\""
            ]
          },
          "metadata": {}
        }
      ]
    },
    {
      "cell_type": "code",
      "source": [
        "students$height"
      ],
      "metadata": {
        "colab": {
          "base_uri": "https://localhost:8080/",
          "height": 34
        },
        "id": "H4WFXepz00SF",
        "outputId": "84597fce-f8b5-4905-92b7-fc211e7845dd"
      },
      "execution_count": null,
      "outputs": [
        {
          "output_type": "display_data",
          "data": {
            "text/html": [
              "<style>\n",
              ".list-inline {list-style: none; margin:0; padding: 0}\n",
              ".list-inline>li {display: inline-block}\n",
              ".list-inline>li:not(:last-child)::after {content: \"\\00b7\"; padding: 0 .5ex}\n",
              "</style>\n",
              "<ol class=list-inline><li>181</li><li>160</li><li>174</li><li>170</li><li>172</li><li>165</li><li>161</li><li>167</li><li>164</li><li>166</li><li>162</li><li>158</li><li>175</li><li>181</li><li>180</li><li>177</li><li>173</li></ol>\n"
            ],
            "text/markdown": "1. 181\n2. 160\n3. 174\n4. 170\n5. 172\n6. 165\n7. 161\n8. 167\n9. 164\n10. 166\n11. 162\n12. 158\n13. 175\n14. 181\n15. 180\n16. 177\n17. 173\n\n\n",
            "text/latex": "\\begin{enumerate*}\n\\item 181\n\\item 160\n\\item 174\n\\item 170\n\\item 172\n\\item 165\n\\item 161\n\\item 167\n\\item 164\n\\item 166\n\\item 162\n\\item 158\n\\item 175\n\\item 181\n\\item 180\n\\item 177\n\\item 173\n\\end{enumerate*}\n",
            "text/plain": [
              " [1] 181 160 174 170 172 165 161 167 164 166 162 158 175 181 180 177 173"
            ]
          },
          "metadata": {}
        }
      ]
    },
    {
      "cell_type": "code",
      "source": [
        "table(students$population)"
      ],
      "metadata": {
        "colab": {
          "base_uri": "https://localhost:8080/",
          "height": 72
        },
        "id": "BpeY_rzJ1Imr",
        "outputId": "87ca1dd4-31a4-43a4-ed1a-c14a21a26745"
      },
      "execution_count": null,
      "outputs": [
        {
          "output_type": "display_data",
          "data": {
            "text/plain": [
              "\n",
              " kuopio tampere \n",
              "      7      10 "
            ]
          },
          "metadata": {}
        }
      ]
    },
    {
      "cell_type": "code",
      "source": [
        "?subset"
      ],
      "metadata": {
        "id": "FCVub1nd1RnD"
      },
      "execution_count": null,
      "outputs": []
    },
    {
      "cell_type": "code",
      "source": [
        "male_subset <- subset(students, gender == \"male\")\n",
        "female_subset <- subset(students, gender == \"female\")"
      ],
      "metadata": {
        "id": "414-5fT61leq"
      },
      "execution_count": null,
      "outputs": []
    },
    {
      "cell_type": "code",
      "source": [
        "male_subset <- students[students$gender == \"male\", ]\n",
        "female_subset <- students[students$gender == \"female\", ]\n"
      ],
      "metadata": {
        "id": "Yye_t4x614Dc"
      },
      "execution_count": null,
      "outputs": []
    },
    {
      "cell_type": "code",
      "source": [
        "median_height <- median(students$height)\n",
        "\n",
        "below_median_subset <- students[students$height < median_height, ]\n",
        "above_median_subset <- students[students$height >= median_height, ]"
      ],
      "metadata": {
        "id": "kVI0A4jV2P6h"
      },
      "execution_count": null,
      "outputs": []
    },
    {
      "cell_type": "code",
      "source": [
        "below_median_subset <- subset(students, height < median_height)\n",
        "above_median_subset <- subset(students, height >= median_height)\n"
      ],
      "metadata": {
        "id": "5EE0f2hF2zZL"
      },
      "execution_count": null,
      "outputs": []
    },
    {
      "cell_type": "code",
      "source": [
        "students$height <- students$height / 100\n",
        "head(students)"
      ],
      "metadata": {
        "colab": {
          "base_uri": "https://localhost:8080/",
          "height": 286
        },
        "id": "TesmTqEY23DM",
        "outputId": "a68615bc-eb76-47ed-a285-aa744f0939ee"
      },
      "execution_count": null,
      "outputs": [
        {
          "output_type": "display_data",
          "data": {
            "text/html": [
              "<table class=\"dataframe\">\n",
              "<caption>A data.frame: 6 × 4</caption>\n",
              "<thead>\n",
              "\t<tr><th></th><th scope=col>height</th><th scope=col>shoesize</th><th scope=col>gender</th><th scope=col>population</th></tr>\n",
              "\t<tr><th></th><th scope=col>&lt;dbl&gt;</th><th scope=col>&lt;int&gt;</th><th scope=col>&lt;chr&gt;</th><th scope=col>&lt;chr&gt;</th></tr>\n",
              "</thead>\n",
              "<tbody>\n",
              "\t<tr><th scope=row>1</th><td>0.0181</td><td>44</td><td>male  </td><td>kuopio</td></tr>\n",
              "\t<tr><th scope=row>2</th><td>0.0160</td><td>38</td><td>female</td><td>kuopio</td></tr>\n",
              "\t<tr><th scope=row>3</th><td>0.0174</td><td>42</td><td>female</td><td>kuopio</td></tr>\n",
              "\t<tr><th scope=row>4</th><td>0.0170</td><td>43</td><td>male  </td><td>kuopio</td></tr>\n",
              "\t<tr><th scope=row>5</th><td>0.0172</td><td>43</td><td>male  </td><td>kuopio</td></tr>\n",
              "\t<tr><th scope=row>6</th><td>0.0165</td><td>39</td><td>female</td><td>kuopio</td></tr>\n",
              "</tbody>\n",
              "</table>\n"
            ],
            "text/markdown": "\nA data.frame: 6 × 4\n\n| <!--/--> | height &lt;dbl&gt; | shoesize &lt;int&gt; | gender &lt;chr&gt; | population &lt;chr&gt; |\n|---|---|---|---|---|\n| 1 | 0.0181 | 44 | male   | kuopio |\n| 2 | 0.0160 | 38 | female | kuopio |\n| 3 | 0.0174 | 42 | female | kuopio |\n| 4 | 0.0170 | 43 | male   | kuopio |\n| 5 | 0.0172 | 43 | male   | kuopio |\n| 6 | 0.0165 | 39 | female | kuopio |\n\n",
            "text/latex": "A data.frame: 6 × 4\n\\begin{tabular}{r|llll}\n  & height & shoesize & gender & population\\\\\n  & <dbl> & <int> & <chr> & <chr>\\\\\n\\hline\n\t1 & 0.0181 & 44 & male   & kuopio\\\\\n\t2 & 0.0160 & 38 & female & kuopio\\\\\n\t3 & 0.0174 & 42 & female & kuopio\\\\\n\t4 & 0.0170 & 43 & male   & kuopio\\\\\n\t5 & 0.0172 & 43 & male   & kuopio\\\\\n\t6 & 0.0165 & 39 & female & kuopio\\\\\n\\end{tabular}\n",
            "text/plain": [
              "  height shoesize gender population\n",
              "1 0.0181 44       male   kuopio    \n",
              "2 0.0160 38       female kuopio    \n",
              "3 0.0174 42       female kuopio    \n",
              "4 0.0170 43       male   kuopio    \n",
              "5 0.0172 43       male   kuopio    \n",
              "6 0.0165 39       female kuopio    "
            ]
          },
          "metadata": {}
        }
      ]
    },
    {
      "cell_type": "code",
      "source": [
        "for (i in 1:length(students$height)){\n",
        "  students$height[i]<-students$height[i]/100\n",
        "}\n",
        "head(students)"
      ],
      "metadata": {
        "colab": {
          "base_uri": "https://localhost:8080/",
          "height": 286
        },
        "id": "O72m2ruu3Okw",
        "outputId": "8884ace5-c657-48a2-cb96-b8cd00f89bca"
      },
      "execution_count": null,
      "outputs": [
        {
          "output_type": "display_data",
          "data": {
            "text/html": [
              "<table class=\"dataframe\">\n",
              "<caption>A data.frame: 6 × 4</caption>\n",
              "<thead>\n",
              "\t<tr><th></th><th scope=col>height</th><th scope=col>shoesize</th><th scope=col>gender</th><th scope=col>population</th></tr>\n",
              "\t<tr><th></th><th scope=col>&lt;dbl&gt;</th><th scope=col>&lt;int&gt;</th><th scope=col>&lt;chr&gt;</th><th scope=col>&lt;chr&gt;</th></tr>\n",
              "</thead>\n",
              "<tbody>\n",
              "\t<tr><th scope=row>1</th><td>0.000181</td><td>44</td><td>male  </td><td>kuopio</td></tr>\n",
              "\t<tr><th scope=row>2</th><td>0.000160</td><td>38</td><td>female</td><td>kuopio</td></tr>\n",
              "\t<tr><th scope=row>3</th><td>0.000174</td><td>42</td><td>female</td><td>kuopio</td></tr>\n",
              "\t<tr><th scope=row>4</th><td>0.000170</td><td>43</td><td>male  </td><td>kuopio</td></tr>\n",
              "\t<tr><th scope=row>5</th><td>0.000172</td><td>43</td><td>male  </td><td>kuopio</td></tr>\n",
              "\t<tr><th scope=row>6</th><td>0.000165</td><td>39</td><td>female</td><td>kuopio</td></tr>\n",
              "</tbody>\n",
              "</table>\n"
            ],
            "text/markdown": "\nA data.frame: 6 × 4\n\n| <!--/--> | height &lt;dbl&gt; | shoesize &lt;int&gt; | gender &lt;chr&gt; | population &lt;chr&gt; |\n|---|---|---|---|---|\n| 1 | 0.000181 | 44 | male   | kuopio |\n| 2 | 0.000160 | 38 | female | kuopio |\n| 3 | 0.000174 | 42 | female | kuopio |\n| 4 | 0.000170 | 43 | male   | kuopio |\n| 5 | 0.000172 | 43 | male   | kuopio |\n| 6 | 0.000165 | 39 | female | kuopio |\n\n",
            "text/latex": "A data.frame: 6 × 4\n\\begin{tabular}{r|llll}\n  & height & shoesize & gender & population\\\\\n  & <dbl> & <int> & <chr> & <chr>\\\\\n\\hline\n\t1 & 0.000181 & 44 & male   & kuopio\\\\\n\t2 & 0.000160 & 38 & female & kuopio\\\\\n\t3 & 0.000174 & 42 & female & kuopio\\\\\n\t4 & 0.000170 & 43 & male   & kuopio\\\\\n\t5 & 0.000172 & 43 & male   & kuopio\\\\\n\t6 & 0.000165 & 39 & female & kuopio\\\\\n\\end{tabular}\n",
            "text/plain": [
              "  height   shoesize gender population\n",
              "1 0.000181 44       male   kuopio    \n",
              "2 0.000160 38       female kuopio    \n",
              "3 0.000174 42       female kuopio    \n",
              "4 0.000170 43       male   kuopio    \n",
              "5 0.000172 43       male   kuopio    \n",
              "6 0.000165 39       female kuopio    "
            ]
          },
          "metadata": {}
        }
      ]
    },
    {
      "cell_type": "code",
      "source": [
        "students$height <- apply(students, 1, function(row) as.numeric(row[\"height\"])/100)\n",
        "head(students)"
      ],
      "metadata": {
        "colab": {
          "base_uri": "https://localhost:8080/",
          "height": 286
        },
        "id": "ZqalkDsz3qXj",
        "outputId": "2f910a0f-6b5f-4a79-ca27-2e76bb7c3ffd"
      },
      "execution_count": null,
      "outputs": [
        {
          "output_type": "display_data",
          "data": {
            "text/html": [
              "<table class=\"dataframe\">\n",
              "<caption>A data.frame: 6 × 4</caption>\n",
              "<thead>\n",
              "\t<tr><th></th><th scope=col>height</th><th scope=col>shoesize</th><th scope=col>gender</th><th scope=col>population</th></tr>\n",
              "\t<tr><th></th><th scope=col>&lt;dbl&gt;</th><th scope=col>&lt;int&gt;</th><th scope=col>&lt;chr&gt;</th><th scope=col>&lt;chr&gt;</th></tr>\n",
              "</thead>\n",
              "<tbody>\n",
              "\t<tr><th scope=row>1</th><td>1.81e-06</td><td>44</td><td>male  </td><td>kuopio</td></tr>\n",
              "\t<tr><th scope=row>2</th><td>1.60e-06</td><td>38</td><td>female</td><td>kuopio</td></tr>\n",
              "\t<tr><th scope=row>3</th><td>1.74e-06</td><td>42</td><td>female</td><td>kuopio</td></tr>\n",
              "\t<tr><th scope=row>4</th><td>1.70e-06</td><td>43</td><td>male  </td><td>kuopio</td></tr>\n",
              "\t<tr><th scope=row>5</th><td>1.72e-06</td><td>43</td><td>male  </td><td>kuopio</td></tr>\n",
              "\t<tr><th scope=row>6</th><td>1.65e-06</td><td>39</td><td>female</td><td>kuopio</td></tr>\n",
              "</tbody>\n",
              "</table>\n"
            ],
            "text/markdown": "\nA data.frame: 6 × 4\n\n| <!--/--> | height &lt;dbl&gt; | shoesize &lt;int&gt; | gender &lt;chr&gt; | population &lt;chr&gt; |\n|---|---|---|---|---|\n| 1 | 1.81e-06 | 44 | male   | kuopio |\n| 2 | 1.60e-06 | 38 | female | kuopio |\n| 3 | 1.74e-06 | 42 | female | kuopio |\n| 4 | 1.70e-06 | 43 | male   | kuopio |\n| 5 | 1.72e-06 | 43 | male   | kuopio |\n| 6 | 1.65e-06 | 39 | female | kuopio |\n\n",
            "text/latex": "A data.frame: 6 × 4\n\\begin{tabular}{r|llll}\n  & height & shoesize & gender & population\\\\\n  & <dbl> & <int> & <chr> & <chr>\\\\\n\\hline\n\t1 & 1.81e-06 & 44 & male   & kuopio\\\\\n\t2 & 1.60e-06 & 38 & female & kuopio\\\\\n\t3 & 1.74e-06 & 42 & female & kuopio\\\\\n\t4 & 1.70e-06 & 43 & male   & kuopio\\\\\n\t5 & 1.72e-06 & 43 & male   & kuopio\\\\\n\t6 & 1.65e-06 & 39 & female & kuopio\\\\\n\\end{tabular}\n",
            "text/plain": [
              "  height   shoesize gender population\n",
              "1 1.81e-06 44       male   kuopio    \n",
              "2 1.60e-06 38       female kuopio    \n",
              "3 1.74e-06 42       female kuopio    \n",
              "4 1.70e-06 43       male   kuopio    \n",
              "5 1.72e-06 43       male   kuopio    \n",
              "6 1.65e-06 39       female kuopio    "
            ]
          },
          "metadata": {}
        }
      ]
    },
    {
      "cell_type": "code",
      "source": [
        "students <- read.table(\"data.txt\", header = FALSE, sep = \" \", col.names=c(\"height\", \"shoesize\", \"gender\", \"population\"))\n",
        "\n",
        "males <- students[students$gender == \"male\", ]\n",
        "females <- students[students$gender == \"female\", ]\n",
        "\n",
        "plot(\n",
        "  males$height, males$shoesize,\n",
        "  pch = 19,     #point char = solid circle,\n",
        "  col = \"blue\",\n",
        "  xlab = \"Height\",\n",
        "  ylab = \"Shoe Size\",\n",
        "  xlim = c(150, 190),\n",
        "  ylim = c(35, 45),\n",
        "  main = \"Height vs. Shoe Size\",\n",
        ")\n",
        "\n",
        "points(\n",
        "  females$height, females$shoesize,\n",
        "  pch = 3,\n",
        "  col = \"magenta\",\n",
        ")\n",
        "\n",
        "legend(\n",
        "  \"bottomright\",\n",
        "  legend = c(\"Male\", \"Female\"),\n",
        "  col = c(\"blue\", \"magenta\"),\n",
        "  pch = c(19, 3)\n",
        ")"
      ],
      "metadata": {
        "colab": {
          "base_uri": "https://localhost:8080/",
          "height": 437
        },
        "id": "MV-PSJ2Z3xrh",
        "outputId": "760eadb1-7dc2-465a-fdaf-ccc127ddd436"
      },
      "execution_count": null,
      "outputs": [
        {
          "output_type": "display_data",
          "data": {
            "text/plain": [
              "Plot with title “Height vs. Shoe Size”"
            ],
            "image/png": "[encoded data removed]"
          },
          "metadata": {
            "image/png": {
              "width": 420,
              "height": 420
            }
          }
        }
      ]
    },
    {
      "cell_type": "code",
      "source": [
        "students"
      ],
      "metadata": {
        "colab": {
          "base_uri": "https://localhost:8080/",
          "height": 631
        },
        "id": "_SYyYFMr5ZbD",
        "outputId": "3d9e8a2c-56fd-45da-dde2-6b77800210a7"
      },
      "execution_count": null,
      "outputs": [
        {
          "output_type": "display_data",
          "data": {
            "text/html": [
              "<table class=\"dataframe\">\n",
              "<caption>A data.frame: 17 × 4</caption>\n",
              "<thead>\n",
              "\t<tr><th scope=col>height</th><th scope=col>shoesize</th><th scope=col>gender</th><th scope=col>population</th></tr>\n",
              "\t<tr><th scope=col>&lt;int&gt;</th><th scope=col>&lt;int&gt;</th><th scope=col>&lt;chr&gt;</th><th scope=col>&lt;chr&gt;</th></tr>\n",
              "</thead>\n",
              "<tbody>\n",
              "\t<tr><td>181</td><td>44</td><td>male  </td><td>kuopio </td></tr>\n",
              "\t<tr><td>160</td><td>38</td><td>female</td><td>kuopio </td></tr>\n",
              "\t<tr><td>174</td><td>42</td><td>female</td><td>kuopio </td></tr>\n",
              "\t<tr><td>170</td><td>43</td><td>male  </td><td>kuopio </td></tr>\n",
              "\t<tr><td>172</td><td>43</td><td>male  </td><td>kuopio </td></tr>\n",
              "\t<tr><td>165</td><td>39</td><td>female</td><td>kuopio </td></tr>\n",
              "\t<tr><td>161</td><td>38</td><td>female</td><td>kuopio </td></tr>\n",
              "\t<tr><td>167</td><td>38</td><td>female</td><td>tampere</td></tr>\n",
              "\t<tr><td>164</td><td>39</td><td>female</td><td>tampere</td></tr>\n",
              "\t<tr><td>166</td><td>38</td><td>female</td><td>tampere</td></tr>\n",
              "\t<tr><td>162</td><td>37</td><td>female</td><td>tampere</td></tr>\n",
              "\t<tr><td>158</td><td>36</td><td>female</td><td>tampere</td></tr>\n",
              "\t<tr><td>175</td><td>42</td><td>male  </td><td>tampere</td></tr>\n",
              "\t<tr><td>181</td><td>44</td><td>male  </td><td>tampere</td></tr>\n",
              "\t<tr><td>180</td><td>43</td><td>male  </td><td>tampere</td></tr>\n",
              "\t<tr><td>177</td><td>43</td><td>male  </td><td>tampere</td></tr>\n",
              "\t<tr><td>173</td><td>41</td><td>male  </td><td>tampere</td></tr>\n",
              "</tbody>\n",
              "</table>\n"
            ],
            "text/markdown": "\nA data.frame: 17 × 4\n\n| height &lt;int&gt; | shoesize &lt;int&gt; | gender &lt;chr&gt; | population &lt;chr&gt; |\n|---|---|---|---|\n| 181 | 44 | male   | kuopio  |\n| 160 | 38 | female | kuopio  |\n| 174 | 42 | female | kuopio  |\n| 170 | 43 | male   | kuopio  |\n| 172 | 43 | male   | kuopio  |\n| 165 | 39 | female | kuopio  |\n| 161 | 38 | female | kuopio  |\n| 167 | 38 | female | tampere |\n| 164 | 39 | female | tampere |\n| 166 | 38 | female | tampere |\n| 162 | 37 | female | tampere |\n| 158 | 36 | female | tampere |\n| 175 | 42 | male   | tampere |\n| 181 | 44 | male   | tampere |\n| 180 | 43 | male   | tampere |\n| 177 | 43 | male   | tampere |\n| 173 | 41 | male   | tampere |\n\n",
            "text/latex": "A data.frame: 17 × 4\n\\begin{tabular}{llll}\n height & shoesize & gender & population\\\\\n <int> & <int> & <chr> & <chr>\\\\\n\\hline\n\t 181 & 44 & male   & kuopio \\\\\n\t 160 & 38 & female & kuopio \\\\\n\t 174 & 42 & female & kuopio \\\\\n\t 170 & 43 & male   & kuopio \\\\\n\t 172 & 43 & male   & kuopio \\\\\n\t 165 & 39 & female & kuopio \\\\\n\t 161 & 38 & female & kuopio \\\\\n\t 167 & 38 & female & tampere\\\\\n\t 164 & 39 & female & tampere\\\\\n\t 166 & 38 & female & tampere\\\\\n\t 162 & 37 & female & tampere\\\\\n\t 158 & 36 & female & tampere\\\\\n\t 175 & 42 & male   & tampere\\\\\n\t 181 & 44 & male   & tampere\\\\\n\t 180 & 43 & male   & tampere\\\\\n\t 177 & 43 & male   & tampere\\\\\n\t 173 & 41 & male   & tampere\\\\\n\\end{tabular}\n",
            "text/plain": [
              "   height shoesize gender population\n",
              "1  181    44       male   kuopio    \n",
              "2  160    38       female kuopio    \n",
              "3  174    42       female kuopio    \n",
              "4  170    43       male   kuopio    \n",
              "5  172    43       male   kuopio    \n",
              "6  165    39       female kuopio    \n",
              "7  161    38       female kuopio    \n",
              "8  167    38       female tampere   \n",
              "9  164    39       female tampere   \n",
              "10 166    38       female tampere   \n",
              "11 162    37       female tampere   \n",
              "12 158    36       female tampere   \n",
              "13 175    42       male   tampere   \n",
              "14 181    44       male   tampere   \n",
              "15 180    43       male   tampere   \n",
              "16 177    43       male   tampere   \n",
              "17 173    41       male   tampere   "
            ]
          },
          "metadata": {}
        }
      ]
    },
    {
      "cell_type": "code",
      "source": [],
      "metadata": {
        "id": "yAh07RkF67e8"
      },
      "execution_count": null,
      "outputs": []
    }
  ]
}