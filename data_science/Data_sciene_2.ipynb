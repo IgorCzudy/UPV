{
  "nbformat": 4,
  "nbformat_minor": 0,
  "metadata": {
    "colab": {
      "provenance": []
    },
    "kernelspec": {
      "name": "ir",
      "display_name": "R"
    },
    "language_info": {
      "name": "R"
    }
  },
  "cells": [
    {
      "cell_type": "markdown",
      "source": [
        "# Exercise 1: Inspection of data."
      ],
      "metadata": {
        "id": "ydaSpUKYxJXk"
      }
    },
    {
      "cell_type": "code",
      "execution_count": 1,
      "metadata": {
        "id": "IxKznz_mWoaM"
      },
      "outputs": [],
      "source": [
        "titanic <- read.csv(\"titanic.csv\",header=TRUE, sep=\",\")"
      ]
    },
    {
      "cell_type": "code",
      "source": [
        "names(titanic)"
      ],
      "metadata": {
        "colab": {
          "base_uri": "https://localhost:8080/",
          "height": 34
        },
        "id": "3iOn2ipiXAdf",
        "outputId": "11b0d6fc-d78c-4559-8b74-53d19f390f7a"
      },
      "execution_count": 2,
      "outputs": [
        {
          "output_type": "display_data",
          "data": {
            "text/html": [
              "<style>\n",
              ".list-inline {list-style: none; margin:0; padding: 0}\n",
              ".list-inline>li {display: inline-block}\n",
              ".list-inline>li:not(:last-child)::after {content: \"\\00b7\"; padding: 0 .5ex}\n",
              "</style>\n",
              "<ol class=list-inline><li>'X'</li><li>'Class'</li><li>'Sex'</li><li>'Age'</li><li>'Survived'</li><li>'Freq'</li></ol>\n"
            ],
            "text/markdown": "1. 'X'\n2. 'Class'\n3. 'Sex'\n4. 'Age'\n5. 'Survived'\n6. 'Freq'\n\n\n",
            "text/latex": "\\begin{enumerate*}\n\\item 'X'\n\\item 'Class'\n\\item 'Sex'\n\\item 'Age'\n\\item 'Survived'\n\\item 'Freq'\n\\end{enumerate*}\n",
            "text/plain": [
              "[1] \"X\"        \"Class\"    \"Sex\"      \"Age\"      \"Survived\" \"Freq\"    "
            ]
          },
          "metadata": {}
        }
      ]
    },
    {
      "cell_type": "code",
      "source": [
        "titanic<-subset(titanic,select=-X)\n",
        "# subset() tworzy nowego podzbioru ramki danych\n",
        "# select=-X To argument funkcji subset(), który określa, które kolumny zostaną wybrane lub odrzucone w nowym podzbiorze.\n",
        "# -X oznacza, że kolumna o nazwie \"X\" zostanie odrzucona z nowego podzbioru"
      ],
      "metadata": {
        "id": "Lo9uJDBfYMGD"
      },
      "execution_count": 3,
      "outputs": []
    },
    {
      "cell_type": "code",
      "source": [
        "names(titanic)"
      ],
      "metadata": {
        "colab": {
          "base_uri": "https://localhost:8080/",
          "height": 34
        },
        "id": "lcQGVyGeYRpP",
        "outputId": "ab4a703d-fafd-4cfe-ebdf-8ba51585a2fb"
      },
      "execution_count": 4,
      "outputs": [
        {
          "output_type": "display_data",
          "data": {
            "text/html": [
              "<style>\n",
              ".list-inline {list-style: none; margin:0; padding: 0}\n",
              ".list-inline>li {display: inline-block}\n",
              ".list-inline>li:not(:last-child)::after {content: \"\\00b7\"; padding: 0 .5ex}\n",
              "</style>\n",
              "<ol class=list-inline><li>'Class'</li><li>'Sex'</li><li>'Age'</li><li>'Survived'</li><li>'Freq'</li></ol>\n"
            ],
            "text/markdown": "1. 'Class'\n2. 'Sex'\n3. 'Age'\n4. 'Survived'\n5. 'Freq'\n\n\n",
            "text/latex": "\\begin{enumerate*}\n\\item 'Class'\n\\item 'Sex'\n\\item 'Age'\n\\item 'Survived'\n\\item 'Freq'\n\\end{enumerate*}\n",
            "text/plain": [
              "[1] \"Class\"    \"Sex\"      \"Age\"      \"Survived\" \"Freq\"    "
            ]
          },
          "metadata": {}
        }
      ]
    },
    {
      "cell_type": "code",
      "source": [
        "titanic"
      ],
      "metadata": {
        "colab": {
          "base_uri": "https://localhost:8080/",
          "height": 1000
        },
        "id": "f9C3q1VUYTMF",
        "outputId": "d41c9213-b8cd-4744-a08f-6bc68ccb99f5"
      },
      "execution_count": 5,
      "outputs": [
        {
          "output_type": "display_data",
          "data": {
            "text/html": [
              "<table class=\"dataframe\">\n",
              "<caption>A data.frame: 32 × 5</caption>\n",
              "<thead>\n",
              "\t<tr><th></th><th scope=col>Class</th><th scope=col>Sex</th><th scope=col>Age</th><th scope=col>Survived</th><th scope=col>Freq</th></tr>\n",
              "\t<tr><th></th><th scope=col>&lt;chr&gt;</th><th scope=col>&lt;chr&gt;</th><th scope=col>&lt;chr&gt;</th><th scope=col>&lt;chr&gt;</th><th scope=col>&lt;int&gt;</th></tr>\n",
              "</thead>\n",
              "<tbody>\n",
              "\t<tr><th scope=row>1</th><td>1st </td><td>Male  </td><td>Child</td><td>No </td><td>  0</td></tr>\n",
              "\t<tr><th scope=row>2</th><td>2nd </td><td>Male  </td><td>Child</td><td>No </td><td>  0</td></tr>\n",
              "\t<tr><th scope=row>3</th><td>3rd </td><td>Male  </td><td>Child</td><td>No </td><td> 35</td></tr>\n",
              "\t<tr><th scope=row>4</th><td>Crew</td><td>Male  </td><td>Child</td><td>No </td><td>  0</td></tr>\n",
              "\t<tr><th scope=row>5</th><td>1st </td><td>Female</td><td>Child</td><td>No </td><td>  0</td></tr>\n",
              "\t<tr><th scope=row>6</th><td>2nd </td><td>Female</td><td>Child</td><td>No </td><td>  0</td></tr>\n",
              "\t<tr><th scope=row>7</th><td>3rd </td><td>Female</td><td>Child</td><td>No </td><td> 17</td></tr>\n",
              "\t<tr><th scope=row>8</th><td>Crew</td><td>Female</td><td>Child</td><td>No </td><td>  0</td></tr>\n",
              "\t<tr><th scope=row>9</th><td>1st </td><td>Male  </td><td>Adult</td><td>No </td><td>118</td></tr>\n",
              "\t<tr><th scope=row>10</th><td>2nd </td><td>Male  </td><td>Adult</td><td>No </td><td>154</td></tr>\n",
              "\t<tr><th scope=row>11</th><td>3rd </td><td>Male  </td><td>Adult</td><td>No </td><td>387</td></tr>\n",
              "\t<tr><th scope=row>12</th><td>Crew</td><td>Male  </td><td>Adult</td><td>No </td><td>670</td></tr>\n",
              "\t<tr><th scope=row>13</th><td>1st </td><td>Female</td><td>Adult</td><td>No </td><td>  4</td></tr>\n",
              "\t<tr><th scope=row>14</th><td>2nd </td><td>Female</td><td>Adult</td><td>No </td><td> 13</td></tr>\n",
              "\t<tr><th scope=row>15</th><td>3rd </td><td>Female</td><td>Adult</td><td>No </td><td> 89</td></tr>\n",
              "\t<tr><th scope=row>16</th><td>Crew</td><td>Female</td><td>Adult</td><td>No </td><td>  3</td></tr>\n",
              "\t<tr><th scope=row>17</th><td>1st </td><td>Male  </td><td>Child</td><td>Yes</td><td>  5</td></tr>\n",
              "\t<tr><th scope=row>18</th><td>2nd </td><td>Male  </td><td>Child</td><td>Yes</td><td> 11</td></tr>\n",
              "\t<tr><th scope=row>19</th><td>3rd </td><td>Male  </td><td>Child</td><td>Yes</td><td> 13</td></tr>\n",
              "\t<tr><th scope=row>20</th><td>Crew</td><td>Male  </td><td>Child</td><td>Yes</td><td>  0</td></tr>\n",
              "\t<tr><th scope=row>21</th><td>1st </td><td>Female</td><td>Child</td><td>Yes</td><td>  1</td></tr>\n",
              "\t<tr><th scope=row>22</th><td>2nd </td><td>Female</td><td>Child</td><td>Yes</td><td> 13</td></tr>\n",
              "\t<tr><th scope=row>23</th><td>3rd </td><td>Female</td><td>Child</td><td>Yes</td><td> 14</td></tr>\n",
              "\t<tr><th scope=row>24</th><td>Crew</td><td>Female</td><td>Child</td><td>Yes</td><td>  0</td></tr>\n",
              "\t<tr><th scope=row>25</th><td>1st </td><td>Male  </td><td>Adult</td><td>Yes</td><td> 57</td></tr>\n",
              "\t<tr><th scope=row>26</th><td>2nd </td><td>Male  </td><td>Adult</td><td>Yes</td><td> 14</td></tr>\n",
              "\t<tr><th scope=row>27</th><td>3rd </td><td>Male  </td><td>Adult</td><td>Yes</td><td> 75</td></tr>\n",
              "\t<tr><th scope=row>28</th><td>Crew</td><td>Male  </td><td>Adult</td><td>Yes</td><td>192</td></tr>\n",
              "\t<tr><th scope=row>29</th><td>1st </td><td>Female</td><td>Adult</td><td>Yes</td><td>140</td></tr>\n",
              "\t<tr><th scope=row>30</th><td>2nd </td><td>Female</td><td>Adult</td><td>Yes</td><td> 80</td></tr>\n",
              "\t<tr><th scope=row>31</th><td>3rd </td><td>Female</td><td>Adult</td><td>Yes</td><td> 76</td></tr>\n",
              "\t<tr><th scope=row>32</th><td>Crew</td><td>Female</td><td>Adult</td><td>Yes</td><td> 20</td></tr>\n",
              "</tbody>\n",
              "</table>\n"
            ],
            "text/markdown": "\nA data.frame: 32 × 5\n\n| <!--/--> | Class &lt;chr&gt; | Sex &lt;chr&gt; | Age &lt;chr&gt; | Survived &lt;chr&gt; | Freq &lt;int&gt; |\n|---|---|---|---|---|---|\n| 1 | 1st  | Male   | Child | No  |   0 |\n| 2 | 2nd  | Male   | Child | No  |   0 |\n| 3 | 3rd  | Male   | Child | No  |  35 |\n| 4 | Crew | Male   | Child | No  |   0 |\n| 5 | 1st  | Female | Child | No  |   0 |\n| 6 | 2nd  | Female | Child | No  |   0 |\n| 7 | 3rd  | Female | Child | No  |  17 |\n| 8 | Crew | Female | Child | No  |   0 |\n| 9 | 1st  | Male   | Adult | No  | 118 |\n| 10 | 2nd  | Male   | Adult | No  | 154 |\n| 11 | 3rd  | Male   | Adult | No  | 387 |\n| 12 | Crew | Male   | Adult | No  | 670 |\n| 13 | 1st  | Female | Adult | No  |   4 |\n| 14 | 2nd  | Female | Adult | No  |  13 |\n| 15 | 3rd  | Female | Adult | No  |  89 |\n| 16 | Crew | Female | Adult | No  |   3 |\n| 17 | 1st  | Male   | Child | Yes |   5 |\n| 18 | 2nd  | Male   | Child | Yes |  11 |\n| 19 | 3rd  | Male   | Child | Yes |  13 |\n| 20 | Crew | Male   | Child | Yes |   0 |\n| 21 | 1st  | Female | Child | Yes |   1 |\n| 22 | 2nd  | Female | Child | Yes |  13 |\n| 23 | 3rd  | Female | Child | Yes |  14 |\n| 24 | Crew | Female | Child | Yes |   0 |\n| 25 | 1st  | Male   | Adult | Yes |  57 |\n| 26 | 2nd  | Male   | Adult | Yes |  14 |\n| 27 | 3rd  | Male   | Adult | Yes |  75 |\n| 28 | Crew | Male   | Adult | Yes | 192 |\n| 29 | 1st  | Female | Adult | Yes | 140 |\n| 30 | 2nd  | Female | Adult | Yes |  80 |\n| 31 | 3rd  | Female | Adult | Yes |  76 |\n| 32 | Crew | Female | Adult | Yes |  20 |\n\n",
            "text/latex": "A data.frame: 32 × 5\n\\begin{tabular}{r|lllll}\n  & Class & Sex & Age & Survived & Freq\\\\\n  & <chr> & <chr> & <chr> & <chr> & <int>\\\\\n\\hline\n\t1 & 1st  & Male   & Child & No  &   0\\\\\n\t2 & 2nd  & Male   & Child & No  &   0\\\\\n\t3 & 3rd  & Male   & Child & No  &  35\\\\\n\t4 & Crew & Male   & Child & No  &   0\\\\\n\t5 & 1st  & Female & Child & No  &   0\\\\\n\t6 & 2nd  & Female & Child & No  &   0\\\\\n\t7 & 3rd  & Female & Child & No  &  17\\\\\n\t8 & Crew & Female & Child & No  &   0\\\\\n\t9 & 1st  & Male   & Adult & No  & 118\\\\\n\t10 & 2nd  & Male   & Adult & No  & 154\\\\\n\t11 & 3rd  & Male   & Adult & No  & 387\\\\\n\t12 & Crew & Male   & Adult & No  & 670\\\\\n\t13 & 1st  & Female & Adult & No  &   4\\\\\n\t14 & 2nd  & Female & Adult & No  &  13\\\\\n\t15 & 3rd  & Female & Adult & No  &  89\\\\\n\t16 & Crew & Female & Adult & No  &   3\\\\\n\t17 & 1st  & Male   & Child & Yes &   5\\\\\n\t18 & 2nd  & Male   & Child & Yes &  11\\\\\n\t19 & 3rd  & Male   & Child & Yes &  13\\\\\n\t20 & Crew & Male   & Child & Yes &   0\\\\\n\t21 & 1st  & Female & Child & Yes &   1\\\\\n\t22 & 2nd  & Female & Child & Yes &  13\\\\\n\t23 & 3rd  & Female & Child & Yes &  14\\\\\n\t24 & Crew & Female & Child & Yes &   0\\\\\n\t25 & 1st  & Male   & Adult & Yes &  57\\\\\n\t26 & 2nd  & Male   & Adult & Yes &  14\\\\\n\t27 & 3rd  & Male   & Adult & Yes &  75\\\\\n\t28 & Crew & Male   & Adult & Yes & 192\\\\\n\t29 & 1st  & Female & Adult & Yes & 140\\\\\n\t30 & 2nd  & Female & Adult & Yes &  80\\\\\n\t31 & 3rd  & Female & Adult & Yes &  76\\\\\n\t32 & Crew & Female & Adult & Yes &  20\\\\\n\\end{tabular}\n",
            "text/plain": [
              "   Class Sex    Age   Survived Freq\n",
              "1  1st   Male   Child No         0 \n",
              "2  2nd   Male   Child No         0 \n",
              "3  3rd   Male   Child No        35 \n",
              "4  Crew  Male   Child No         0 \n",
              "5  1st   Female Child No         0 \n",
              "6  2nd   Female Child No         0 \n",
              "7  3rd   Female Child No        17 \n",
              "8  Crew  Female Child No         0 \n",
              "9  1st   Male   Adult No       118 \n",
              "10 2nd   Male   Adult No       154 \n",
              "11 3rd   Male   Adult No       387 \n",
              "12 Crew  Male   Adult No       670 \n",
              "13 1st   Female Adult No         4 \n",
              "14 2nd   Female Adult No        13 \n",
              "15 3rd   Female Adult No        89 \n",
              "16 Crew  Female Adult No         3 \n",
              "17 1st   Male   Child Yes        5 \n",
              "18 2nd   Male   Child Yes       11 \n",
              "19 3rd   Male   Child Yes       13 \n",
              "20 Crew  Male   Child Yes        0 \n",
              "21 1st   Female Child Yes        1 \n",
              "22 2nd   Female Child Yes       13 \n",
              "23 3rd   Female Child Yes       14 \n",
              "24 Crew  Female Child Yes        0 \n",
              "25 1st   Male   Adult Yes       57 \n",
              "26 2nd   Male   Adult Yes       14 \n",
              "27 3rd   Male   Adult Yes       75 \n",
              "28 Crew  Male   Adult Yes      192 \n",
              "29 1st   Female Adult Yes      140 \n",
              "30 2nd   Female Adult Yes       80 \n",
              "31 3rd   Female Adult Yes       76 \n",
              "32 Crew  Female Adult Yes       20 "
            ]
          },
          "metadata": {}
        }
      ]
    },
    {
      "cell_type": "code",
      "source": [
        "head(titanic)"
      ],
      "metadata": {
        "colab": {
          "base_uri": "https://localhost:8080/",
          "height": 286
        },
        "id": "cAtfovVZYWBx",
        "outputId": "56d612d2-d420-4658-a0c0-7625b60b4ed4"
      },
      "execution_count": 6,
      "outputs": [
        {
          "output_type": "display_data",
          "data": {
            "text/html": [
              "<table class=\"dataframe\">\n",
              "<caption>A data.frame: 6 × 5</caption>\n",
              "<thead>\n",
              "\t<tr><th></th><th scope=col>Class</th><th scope=col>Sex</th><th scope=col>Age</th><th scope=col>Survived</th><th scope=col>Freq</th></tr>\n",
              "\t<tr><th></th><th scope=col>&lt;chr&gt;</th><th scope=col>&lt;chr&gt;</th><th scope=col>&lt;chr&gt;</th><th scope=col>&lt;chr&gt;</th><th scope=col>&lt;int&gt;</th></tr>\n",
              "</thead>\n",
              "<tbody>\n",
              "\t<tr><th scope=row>1</th><td>1st </td><td>Male  </td><td>Child</td><td>No</td><td> 0</td></tr>\n",
              "\t<tr><th scope=row>2</th><td>2nd </td><td>Male  </td><td>Child</td><td>No</td><td> 0</td></tr>\n",
              "\t<tr><th scope=row>3</th><td>3rd </td><td>Male  </td><td>Child</td><td>No</td><td>35</td></tr>\n",
              "\t<tr><th scope=row>4</th><td>Crew</td><td>Male  </td><td>Child</td><td>No</td><td> 0</td></tr>\n",
              "\t<tr><th scope=row>5</th><td>1st </td><td>Female</td><td>Child</td><td>No</td><td> 0</td></tr>\n",
              "\t<tr><th scope=row>6</th><td>2nd </td><td>Female</td><td>Child</td><td>No</td><td> 0</td></tr>\n",
              "</tbody>\n",
              "</table>\n"
            ],
            "text/markdown": "\nA data.frame: 6 × 5\n\n| <!--/--> | Class &lt;chr&gt; | Sex &lt;chr&gt; | Age &lt;chr&gt; | Survived &lt;chr&gt; | Freq &lt;int&gt; |\n|---|---|---|---|---|---|\n| 1 | 1st  | Male   | Child | No |  0 |\n| 2 | 2nd  | Male   | Child | No |  0 |\n| 3 | 3rd  | Male   | Child | No | 35 |\n| 4 | Crew | Male   | Child | No |  0 |\n| 5 | 1st  | Female | Child | No |  0 |\n| 6 | 2nd  | Female | Child | No |  0 |\n\n",
            "text/latex": "A data.frame: 6 × 5\n\\begin{tabular}{r|lllll}\n  & Class & Sex & Age & Survived & Freq\\\\\n  & <chr> & <chr> & <chr> & <chr> & <int>\\\\\n\\hline\n\t1 & 1st  & Male   & Child & No &  0\\\\\n\t2 & 2nd  & Male   & Child & No &  0\\\\\n\t3 & 3rd  & Male   & Child & No & 35\\\\\n\t4 & Crew & Male   & Child & No &  0\\\\\n\t5 & 1st  & Female & Child & No &  0\\\\\n\t6 & 2nd  & Female & Child & No &  0\\\\\n\\end{tabular}\n",
            "text/plain": [
              "  Class Sex    Age   Survived Freq\n",
              "1 1st   Male   Child No        0  \n",
              "2 2nd   Male   Child No        0  \n",
              "3 3rd   Male   Child No       35  \n",
              "4 Crew  Male   Child No        0  \n",
              "5 1st   Female Child No        0  \n",
              "6 2nd   Female Child No        0  "
            ]
          },
          "metadata": {}
        }
      ]
    },
    {
      "cell_type": "code",
      "source": [
        "summary(titanic)"
      ],
      "metadata": {
        "colab": {
          "base_uri": "https://localhost:8080/",
          "height": 260
        },
        "id": "IfHstmqCYYeH",
        "outputId": "e96bed8d-80d6-43d3-af3f-244863aa7e35"
      },
      "execution_count": 7,
      "outputs": [
        {
          "output_type": "display_data",
          "data": {
            "text/plain": [
              "    Class               Sex                Age              Survived        \n",
              " Length:32          Length:32          Length:32          Length:32         \n",
              " Class :character   Class :character   Class :character   Class :character  \n",
              " Mode  :character   Mode  :character   Mode  :character   Mode  :character  \n",
              "                                                                            \n",
              "                                                                            \n",
              "                                                                            \n",
              "      Freq       \n",
              " Min.   :  0.00  \n",
              " 1st Qu.:  0.75  \n",
              " Median : 13.50  \n",
              " Mean   : 68.78  \n",
              " 3rd Qu.: 77.00  \n",
              " Max.   :670.00  "
            ]
          },
          "metadata": {}
        }
      ]
    },
    {
      "cell_type": "code",
      "source": [
        "plot(titanic)"
      ],
      "metadata": {
        "colab": {
          "base_uri": "https://localhost:8080/",
          "height": 437
        },
        "id": "ZHmSmIzyYaOr",
        "outputId": "927b0da8-8b3d-40f9-9cb5-5f77886d0b5a"
      },
      "execution_count": 8,
      "outputs": [
        {
          "output_type": "display_data",
          "data": {
            "text/plain": [
              "plot without title"
            ],
            "image/png": "[encoded data removed]"
          },
          "metadata": {
            "image/png": {
              "width": 420,
              "height": 420
            }
          }
        }
      ]
    },
    {
      "cell_type": "markdown",
      "source": [
        "Which variables are quantitative and which variables are categorical?\n",
        "How can we know it?\n",
        "\n",
        "Numerical is only \"Freq\" column. I know this from int sign after printing data."
      ],
      "metadata": {
        "id": "JiHjqkkFYhyj"
      }
    },
    {
      "cell_type": "markdown",
      "source": [
        "# Exercise 2: Working with basic graphics."
      ],
      "metadata": {
        "id": "lcBfprigyVt1"
      }
    },
    {
      "cell_type": "code",
      "source": [
        "cars <- read.csv(\"cars.csv\",header=TRUE, sep=\",\")"
      ],
      "metadata": {
        "id": "AO9y3ep7YcIy"
      },
      "execution_count": 9,
      "outputs": []
    },
    {
      "cell_type": "code",
      "source": [
        "head(cars, 3)"
      ],
      "metadata": {
        "colab": {
          "base_uri": "https://localhost:8080/",
          "height": 192
        },
        "id": "Pc-dyDf-ZOf2",
        "outputId": "4e3d89f0-0ba6-4011-fff5-5e58783b57f3"
      },
      "execution_count": 10,
      "outputs": [
        {
          "output_type": "display_data",
          "data": {
            "text/html": [
              "<table class=\"dataframe\">\n",
              "<caption>A data.frame: 3 × 3</caption>\n",
              "<thead>\n",
              "\t<tr><th></th><th scope=col>X</th><th scope=col>speed</th><th scope=col>dist</th></tr>\n",
              "\t<tr><th></th><th scope=col>&lt;int&gt;</th><th scope=col>&lt;int&gt;</th><th scope=col>&lt;int&gt;</th></tr>\n",
              "</thead>\n",
              "<tbody>\n",
              "\t<tr><th scope=row>1</th><td>1</td><td>4</td><td> 2</td></tr>\n",
              "\t<tr><th scope=row>2</th><td>2</td><td>4</td><td>10</td></tr>\n",
              "\t<tr><th scope=row>3</th><td>3</td><td>7</td><td> 4</td></tr>\n",
              "</tbody>\n",
              "</table>\n"
            ],
            "text/markdown": "\nA data.frame: 3 × 3\n\n| <!--/--> | X &lt;int&gt; | speed &lt;int&gt; | dist &lt;int&gt; |\n|---|---|---|---|\n| 1 | 1 | 4 |  2 |\n| 2 | 2 | 4 | 10 |\n| 3 | 3 | 7 |  4 |\n\n",
            "text/latex": "A data.frame: 3 × 3\n\\begin{tabular}{r|lll}\n  & X & speed & dist\\\\\n  & <int> & <int> & <int>\\\\\n\\hline\n\t1 & 1 & 4 &  2\\\\\n\t2 & 2 & 4 & 10\\\\\n\t3 & 3 & 7 &  4\\\\\n\\end{tabular}\n",
            "text/plain": [
              "  X speed dist\n",
              "1 1 4      2  \n",
              "2 2 4     10  \n",
              "3 3 7      4  "
            ]
          },
          "metadata": {}
        }
      ]
    },
    {
      "cell_type": "code",
      "source": [
        "pdf(\"plot1.pdf\")\n",
        "plot(cars$speed, cars$dist,\n",
        "     xlab = \"Speed\", ylab = \"Distance\",\n",
        "     main = \"Stopping Distances of Cars\",\n",
        "     pch = 16, col = \"blue\") #pch różne symbole\n",
        "dev.off()\n"
      ],
      "metadata": {
        "colab": {
          "base_uri": "https://localhost:8080/",
          "height": 34
        },
        "id": "Nzml858cZPs1",
        "outputId": "2b393c64-f9fa-47ca-84e8-7be074baca56"
      },
      "execution_count": 11,
      "outputs": [
        {
          "output_type": "display_data",
          "data": {
            "text/html": [
              "<strong>png:</strong> 2"
            ],
            "text/markdown": "**png:** 2",
            "text/latex": "\\textbf{png:} 2",
            "text/plain": [
              "png \n",
              "  2 "
            ]
          },
          "metadata": {}
        }
      ]
    },
    {
      "cell_type": "code",
      "source": [
        "pdf(\"plot2.pdf\")\n",
        "hist(cars$dist,\n",
        "     main = \"Histogram of Distance\",\n",
        "     xlab = \"Distance\",\n",
        "     ylab = \"Frequency\",\n",
        "     col = \"lightblue\",\n",
        "     border = \"black\") # obramowanie słupków\n",
        "dev.off()\n"
      ],
      "metadata": {
        "colab": {
          "base_uri": "https://localhost:8080/",
          "height": 34
        },
        "id": "K7jdWm9oZcln",
        "outputId": "7dd249fb-449e-4841-cb82-d6aa6452b477"
      },
      "execution_count": 12,
      "outputs": [
        {
          "output_type": "display_data",
          "data": {
            "text/html": [
              "<strong>png:</strong> 2"
            ],
            "text/markdown": "**png:** 2",
            "text/latex": "\\textbf{png:} 2",
            "text/plain": [
              "png \n",
              "  2 "
            ]
          },
          "metadata": {}
        }
      ]
    },
    {
      "cell_type": "code",
      "source": [
        "pdf(\"plot3.pdf\")\n",
        "hist(cars$speed,\n",
        "     main = \"Histogram of speed\",\n",
        "     xlab = \"speed\",\n",
        "     ylab = \"Frequency\",\n",
        "     col = \"lightblue\",\n",
        "     border = \"black\")\n",
        "dev.off()  # Close the PDF device\n"
      ],
      "metadata": {
        "colab": {
          "base_uri": "https://localhost:8080/",
          "height": 34
        },
        "id": "weowUpW7Z3p9",
        "outputId": "c7ecc120-3b4f-463e-89a9-4d54c0f098a9"
      },
      "execution_count": 13,
      "outputs": [
        {
          "output_type": "display_data",
          "data": {
            "text/html": [
              "<strong>png:</strong> 2"
            ],
            "text/markdown": "**png:** 2",
            "text/latex": "\\textbf{png:} 2",
            "text/plain": [
              "png \n",
              "  2 "
            ]
          },
          "metadata": {}
        }
      ]
    },
    {
      "cell_type": "markdown",
      "source": [
        "# Exercise 3: Transformations of variables and datasets."
      ],
      "metadata": {
        "id": "M7c-mTQ0y8-i"
      }
    },
    {
      "cell_type": "code",
      "source": [
        "cars <- cars[, -1] # select all col beside first one"
      ],
      "metadata": {
        "id": "2FW8kKAOaJDH"
      },
      "execution_count": 14,
      "outputs": []
    },
    {
      "cell_type": "code",
      "source": [
        "head(cars, 3)"
      ],
      "metadata": {
        "colab": {
          "base_uri": "https://localhost:8080/",
          "height": 192
        },
        "id": "J5ym1mYUbUw3",
        "outputId": "b7674e12-a64c-4ff6-c118-e8c3a520cec1"
      },
      "execution_count": 15,
      "outputs": [
        {
          "output_type": "display_data",
          "data": {
            "text/html": [
              "<table class=\"dataframe\">\n",
              "<caption>A data.frame: 3 × 2</caption>\n",
              "<thead>\n",
              "\t<tr><th></th><th scope=col>speed</th><th scope=col>dist</th></tr>\n",
              "\t<tr><th></th><th scope=col>&lt;int&gt;</th><th scope=col>&lt;int&gt;</th></tr>\n",
              "</thead>\n",
              "<tbody>\n",
              "\t<tr><th scope=row>1</th><td>4</td><td> 2</td></tr>\n",
              "\t<tr><th scope=row>2</th><td>4</td><td>10</td></tr>\n",
              "\t<tr><th scope=row>3</th><td>7</td><td> 4</td></tr>\n",
              "</tbody>\n",
              "</table>\n"
            ],
            "text/markdown": "\nA data.frame: 3 × 2\n\n| <!--/--> | speed &lt;int&gt; | dist &lt;int&gt; |\n|---|---|---|\n| 1 | 4 |  2 |\n| 2 | 4 | 10 |\n| 3 | 7 |  4 |\n\n",
            "text/latex": "A data.frame: 3 × 2\n\\begin{tabular}{r|ll}\n  & speed & dist\\\\\n  & <int> & <int>\\\\\n\\hline\n\t1 & 4 &  2\\\\\n\t2 & 4 & 10\\\\\n\t3 & 7 &  4\\\\\n\\end{tabular}\n",
            "text/plain": [
              "  speed dist\n",
              "1 4      2  \n",
              "2 4     10  \n",
              "3 7      4  "
            ]
          },
          "metadata": {}
        }
      ]
    },
    {
      "cell_type": "code",
      "source": [
        "new_data <- data.frame(\n",
        "  speed = c(21, 34),\n",
        "  dist = c(47, 87)\n",
        ")\n",
        "head(new_data)"
      ],
      "metadata": {
        "colab": {
          "base_uri": "https://localhost:8080/",
          "height": 161
        },
        "id": "8w6ROvgubVXn",
        "outputId": "fdc193cd-06ec-42c5-8235-573b879f49d1"
      },
      "execution_count": 16,
      "outputs": [
        {
          "output_type": "display_data",
          "data": {
            "text/html": [
              "<table class=\"dataframe\">\n",
              "<caption>A data.frame: 2 × 2</caption>\n",
              "<thead>\n",
              "\t<tr><th></th><th scope=col>speed</th><th scope=col>dist</th></tr>\n",
              "\t<tr><th></th><th scope=col>&lt;dbl&gt;</th><th scope=col>&lt;dbl&gt;</th></tr>\n",
              "</thead>\n",
              "<tbody>\n",
              "\t<tr><th scope=row>1</th><td>21</td><td>47</td></tr>\n",
              "\t<tr><th scope=row>2</th><td>34</td><td>87</td></tr>\n",
              "</tbody>\n",
              "</table>\n"
            ],
            "text/markdown": "\nA data.frame: 2 × 2\n\n| <!--/--> | speed &lt;dbl&gt; | dist &lt;dbl&gt; |\n|---|---|---|\n| 1 | 21 | 47 |\n| 2 | 34 | 87 |\n\n",
            "text/latex": "A data.frame: 2 × 2\n\\begin{tabular}{r|ll}\n  & speed & dist\\\\\n  & <dbl> & <dbl>\\\\\n\\hline\n\t1 & 21 & 47\\\\\n\t2 & 34 & 87\\\\\n\\end{tabular}\n",
            "text/plain": [
              "  speed dist\n",
              "1 21    47  \n",
              "2 34    87  "
            ]
          },
          "metadata": {}
        }
      ]
    },
    {
      "cell_type": "code",
      "source": [
        "cars <- rbind(cars, new_data) # wykonuje operację łączenia dwóch ram danych wzdłuż osi wierszy\n",
        "tail(cars)"
      ],
      "metadata": {
        "colab": {
          "base_uri": "https://localhost:8080/",
          "height": 286
        },
        "id": "lvP-pMbYbio7",
        "outputId": "1aeb1713-b676-426c-dadb-bc028c661e44"
      },
      "execution_count": 17,
      "outputs": [
        {
          "output_type": "display_data",
          "data": {
            "text/html": [
              "<table class=\"dataframe\">\n",
              "<caption>A data.frame: 6 × 2</caption>\n",
              "<thead>\n",
              "\t<tr><th></th><th scope=col>speed</th><th scope=col>dist</th></tr>\n",
              "\t<tr><th></th><th scope=col>&lt;dbl&gt;</th><th scope=col>&lt;dbl&gt;</th></tr>\n",
              "</thead>\n",
              "<tbody>\n",
              "\t<tr><th scope=row>47</th><td>24</td><td> 92</td></tr>\n",
              "\t<tr><th scope=row>48</th><td>24</td><td> 93</td></tr>\n",
              "\t<tr><th scope=row>49</th><td>24</td><td>120</td></tr>\n",
              "\t<tr><th scope=row>50</th><td>25</td><td> 85</td></tr>\n",
              "\t<tr><th scope=row>51</th><td>21</td><td> 47</td></tr>\n",
              "\t<tr><th scope=row>52</th><td>34</td><td> 87</td></tr>\n",
              "</tbody>\n",
              "</table>\n"
            ],
            "text/markdown": "\nA data.frame: 6 × 2\n\n| <!--/--> | speed &lt;dbl&gt; | dist &lt;dbl&gt; |\n|---|---|---|\n| 47 | 24 |  92 |\n| 48 | 24 |  93 |\n| 49 | 24 | 120 |\n| 50 | 25 |  85 |\n| 51 | 21 |  47 |\n| 52 | 34 |  87 |\n\n",
            "text/latex": "A data.frame: 6 × 2\n\\begin{tabular}{r|ll}\n  & speed & dist\\\\\n  & <dbl> & <dbl>\\\\\n\\hline\n\t47 & 24 &  92\\\\\n\t48 & 24 &  93\\\\\n\t49 & 24 & 120\\\\\n\t50 & 25 &  85\\\\\n\t51 & 21 &  47\\\\\n\t52 & 34 &  87\\\\\n\\end{tabular}\n",
            "text/plain": [
              "   speed dist\n",
              "47 24     92 \n",
              "48 24     93 \n",
              "49 24    120 \n",
              "50 25     85 \n",
              "51 21     47 \n",
              "52 34     87 "
            ]
          },
          "metadata": {}
        }
      ]
    },
    {
      "cell_type": "code",
      "source": [
        "order(cars$speed) # to sortuje, po czym używamy tych indeksów"
      ],
      "metadata": {
        "colab": {
          "base_uri": "https://localhost:8080/",
          "height": 52
        },
        "id": "mFGRBzrZze6a",
        "outputId": "a4950cb0-cd29-43e0-a34a-e8f95d8a48b5"
      },
      "execution_count": 18,
      "outputs": [
        {
          "output_type": "display_data",
          "data": {
            "text/html": [
              "<style>\n",
              ".list-inline {list-style: none; margin:0; padding: 0}\n",
              ".list-inline>li {display: inline-block}\n",
              ".list-inline>li:not(:last-child)::after {content: \"\\00b7\"; padding: 0 .5ex}\n",
              "</style>\n",
              "<ol class=list-inline><li>1</li><li>2</li><li>3</li><li>4</li><li>5</li><li>6</li><li>7</li><li>8</li><li>9</li><li>10</li><li>11</li><li>12</li><li>13</li><li>14</li><li>15</li><li>16</li><li>17</li><li>18</li><li>19</li><li>20</li><li>21</li><li>22</li><li>23</li><li>24</li><li>25</li><li>26</li><li>27</li><li>28</li><li>29</li><li>30</li><li>31</li><li>32</li><li>33</li><li>34</li><li>35</li><li>36</li><li>37</li><li>38</li><li>39</li><li>40</li><li>41</li><li>42</li><li>43</li><li>51</li><li>44</li><li>45</li><li>46</li><li>47</li><li>48</li><li>49</li><li>50</li><li>52</li></ol>\n"
            ],
            "text/markdown": "1. 1\n2. 2\n3. 3\n4. 4\n5. 5\n6. 6\n7. 7\n8. 8\n9. 9\n10. 10\n11. 11\n12. 12\n13. 13\n14. 14\n15. 15\n16. 16\n17. 17\n18. 18\n19. 19\n20. 20\n21. 21\n22. 22\n23. 23\n24. 24\n25. 25\n26. 26\n27. 27\n28. 28\n29. 29\n30. 30\n31. 31\n32. 32\n33. 33\n34. 34\n35. 35\n36. 36\n37. 37\n38. 38\n39. 39\n40. 40\n41. 41\n42. 42\n43. 43\n44. 51\n45. 44\n46. 45\n47. 46\n48. 47\n49. 48\n50. 49\n51. 50\n52. 52\n\n\n",
            "text/latex": "\\begin{enumerate*}\n\\item 1\n\\item 2\n\\item 3\n\\item 4\n\\item 5\n\\item 6\n\\item 7\n\\item 8\n\\item 9\n\\item 10\n\\item 11\n\\item 12\n\\item 13\n\\item 14\n\\item 15\n\\item 16\n\\item 17\n\\item 18\n\\item 19\n\\item 20\n\\item 21\n\\item 22\n\\item 23\n\\item 24\n\\item 25\n\\item 26\n\\item 27\n\\item 28\n\\item 29\n\\item 30\n\\item 31\n\\item 32\n\\item 33\n\\item 34\n\\item 35\n\\item 36\n\\item 37\n\\item 38\n\\item 39\n\\item 40\n\\item 41\n\\item 42\n\\item 43\n\\item 51\n\\item 44\n\\item 45\n\\item 46\n\\item 47\n\\item 48\n\\item 49\n\\item 50\n\\item 52\n\\end{enumerate*}\n",
            "text/plain": [
              " [1]  1  2  3  4  5  6  7  8  9 10 11 12 13 14 15 16 17 18 19 20 21 22 23 24 25\n",
              "[26] 26 27 28 29 30 31 32 33 34 35 36 37 38 39 40 41 42 43 51 44 45 46 47 48 49\n",
              "[51] 50 52"
            ]
          },
          "metadata": {}
        }
      ]
    },
    {
      "cell_type": "code",
      "source": [
        "sorted_data_cars <- cars[order(cars$speed), ]\n",
        "head(sorted_data_cars)"
      ],
      "metadata": {
        "colab": {
          "base_uri": "https://localhost:8080/",
          "height": 286
        },
        "id": "d-rj5BYrbuad",
        "outputId": "6a46588d-1be3-4c36-a20d-b94d988f7eea"
      },
      "execution_count": 19,
      "outputs": [
        {
          "output_type": "display_data",
          "data": {
            "text/html": [
              "<table class=\"dataframe\">\n",
              "<caption>A data.frame: 6 × 2</caption>\n",
              "<thead>\n",
              "\t<tr><th></th><th scope=col>speed</th><th scope=col>dist</th></tr>\n",
              "\t<tr><th></th><th scope=col>&lt;dbl&gt;</th><th scope=col>&lt;dbl&gt;</th></tr>\n",
              "</thead>\n",
              "<tbody>\n",
              "\t<tr><th scope=row>1</th><td>4</td><td> 2</td></tr>\n",
              "\t<tr><th scope=row>2</th><td>4</td><td>10</td></tr>\n",
              "\t<tr><th scope=row>3</th><td>7</td><td> 4</td></tr>\n",
              "\t<tr><th scope=row>4</th><td>7</td><td>22</td></tr>\n",
              "\t<tr><th scope=row>5</th><td>8</td><td>16</td></tr>\n",
              "\t<tr><th scope=row>6</th><td>9</td><td>10</td></tr>\n",
              "</tbody>\n",
              "</table>\n"
            ],
            "text/markdown": "\nA data.frame: 6 × 2\n\n| <!--/--> | speed &lt;dbl&gt; | dist &lt;dbl&gt; |\n|---|---|---|\n| 1 | 4 |  2 |\n| 2 | 4 | 10 |\n| 3 | 7 |  4 |\n| 4 | 7 | 22 |\n| 5 | 8 | 16 |\n| 6 | 9 | 10 |\n\n",
            "text/latex": "A data.frame: 6 × 2\n\\begin{tabular}{r|ll}\n  & speed & dist\\\\\n  & <dbl> & <dbl>\\\\\n\\hline\n\t1 & 4 &  2\\\\\n\t2 & 4 & 10\\\\\n\t3 & 7 &  4\\\\\n\t4 & 7 & 22\\\\\n\t5 & 8 & 16\\\\\n\t6 & 9 & 10\\\\\n\\end{tabular}\n",
            "text/plain": [
              "  speed dist\n",
              "1 4      2  \n",
              "2 4     10  \n",
              "3 7      4  \n",
              "4 7     22  \n",
              "5 8     16  \n",
              "6 9     10  "
            ]
          },
          "metadata": {}
        }
      ]
    },
    {
      "cell_type": "code",
      "source": [
        "sorted_data_cars_2 <- with(cars, cars[order(speed), ]) # można to zrobić bez użycia $\n",
        "head(sorted_data_cars_2)\n"
      ],
      "metadata": {
        "colab": {
          "base_uri": "https://localhost:8080/",
          "height": 286
        },
        "id": "bZ4UNyp2cRcq",
        "outputId": "f132eba9-0f42-4ed0-d92b-e19e1bd3b331"
      },
      "execution_count": 20,
      "outputs": [
        {
          "output_type": "display_data",
          "data": {
            "text/html": [
              "<table class=\"dataframe\">\n",
              "<caption>A data.frame: 6 × 2</caption>\n",
              "<thead>\n",
              "\t<tr><th></th><th scope=col>speed</th><th scope=col>dist</th></tr>\n",
              "\t<tr><th></th><th scope=col>&lt;dbl&gt;</th><th scope=col>&lt;dbl&gt;</th></tr>\n",
              "</thead>\n",
              "<tbody>\n",
              "\t<tr><th scope=row>1</th><td>4</td><td> 2</td></tr>\n",
              "\t<tr><th scope=row>2</th><td>4</td><td>10</td></tr>\n",
              "\t<tr><th scope=row>3</th><td>7</td><td> 4</td></tr>\n",
              "\t<tr><th scope=row>4</th><td>7</td><td>22</td></tr>\n",
              "\t<tr><th scope=row>5</th><td>8</td><td>16</td></tr>\n",
              "\t<tr><th scope=row>6</th><td>9</td><td>10</td></tr>\n",
              "</tbody>\n",
              "</table>\n"
            ],
            "text/markdown": "\nA data.frame: 6 × 2\n\n| <!--/--> | speed &lt;dbl&gt; | dist &lt;dbl&gt; |\n|---|---|---|\n| 1 | 4 |  2 |\n| 2 | 4 | 10 |\n| 3 | 7 |  4 |\n| 4 | 7 | 22 |\n| 5 | 8 | 16 |\n| 6 | 9 | 10 |\n\n",
            "text/latex": "A data.frame: 6 × 2\n\\begin{tabular}{r|ll}\n  & speed & dist\\\\\n  & <dbl> & <dbl>\\\\\n\\hline\n\t1 & 4 &  2\\\\\n\t2 & 4 & 10\\\\\n\t3 & 7 &  4\\\\\n\t4 & 7 & 22\\\\\n\t5 & 8 & 16\\\\\n\t6 & 9 & 10\\\\\n\\end{tabular}\n",
            "text/plain": [
              "  speed dist\n",
              "1 4      2  \n",
              "2 4     10  \n",
              "3 7      4  \n",
              "4 7     22  \n",
              "5 8     16  \n",
              "6 9     10  "
            ]
          },
          "metadata": {}
        }
      ]
    },
    {
      "cell_type": "markdown",
      "source": [
        "# Exercise 4: Data manipulation."
      ],
      "metadata": {
        "id": "6U-1_C7t0ExP"
      }
    },
    {
      "cell_type": "code",
      "source": [
        "airquality_data <- read.csv(\"airquality.csv\")\n",
        "head(airquality_data, 2)\n"
      ],
      "metadata": {
        "colab": {
          "base_uri": "https://localhost:8080/",
          "height": 161
        },
        "id": "xfDmHwMocgN9",
        "outputId": "9832e067-8ebb-4cf6-dcbc-95610811ebfa"
      },
      "execution_count": 21,
      "outputs": [
        {
          "output_type": "display_data",
          "data": {
            "text/html": [
              "<table class=\"dataframe\">\n",
              "<caption>A data.frame: 2 × 6</caption>\n",
              "<thead>\n",
              "\t<tr><th></th><th scope=col>Ozone</th><th scope=col>Solar.R</th><th scope=col>Wind</th><th scope=col>Temp</th><th scope=col>Month</th><th scope=col>Day</th></tr>\n",
              "\t<tr><th></th><th scope=col>&lt;int&gt;</th><th scope=col>&lt;int&gt;</th><th scope=col>&lt;dbl&gt;</th><th scope=col>&lt;int&gt;</th><th scope=col>&lt;int&gt;</th><th scope=col>&lt;int&gt;</th></tr>\n",
              "</thead>\n",
              "<tbody>\n",
              "\t<tr><th scope=row>1</th><td>41</td><td>190</td><td>7.4</td><td>67</td><td>5</td><td>1</td></tr>\n",
              "\t<tr><th scope=row>2</th><td>36</td><td>118</td><td>8.0</td><td>72</td><td>5</td><td>2</td></tr>\n",
              "</tbody>\n",
              "</table>\n"
            ],
            "text/markdown": "\nA data.frame: 2 × 6\n\n| <!--/--> | Ozone &lt;int&gt; | Solar.R &lt;int&gt; | Wind &lt;dbl&gt; | Temp &lt;int&gt; | Month &lt;int&gt; | Day &lt;int&gt; |\n|---|---|---|---|---|---|---|\n| 1 | 41 | 190 | 7.4 | 67 | 5 | 1 |\n| 2 | 36 | 118 | 8.0 | 72 | 5 | 2 |\n\n",
            "text/latex": "A data.frame: 2 × 6\n\\begin{tabular}{r|llllll}\n  & Ozone & Solar.R & Wind & Temp & Month & Day\\\\\n  & <int> & <int> & <dbl> & <int> & <int> & <int>\\\\\n\\hline\n\t1 & 41 & 190 & 7.4 & 67 & 5 & 1\\\\\n\t2 & 36 & 118 & 8.0 & 72 & 5 & 2\\\\\n\\end{tabular}\n",
            "text/plain": [
              "  Ozone Solar.R Wind Temp Month Day\n",
              "1 41    190     7.4  67   5     1  \n",
              "2 36    118     8.0  72   5     2  "
            ]
          },
          "metadata": {}
        }
      ]
    },
    {
      "cell_type": "code",
      "source": [
        "airquality_data[1:2,]"
      ],
      "metadata": {
        "colab": {
          "base_uri": "https://localhost:8080/",
          "height": 161
        },
        "id": "Mab4elXm0WF7",
        "outputId": "7015a543-06b5-410e-e333-1304c56f31d6"
      },
      "execution_count": 22,
      "outputs": [
        {
          "output_type": "display_data",
          "data": {
            "text/html": [
              "<table class=\"dataframe\">\n",
              "<caption>A data.frame: 2 × 6</caption>\n",
              "<thead>\n",
              "\t<tr><th></th><th scope=col>Ozone</th><th scope=col>Solar.R</th><th scope=col>Wind</th><th scope=col>Temp</th><th scope=col>Month</th><th scope=col>Day</th></tr>\n",
              "\t<tr><th></th><th scope=col>&lt;int&gt;</th><th scope=col>&lt;int&gt;</th><th scope=col>&lt;dbl&gt;</th><th scope=col>&lt;int&gt;</th><th scope=col>&lt;int&gt;</th><th scope=col>&lt;int&gt;</th></tr>\n",
              "</thead>\n",
              "<tbody>\n",
              "\t<tr><th scope=row>1</th><td>41</td><td>190</td><td>7.4</td><td>67</td><td>5</td><td>1</td></tr>\n",
              "\t<tr><th scope=row>2</th><td>36</td><td>118</td><td>8.0</td><td>72</td><td>5</td><td>2</td></tr>\n",
              "</tbody>\n",
              "</table>\n"
            ],
            "text/markdown": "\nA data.frame: 2 × 6\n\n| <!--/--> | Ozone &lt;int&gt; | Solar.R &lt;int&gt; | Wind &lt;dbl&gt; | Temp &lt;int&gt; | Month &lt;int&gt; | Day &lt;int&gt; |\n|---|---|---|---|---|---|---|\n| 1 | 41 | 190 | 7.4 | 67 | 5 | 1 |\n| 2 | 36 | 118 | 8.0 | 72 | 5 | 2 |\n\n",
            "text/latex": "A data.frame: 2 × 6\n\\begin{tabular}{r|llllll}\n  & Ozone & Solar.R & Wind & Temp & Month & Day\\\\\n  & <int> & <int> & <dbl> & <int> & <int> & <int>\\\\\n\\hline\n\t1 & 41 & 190 & 7.4 & 67 & 5 & 1\\\\\n\t2 & 36 & 118 & 8.0 & 72 & 5 & 2\\\\\n\\end{tabular}\n",
            "text/plain": [
              "  Ozone Solar.R Wind Temp Month Day\n",
              "1 41    190     7.4  67   5     1  \n",
              "2 36    118     8.0  72   5     2  "
            ]
          },
          "metadata": {}
        }
      ]
    },
    {
      "cell_type": "markdown",
      "source": [
        "The output looks like we have mesurments of ozone, solar.r, wind, temperature for eatch day and month."
      ],
      "metadata": {
        "id": "LOdgIhcKePFL"
      }
    },
    {
      "cell_type": "code",
      "source": [
        "nrow(airquality_data)"
      ],
      "metadata": {
        "colab": {
          "base_uri": "https://localhost:8080/",
          "height": 34
        },
        "id": "r9FmbMPCeHgo",
        "outputId": "a3230030-fb5d-4ce2-84b9-a9f313a401c1"
      },
      "execution_count": 23,
      "outputs": [
        {
          "output_type": "display_data",
          "data": {
            "text/html": [
              "153"
            ],
            "text/markdown": "153",
            "text/latex": "153",
            "text/plain": [
              "[1] 153"
            ]
          },
          "metadata": {}
        }
      ]
    },
    {
      "cell_type": "markdown",
      "source": [
        "We have 153 observation"
      ],
      "metadata": {
        "id": "x5nEoidhexE9"
      }
    },
    {
      "cell_type": "code",
      "source": [
        "airquality_data$Ozone[40]"
      ],
      "metadata": {
        "colab": {
          "base_uri": "https://localhost:8080/",
          "height": 34
        },
        "id": "7TIKyVMvevbE",
        "outputId": "d81af503-620e-49be-987f-96eb5add3e2b"
      },
      "execution_count": 24,
      "outputs": [
        {
          "output_type": "display_data",
          "data": {
            "text/html": [
              "71"
            ],
            "text/markdown": "71",
            "text/latex": "71",
            "text/plain": [
              "[1] 71"
            ]
          },
          "metadata": {}
        }
      ]
    },
    {
      "cell_type": "markdown",
      "source": [
        "The 40th value od Ozone is 71"
      ],
      "metadata": {
        "id": "JokhheBQ05rV"
      }
    },
    {
      "cell_type": "code",
      "source": [
        "is.na(airquality_data$Ozone)"
      ],
      "metadata": {
        "colab": {
          "base_uri": "https://localhost:8080/",
          "height": 191
        },
        "id": "RHsto1XGfF4Q",
        "outputId": "fdc6cc64-e0af-4c54-d482-b205c2f5442f"
      },
      "execution_count": 25,
      "outputs": [
        {
          "output_type": "display_data",
          "data": {
            "text/html": [
              "<style>\n",
              ".list-inline {list-style: none; margin:0; padding: 0}\n",
              ".list-inline>li {display: inline-block}\n",
              ".list-inline>li:not(:last-child)::after {content: \"\\00b7\"; padding: 0 .5ex}\n",
              "</style>\n",
              "<ol class=list-inline><li>FALSE</li><li>FALSE</li><li>FALSE</li><li>FALSE</li><li>TRUE</li><li>FALSE</li><li>FALSE</li><li>FALSE</li><li>FALSE</li><li>TRUE</li><li>FALSE</li><li>FALSE</li><li>FALSE</li><li>FALSE</li><li>FALSE</li><li>FALSE</li><li>FALSE</li><li>FALSE</li><li>FALSE</li><li>FALSE</li><li>FALSE</li><li>FALSE</li><li>FALSE</li><li>FALSE</li><li>TRUE</li><li>TRUE</li><li>TRUE</li><li>FALSE</li><li>FALSE</li><li>FALSE</li><li>FALSE</li><li>TRUE</li><li>TRUE</li><li>TRUE</li><li>TRUE</li><li>TRUE</li><li>TRUE</li><li>FALSE</li><li>TRUE</li><li>FALSE</li><li>FALSE</li><li>TRUE</li><li>TRUE</li><li>FALSE</li><li>TRUE</li><li>TRUE</li><li>FALSE</li><li>FALSE</li><li>FALSE</li><li>FALSE</li><li>FALSE</li><li>TRUE</li><li>TRUE</li><li>TRUE</li><li>TRUE</li><li>TRUE</li><li>TRUE</li><li>TRUE</li><li>TRUE</li><li>TRUE</li><li>TRUE</li><li>FALSE</li><li>FALSE</li><li>FALSE</li><li>TRUE</li><li>FALSE</li><li>FALSE</li><li>FALSE</li><li>FALSE</li><li>FALSE</li><li>FALSE</li><li>TRUE</li><li>FALSE</li><li>FALSE</li><li>TRUE</li><li>FALSE</li><li>FALSE</li><li>FALSE</li><li>FALSE</li><li>FALSE</li><li>FALSE</li><li>FALSE</li><li>TRUE</li><li>TRUE</li><li>FALSE</li><li>FALSE</li><li>FALSE</li><li>FALSE</li><li>FALSE</li><li>FALSE</li><li>FALSE</li><li>FALSE</li><li>FALSE</li><li>FALSE</li><li>FALSE</li><li>FALSE</li><li>FALSE</li><li>FALSE</li><li>FALSE</li><li>FALSE</li><li>FALSE</li><li>TRUE</li><li>TRUE</li><li>FALSE</li><li>FALSE</li><li>FALSE</li><li>TRUE</li><li>FALSE</li><li>FALSE</li><li>FALSE</li><li>FALSE</li><li>FALSE</li><li>FALSE</li><li>FALSE</li><li>TRUE</li><li>FALSE</li><li>FALSE</li><li>FALSE</li><li>TRUE</li><li>FALSE</li><li>FALSE</li><li>FALSE</li><li>FALSE</li><li>FALSE</li><li>FALSE</li><li>FALSE</li><li>FALSE</li><li>FALSE</li><li>FALSE</li><li>FALSE</li><li>FALSE</li><li>FALSE</li><li>FALSE</li><li>FALSE</li><li>FALSE</li><li>FALSE</li><li>FALSE</li><li>FALSE</li><li>FALSE</li><li>FALSE</li><li>FALSE</li><li>FALSE</li><li>FALSE</li><li>FALSE</li><li>FALSE</li><li>FALSE</li><li>FALSE</li><li>FALSE</li><li>FALSE</li><li>TRUE</li><li>FALSE</li><li>FALSE</li><li>FALSE</li></ol>\n"
            ],
            "text/markdown": "1. FALSE\n2. FALSE\n3. FALSE\n4. FALSE\n5. TRUE\n6. FALSE\n7. FALSE\n8. FALSE\n9. FALSE\n10. TRUE\n11. FALSE\n12. FALSE\n13. FALSE\n14. FALSE\n15. FALSE\n16. FALSE\n17. FALSE\n18. FALSE\n19. FALSE\n20. FALSE\n21. FALSE\n22. FALSE\n23. FALSE\n24. FALSE\n25. TRUE\n26. TRUE\n27. TRUE\n28. FALSE\n29. FALSE\n30. FALSE\n31. FALSE\n32. TRUE\n33. TRUE\n34. TRUE\n35. TRUE\n36. TRUE\n37. TRUE\n38. FALSE\n39. TRUE\n40. FALSE\n41. FALSE\n42. TRUE\n43. TRUE\n44. FALSE\n45. TRUE\n46. TRUE\n47. FALSE\n48. FALSE\n49. FALSE\n50. FALSE\n51. FALSE\n52. TRUE\n53. TRUE\n54. TRUE\n55. TRUE\n56. TRUE\n57. TRUE\n58. TRUE\n59. TRUE\n60. TRUE\n61. TRUE\n62. FALSE\n63. FALSE\n64. FALSE\n65. TRUE\n66. FALSE\n67. FALSE\n68. FALSE\n69. FALSE\n70. FALSE\n71. FALSE\n72. TRUE\n73. FALSE\n74. FALSE\n75. TRUE\n76. FALSE\n77. FALSE\n78. FALSE\n79. FALSE\n80. FALSE\n81. FALSE\n82. FALSE\n83. TRUE\n84. TRUE\n85. FALSE\n86. FALSE\n87. FALSE\n88. FALSE\n89. FALSE\n90. FALSE\n91. FALSE\n92. FALSE\n93. FALSE\n94. FALSE\n95. FALSE\n96. FALSE\n97. FALSE\n98. FALSE\n99. FALSE\n100. FALSE\n101. FALSE\n102. TRUE\n103. TRUE\n104. FALSE\n105. FALSE\n106. FALSE\n107. TRUE\n108. FALSE\n109. FALSE\n110. FALSE\n111. FALSE\n112. FALSE\n113. FALSE\n114. FALSE\n115. TRUE\n116. FALSE\n117. FALSE\n118. FALSE\n119. TRUE\n120. FALSE\n121. FALSE\n122. FALSE\n123. FALSE\n124. FALSE\n125. FALSE\n126. FALSE\n127. FALSE\n128. FALSE\n129. FALSE\n130. FALSE\n131. FALSE\n132. FALSE\n133. FALSE\n134. FALSE\n135. FALSE\n136. FALSE\n137. FALSE\n138. FALSE\n139. FALSE\n140. FALSE\n141. FALSE\n142. FALSE\n143. FALSE\n144. FALSE\n145. FALSE\n146. FALSE\n147. FALSE\n148. FALSE\n149. FALSE\n150. TRUE\n151. FALSE\n152. FALSE\n153. FALSE\n\n\n",
            "text/latex": "\\begin{enumerate*}\n\\item FALSE\n\\item FALSE\n\\item FALSE\n\\item FALSE\n\\item TRUE\n\\item FALSE\n\\item FALSE\n\\item FALSE\n\\item FALSE\n\\item TRUE\n\\item FALSE\n\\item FALSE\n\\item FALSE\n\\item FALSE\n\\item FALSE\n\\item FALSE\n\\item FALSE\n\\item FALSE\n\\item FALSE\n\\item FALSE\n\\item FALSE\n\\item FALSE\n\\item FALSE\n\\item FALSE\n\\item TRUE\n\\item TRUE\n\\item TRUE\n\\item FALSE\n\\item FALSE\n\\item FALSE\n\\item FALSE\n\\item TRUE\n\\item TRUE\n\\item TRUE\n\\item TRUE\n\\item TRUE\n\\item TRUE\n\\item FALSE\n\\item TRUE\n\\item FALSE\n\\item FALSE\n\\item TRUE\n\\item TRUE\n\\item FALSE\n\\item TRUE\n\\item TRUE\n\\item FALSE\n\\item FALSE\n\\item FALSE\n\\item FALSE\n\\item FALSE\n\\item TRUE\n\\item TRUE\n\\item TRUE\n\\item TRUE\n\\item TRUE\n\\item TRUE\n\\item TRUE\n\\item TRUE\n\\item TRUE\n\\item TRUE\n\\item FALSE\n\\item FALSE\n\\item FALSE\n\\item TRUE\n\\item FALSE\n\\item FALSE\n\\item FALSE\n\\item FALSE\n\\item FALSE\n\\item FALSE\n\\item TRUE\n\\item FALSE\n\\item FALSE\n\\item TRUE\n\\item FALSE\n\\item FALSE\n\\item FALSE\n\\item FALSE\n\\item FALSE\n\\item FALSE\n\\item FALSE\n\\item TRUE\n\\item TRUE\n\\item FALSE\n\\item FALSE\n\\item FALSE\n\\item FALSE\n\\item FALSE\n\\item FALSE\n\\item FALSE\n\\item FALSE\n\\item FALSE\n\\item FALSE\n\\item FALSE\n\\item FALSE\n\\item FALSE\n\\item FALSE\n\\item FALSE\n\\item FALSE\n\\item FALSE\n\\item TRUE\n\\item TRUE\n\\item FALSE\n\\item FALSE\n\\item FALSE\n\\item TRUE\n\\item FALSE\n\\item FALSE\n\\item FALSE\n\\item FALSE\n\\item FALSE\n\\item FALSE\n\\item FALSE\n\\item TRUE\n\\item FALSE\n\\item FALSE\n\\item FALSE\n\\item TRUE\n\\item FALSE\n\\item FALSE\n\\item FALSE\n\\item FALSE\n\\item FALSE\n\\item FALSE\n\\item FALSE\n\\item FALSE\n\\item FALSE\n\\item FALSE\n\\item FALSE\n\\item FALSE\n\\item FALSE\n\\item FALSE\n\\item FALSE\n\\item FALSE\n\\item FALSE\n\\item FALSE\n\\item FALSE\n\\item FALSE\n\\item FALSE\n\\item FALSE\n\\item FALSE\n\\item FALSE\n\\item FALSE\n\\item FALSE\n\\item FALSE\n\\item FALSE\n\\item FALSE\n\\item FALSE\n\\item TRUE\n\\item FALSE\n\\item FALSE\n\\item FALSE\n\\end{enumerate*}\n",
            "text/plain": [
              "  [1] FALSE FALSE FALSE FALSE  TRUE FALSE FALSE FALSE FALSE  TRUE FALSE FALSE\n",
              " [13] FALSE FALSE FALSE FALSE FALSE FALSE FALSE FALSE FALSE FALSE FALSE FALSE\n",
              " [25]  TRUE  TRUE  TRUE FALSE FALSE FALSE FALSE  TRUE  TRUE  TRUE  TRUE  TRUE\n",
              " [37]  TRUE FALSE  TRUE FALSE FALSE  TRUE  TRUE FALSE  TRUE  TRUE FALSE FALSE\n",
              " [49] FALSE FALSE FALSE  TRUE  TRUE  TRUE  TRUE  TRUE  TRUE  TRUE  TRUE  TRUE\n",
              " [61]  TRUE FALSE FALSE FALSE  TRUE FALSE FALSE FALSE FALSE FALSE FALSE  TRUE\n",
              " [73] FALSE FALSE  TRUE FALSE FALSE FALSE FALSE FALSE FALSE FALSE  TRUE  TRUE\n",
              " [85] FALSE FALSE FALSE FALSE FALSE FALSE FALSE FALSE FALSE FALSE FALSE FALSE\n",
              " [97] FALSE FALSE FALSE FALSE FALSE  TRUE  TRUE FALSE FALSE FALSE  TRUE FALSE\n",
              "[109] FALSE FALSE FALSE FALSE FALSE FALSE  TRUE FALSE FALSE FALSE  TRUE FALSE\n",
              "[121] FALSE FALSE FALSE FALSE FALSE FALSE FALSE FALSE FALSE FALSE FALSE FALSE\n",
              "[133] FALSE FALSE FALSE FALSE FALSE FALSE FALSE FALSE FALSE FALSE FALSE FALSE\n",
              "[145] FALSE FALSE FALSE FALSE FALSE  TRUE FALSE FALSE FALSE"
            ]
          },
          "metadata": {}
        }
      ]
    },
    {
      "cell_type": "code",
      "source": [
        "sum(is.na(airquality_data$Ozone))"
      ],
      "metadata": {
        "colab": {
          "base_uri": "https://localhost:8080/",
          "height": 34
        },
        "id": "l28CksrNe8Se",
        "outputId": "e75d46cb-7d7b-46a6-bbcc-6c2dd9b5761a"
      },
      "execution_count": 26,
      "outputs": [
        {
          "output_type": "display_data",
          "data": {
            "text/html": [
              "37"
            ],
            "text/markdown": "37",
            "text/latex": "37",
            "text/plain": [
              "[1] 37"
            ]
          },
          "metadata": {}
        }
      ]
    },
    {
      "cell_type": "markdown",
      "source": [
        "there are 37 missin values in the Ozone column"
      ],
      "metadata": {
        "id": "okmNo87x1Djb"
      }
    },
    {
      "cell_type": "code",
      "source": [
        "mean(airquality_data$Ozone, na.rm = TRUE)\n"
      ],
      "metadata": {
        "colab": {
          "base_uri": "https://localhost:8080/",
          "height": 34
        },
        "id": "7uqubK8tfEV8",
        "outputId": "3852c243-13b5-4788-ee27-b9cfe423c4af"
      },
      "execution_count": 27,
      "outputs": [
        {
          "output_type": "display_data",
          "data": {
            "text/html": [
              "42.1293103448276"
            ],
            "text/markdown": "42.1293103448276",
            "text/latex": "42.1293103448276",
            "text/plain": [
              "[1] 42.12931"
            ]
          },
          "metadata": {}
        }
      ]
    },
    {
      "cell_type": "code",
      "source": [
        "subset_data <- airquality_data[airquality_data$Ozone > 31 & airquality_data$Temp > 90, ]\n",
        "\n",
        "mean(subset_data$Solar.R, na.rm = TRUE)"
      ],
      "metadata": {
        "colab": {
          "base_uri": "https://localhost:8080/",
          "height": 34
        },
        "id": "8Wmj3HUcfOaY",
        "outputId": "9d587b8b-de9d-464f-ad63-14b8fea05890"
      },
      "execution_count": 28,
      "outputs": [
        {
          "output_type": "display_data",
          "data": {
            "text/html": [
              "212.8"
            ],
            "text/markdown": "212.8",
            "text/latex": "212.8",
            "text/plain": [
              "[1] 212.8"
            ]
          },
          "metadata": {}
        }
      ]
    },
    {
      "cell_type": "markdown",
      "source": [
        "# Exercise 5: Data transformation (2)."
      ],
      "metadata": {
        "id": "H7Ng2d4n1Mmd"
      }
    },
    {
      "cell_type": "code",
      "source": [
        "airquality_data <- read.csv(\"airquality.csv\")\n",
        "head(airquality_data, 2)"
      ],
      "metadata": {
        "id": "fnnavYXvfZcG",
        "colab": {
          "base_uri": "https://localhost:8080/",
          "height": 161
        },
        "outputId": "abd28daa-27ba-4a3a-c4b1-f911e644b653"
      },
      "execution_count": 29,
      "outputs": [
        {
          "output_type": "display_data",
          "data": {
            "text/html": [
              "<table class=\"dataframe\">\n",
              "<caption>A data.frame: 2 × 6</caption>\n",
              "<thead>\n",
              "\t<tr><th></th><th scope=col>Ozone</th><th scope=col>Solar.R</th><th scope=col>Wind</th><th scope=col>Temp</th><th scope=col>Month</th><th scope=col>Day</th></tr>\n",
              "\t<tr><th></th><th scope=col>&lt;int&gt;</th><th scope=col>&lt;int&gt;</th><th scope=col>&lt;dbl&gt;</th><th scope=col>&lt;int&gt;</th><th scope=col>&lt;int&gt;</th><th scope=col>&lt;int&gt;</th></tr>\n",
              "</thead>\n",
              "<tbody>\n",
              "\t<tr><th scope=row>1</th><td>41</td><td>190</td><td>7.4</td><td>67</td><td>5</td><td>1</td></tr>\n",
              "\t<tr><th scope=row>2</th><td>36</td><td>118</td><td>8.0</td><td>72</td><td>5</td><td>2</td></tr>\n",
              "</tbody>\n",
              "</table>\n"
            ],
            "text/markdown": "\nA data.frame: 2 × 6\n\n| <!--/--> | Ozone &lt;int&gt; | Solar.R &lt;int&gt; | Wind &lt;dbl&gt; | Temp &lt;int&gt; | Month &lt;int&gt; | Day &lt;int&gt; |\n|---|---|---|---|---|---|---|\n| 1 | 41 | 190 | 7.4 | 67 | 5 | 1 |\n| 2 | 36 | 118 | 8.0 | 72 | 5 | 2 |\n\n",
            "text/latex": "A data.frame: 2 × 6\n\\begin{tabular}{r|llllll}\n  & Ozone & Solar.R & Wind & Temp & Month & Day\\\\\n  & <int> & <int> & <dbl> & <int> & <int> & <int>\\\\\n\\hline\n\t1 & 41 & 190 & 7.4 & 67 & 5 & 1\\\\\n\t2 & 36 & 118 & 8.0 & 72 & 5 & 2\\\\\n\\end{tabular}\n",
            "text/plain": [
              "  Ozone Solar.R Wind Temp Month Day\n",
              "1 41    190     7.4  67   5     1  \n",
              "2 36    118     8.0  72   5     2  "
            ]
          },
          "metadata": {}
        }
      ]
    },
    {
      "cell_type": "markdown",
      "source": [
        "Discretise the Ozone into five bins of\n",
        "equal WIDTH"
      ],
      "metadata": {
        "id": "_FUnJ8VE3PQV"
      }
    },
    {
      "cell_type": "code",
      "source": [
        "breaks <- seq(min(airquality_data$Ozone, na.rm = TRUE),\n",
        "              max(airquality_data$Ozone, na.rm = TRUE),\n",
        "              length.out = 6)\n",
        "breaks"
      ],
      "metadata": {
        "colab": {
          "base_uri": "https://localhost:8080/",
          "height": 34
        },
        "id": "C-EkOfJS1zkc",
        "outputId": "7e7a36b9-cca6-404e-d526-63e0a5a841e8"
      },
      "execution_count": 30,
      "outputs": [
        {
          "output_type": "display_data",
          "data": {
            "text/html": [
              "<style>\n",
              ".list-inline {list-style: none; margin:0; padding: 0}\n",
              ".list-inline>li {display: inline-block}\n",
              ".list-inline>li:not(:last-child)::after {content: \"\\00b7\"; padding: 0 .5ex}\n",
              "</style>\n",
              "<ol class=list-inline><li>1</li><li>34.4</li><li>67.8</li><li>101.2</li><li>134.6</li><li>168</li></ol>\n"
            ],
            "text/markdown": "1. 1\n2. 34.4\n3. 67.8\n4. 101.2\n5. 134.6\n6. 168\n\n\n",
            "text/latex": "\\begin{enumerate*}\n\\item 1\n\\item 34.4\n\\item 67.8\n\\item 101.2\n\\item 134.6\n\\item 168\n\\end{enumerate*}\n",
            "text/plain": [
              "[1]   1.0  34.4  67.8 101.2 134.6 168.0"
            ]
          },
          "metadata": {}
        }
      ]
    },
    {
      "cell_type": "code",
      "source": [
        "breaks <- quantile(airquality_data$Ozone, probs = seq(0, 1, 0.2), na.rm = TRUE)\n",
        "\n",
        "airquality_data$Ozone_bins <- cut(airquality_data$Ozone,\n",
        "          breaks = breaks,\n",
        "          labels = c('bin1', 'bin2', 'bin3', 'bin4', 'bin5'),\n",
        "          include.lowest = TRUE,\n",
        "          na_values = 'binNA')# przypisz NA do 'binNA\n",
        "\n",
        "# include.lowest = TRUE oznacza, że dolna granica przedziału jest włączona do przedziału.\n",
        "\n",
        "print(head(airquality_data))"
      ],
      "metadata": {
        "colab": {
          "base_uri": "https://localhost:8080/"
        },
        "id": "dSkUdRtRFsN-",
        "outputId": "bd08afdd-c7d2-423b-ebfa-8cfbc1e8eb9a"
      },
      "execution_count": 31,
      "outputs": [
        {
          "output_type": "stream",
          "name": "stdout",
          "text": [
            "  Ozone Solar.R Wind Temp Month Day Ozone_bins\n",
            "1    41     190  7.4   67     5   1       bin4\n",
            "2    36     118  8.0   72     5   2       bin3\n",
            "3    12     149 12.6   74     5   3       bin1\n",
            "4    18     313 11.5   62     5   4       bin2\n",
            "5    NA      NA 14.3   56     5   5       <NA>\n",
            "6    28      NA 14.9   66     5   6       bin3\n"
          ]
        }
      ]
    },
    {
      "cell_type": "markdown",
      "source": [
        "Discretise the Ozone into five bins of\n",
        "equal SIZE"
      ],
      "metadata": {
        "id": "2uSnDsxiIjFP"
      }
    },
    {
      "cell_type": "code",
      "source": [
        "breaks <- quantile(airquality_data$Ozone, probs = seq(0, 1, 0.2), na.rm = TRUE)\n",
        "breaks"
      ],
      "metadata": {
        "colab": {
          "base_uri": "https://localhost:8080/",
          "height": 34
        },
        "id": "9mDjhRN6Gzho",
        "outputId": "2ebe9cde-0697-496f-f417-c502fe32e283"
      },
      "execution_count": 32,
      "outputs": [
        {
          "output_type": "display_data",
          "data": {
            "text/html": [
              "<style>\n",
              ".dl-inline {width: auto; margin:0; padding: 0}\n",
              ".dl-inline>dt, .dl-inline>dd {float: none; width: auto; display: inline-block}\n",
              ".dl-inline>dt::after {content: \":\\0020\"; padding-right: .5ex}\n",
              ".dl-inline>dt:not(:first-of-type) {padding-left: .5ex}\n",
              "</style><dl class=dl-inline><dt>0%</dt><dd>1</dd><dt>20%</dt><dd>14</dd><dt>40%</dt><dd>23</dd><dt>60%</dt><dd>39</dd><dt>80%</dt><dd>73</dd><dt>100%</dt><dd>168</dd></dl>\n"
            ],
            "text/markdown": "0%\n:   120%\n:   1440%\n:   2360%\n:   3980%\n:   73100%\n:   168\n\n",
            "text/latex": "\\begin{description*}\n\\item[0\\textbackslash{}\\%] 1\n\\item[20\\textbackslash{}\\%] 14\n\\item[40\\textbackslash{}\\%] 23\n\\item[60\\textbackslash{}\\%] 39\n\\item[80\\textbackslash{}\\%] 73\n\\item[100\\textbackslash{}\\%] 168\n\\end{description*}\n",
            "text/plain": [
              "  0%  20%  40%  60%  80% 100% \n",
              "   1   14   23   39   73  168 "
            ]
          },
          "metadata": {}
        }
      ]
    },
    {
      "cell_type": "code",
      "source": [
        "breaks <- quantile(airquality_data$Ozone, probs = seq(0, 1, 0.2), na.rm = TRUE)\n",
        "\n",
        "airquality_data$Ozone_bins <- cut(airquality_data$Ozone,\n",
        "          breaks = breaks,\n",
        "          labels = c('bin1', 'bin2', 'bin3', 'bin4', 'bin5'),\n",
        "          include.lowest = TRUE,\n",
        "          na_values = 'binNA')# przypisz NA do 'binNA\n",
        "\n",
        "# include.lowest = TRUE oznacza, że dolna granica przedziału jest włączona do przedziału.\n",
        "\n",
        "print(head(airquality_data))"
      ],
      "metadata": {
        "id": "bP6e65qsI5Cp",
        "colab": {
          "base_uri": "https://localhost:8080/"
        },
        "outputId": "6f9dc165-a776-4355-92b3-d34e548e6015"
      },
      "execution_count": 33,
      "outputs": [
        {
          "output_type": "stream",
          "name": "stdout",
          "text": [
            "  Ozone Solar.R Wind Temp Month Day Ozone_bins\n",
            "1    41     190  7.4   67     5   1       bin4\n",
            "2    36     118  8.0   72     5   2       bin3\n",
            "3    12     149 12.6   74     5   3       bin1\n",
            "4    18     313 11.5   62     5   4       bin2\n",
            "5    NA      NA 14.3   56     5   5       <NA>\n",
            "6    28      NA 14.9   66     5   6       bin3\n"
          ]
        }
      ]
    },
    {
      "cell_type": "markdown",
      "source": [
        "Create a new column AbsDay from the columns Month and Day\n",
        "such that counts the number of days passed from Month=5 and\n",
        "Day=1.\n",
        "\n",
        "// tak, aby zliczała liczbę dni, które upłynęły od Month=5 i\n",
        "Day=1"
      ],
      "metadata": {
        "id": "l1tXGeBjJDIW"
      }
    },
    {
      "cell_type": "code",
      "source": [
        "airquality_data$Month <- as.numeric(airquality_data$Month)\n",
        "head(airquality_data)"
      ],
      "metadata": {
        "colab": {
          "base_uri": "https://localhost:8080/",
          "height": 286
        },
        "id": "6dWqMxMkCPGL",
        "outputId": "cd77be5a-04d5-46c6-e115-6944677f598d"
      },
      "execution_count": 44,
      "outputs": [
        {
          "output_type": "display_data",
          "data": {
            "text/html": [
              "<table class=\"dataframe\">\n",
              "<caption>A data.frame: 6 × 8</caption>\n",
              "<thead>\n",
              "\t<tr><th></th><th scope=col>Ozone</th><th scope=col>Solar.R</th><th scope=col>Wind</th><th scope=col>Temp</th><th scope=col>Month</th><th scope=col>Day</th><th scope=col>Ozone_bins</th><th scope=col>AbsDay</th></tr>\n",
              "\t<tr><th></th><th scope=col>&lt;int&gt;</th><th scope=col>&lt;int&gt;</th><th scope=col>&lt;dbl&gt;</th><th scope=col>&lt;int&gt;</th><th scope=col>&lt;dbl&gt;</th><th scope=col>&lt;int&gt;</th><th scope=col>&lt;fct&gt;</th><th scope=col>&lt;dbl&gt;</th></tr>\n",
              "</thead>\n",
              "<tbody>\n",
              "\t<tr><th scope=row>1</th><td>41</td><td>190</td><td> 7.4</td><td>67</td><td>5</td><td>1</td><td>bin4</td><td>0</td></tr>\n",
              "\t<tr><th scope=row>2</th><td>36</td><td>118</td><td> 8.0</td><td>72</td><td>5</td><td>2</td><td>bin3</td><td>1</td></tr>\n",
              "\t<tr><th scope=row>3</th><td>12</td><td>149</td><td>12.6</td><td>74</td><td>5</td><td>3</td><td>bin1</td><td>2</td></tr>\n",
              "\t<tr><th scope=row>4</th><td>18</td><td>313</td><td>11.5</td><td>62</td><td>5</td><td>4</td><td>bin2</td><td>3</td></tr>\n",
              "\t<tr><th scope=row>5</th><td>NA</td><td> NA</td><td>14.3</td><td>56</td><td>5</td><td>5</td><td>NA  </td><td>4</td></tr>\n",
              "\t<tr><th scope=row>6</th><td>28</td><td> NA</td><td>14.9</td><td>66</td><td>5</td><td>6</td><td>bin3</td><td>5</td></tr>\n",
              "</tbody>\n",
              "</table>\n"
            ],
            "text/markdown": "\nA data.frame: 6 × 8\n\n| <!--/--> | Ozone &lt;int&gt; | Solar.R &lt;int&gt; | Wind &lt;dbl&gt; | Temp &lt;int&gt; | Month &lt;dbl&gt; | Day &lt;int&gt; | Ozone_bins &lt;fct&gt; | AbsDay &lt;dbl&gt; |\n|---|---|---|---|---|---|---|---|---|\n| 1 | 41 | 190 |  7.4 | 67 | 5 | 1 | bin4 | 0 |\n| 2 | 36 | 118 |  8.0 | 72 | 5 | 2 | bin3 | 1 |\n| 3 | 12 | 149 | 12.6 | 74 | 5 | 3 | bin1 | 2 |\n| 4 | 18 | 313 | 11.5 | 62 | 5 | 4 | bin2 | 3 |\n| 5 | NA |  NA | 14.3 | 56 | 5 | 5 | NA   | 4 |\n| 6 | 28 |  NA | 14.9 | 66 | 5 | 6 | bin3 | 5 |\n\n",
            "text/latex": "A data.frame: 6 × 8\n\\begin{tabular}{r|llllllll}\n  & Ozone & Solar.R & Wind & Temp & Month & Day & Ozone\\_bins & AbsDay\\\\\n  & <int> & <int> & <dbl> & <int> & <dbl> & <int> & <fct> & <dbl>\\\\\n\\hline\n\t1 & 41 & 190 &  7.4 & 67 & 5 & 1 & bin4 & 0\\\\\n\t2 & 36 & 118 &  8.0 & 72 & 5 & 2 & bin3 & 1\\\\\n\t3 & 12 & 149 & 12.6 & 74 & 5 & 3 & bin1 & 2\\\\\n\t4 & 18 & 313 & 11.5 & 62 & 5 & 4 & bin2 & 3\\\\\n\t5 & NA &  NA & 14.3 & 56 & 5 & 5 & NA   & 4\\\\\n\t6 & 28 &  NA & 14.9 & 66 & 5 & 6 & bin3 & 5\\\\\n\\end{tabular}\n",
            "text/plain": [
              "  Ozone Solar.R Wind Temp Month Day Ozone_bins AbsDay\n",
              "1 41    190      7.4 67   5     1   bin4       0     \n",
              "2 36    118      8.0 72   5     2   bin3       1     \n",
              "3 12    149     12.6 74   5     3   bin1       2     \n",
              "4 18    313     11.5 62   5     4   bin2       3     \n",
              "5 NA     NA     14.3 56   5     5   NA         4     \n",
              "6 28     NA     14.9 66   5     6   bin3       5     "
            ]
          },
          "metadata": {}
        }
      ]
    },
    {
      "cell_type": "code",
      "source": [
        "count_days <- function(row) {\n",
        "  if (!is.na(row[\"Month\"]) || !is.na(row[\"Day\"])){\n",
        "    if (row[\"Month\"] >= 5) {\n",
        "      if (row[\"Month\"] %% 2 == 0) {\n",
        "        row[\"AbsDay\"] <- (row[\"Month\"] - 5) * 30 + row[\"Day\"]\n",
        "      } else {\n",
        "        row[\"AbsDay\"] <- (row[\"Month\"] - 5) * 31 + row[\"Day\"]\n",
        "      }\n",
        "    } else {\n",
        "      row[\"AbsDay\"] <- 0\n",
        "    }\n",
        "  }\n",
        "  else{\n",
        "    row[\"AbsDay\"] <- 0\n",
        "  }\n",
        "  return(row)\n",
        "}\n",
        "\n",
        "airquality_data <- t(apply(airquality_data, 1, count_days))\n",
        "\n",
        "airquality_data"
      ],
      "metadata": {
        "colab": {
          "base_uri": "https://localhost:8080/",
          "height": 175
        },
        "id": "2LR5zIpM_wB4",
        "outputId": "182247b2-7557-4a5a-8c42-e70bc01ca12a"
      },
      "execution_count": 47,
      "outputs": [
        {
          "output_type": "error",
          "ename": "ERROR",
          "evalue": "ignored",
          "traceback": [
            "Error in row[\"Month\"]%%2: non-numeric argument to binary operator\nTraceback:\n",
            "1. t(apply(airquality_data, 1, count_days))",
            "2. apply(airquality_data, 1, count_days)",
            "3. FUN(newX[, i], ...)"
          ]
        }
      ]
    },
    {
      "cell_type": "markdown",
      "source": [
        "Chat answer:"
      ],
      "metadata": {
        "id": "IZfr_CsFDLJM"
      }
    },
    {
      "cell_type": "code",
      "source": [
        "airquality_data$AbsDay <- ifelse(airquality_data$Month == 5,\n",
        "                                 airquality_data$Day - 1,\n",
        "                                 ifelse(airquality_data$Month == 6,\n",
        "                                        airquality_data$Day + 30 - 1,\n",
        "                                        ifelse(airquality_data$Month == 7,\n",
        "                                               airquality_data$Day + 30 + 31 - 1,\n",
        "                                               ifelse(airquality_data$Month == 8,\n",
        "                                                      airquality_data$Day + 30 + 31 + 31 - 1, NA))))\n",
        "\n",
        "head(airquality_data,3 )\n"
      ],
      "metadata": {
        "colab": {
          "base_uri": "https://localhost:8080/",
          "height": 192
        },
        "id": "Tm9JtrrEJDmt",
        "outputId": "dcf71f60-9559-4612-b2e3-8a0862850466"
      },
      "execution_count": 48,
      "outputs": [
        {
          "output_type": "display_data",
          "data": {
            "text/html": [
              "<table class=\"dataframe\">\n",
              "<caption>A data.frame: 3 × 8</caption>\n",
              "<thead>\n",
              "\t<tr><th></th><th scope=col>Ozone</th><th scope=col>Solar.R</th><th scope=col>Wind</th><th scope=col>Temp</th><th scope=col>Month</th><th scope=col>Day</th><th scope=col>Ozone_bins</th><th scope=col>AbsDay</th></tr>\n",
              "\t<tr><th></th><th scope=col>&lt;int&gt;</th><th scope=col>&lt;int&gt;</th><th scope=col>&lt;dbl&gt;</th><th scope=col>&lt;int&gt;</th><th scope=col>&lt;dbl&gt;</th><th scope=col>&lt;int&gt;</th><th scope=col>&lt;fct&gt;</th><th scope=col>&lt;dbl&gt;</th></tr>\n",
              "</thead>\n",
              "<tbody>\n",
              "\t<tr><th scope=row>1</th><td>41</td><td>190</td><td> 7.4</td><td>67</td><td>5</td><td>1</td><td>bin4</td><td>0</td></tr>\n",
              "\t<tr><th scope=row>2</th><td>36</td><td>118</td><td> 8.0</td><td>72</td><td>5</td><td>2</td><td>bin3</td><td>1</td></tr>\n",
              "\t<tr><th scope=row>3</th><td>12</td><td>149</td><td>12.6</td><td>74</td><td>5</td><td>3</td><td>bin1</td><td>2</td></tr>\n",
              "</tbody>\n",
              "</table>\n"
            ],
            "text/markdown": "\nA data.frame: 3 × 8\n\n| <!--/--> | Ozone &lt;int&gt; | Solar.R &lt;int&gt; | Wind &lt;dbl&gt; | Temp &lt;int&gt; | Month &lt;dbl&gt; | Day &lt;int&gt; | Ozone_bins &lt;fct&gt; | AbsDay &lt;dbl&gt; |\n|---|---|---|---|---|---|---|---|---|\n| 1 | 41 | 190 |  7.4 | 67 | 5 | 1 | bin4 | 0 |\n| 2 | 36 | 118 |  8.0 | 72 | 5 | 2 | bin3 | 1 |\n| 3 | 12 | 149 | 12.6 | 74 | 5 | 3 | bin1 | 2 |\n\n",
            "text/latex": "A data.frame: 3 × 8\n\\begin{tabular}{r|llllllll}\n  & Ozone & Solar.R & Wind & Temp & Month & Day & Ozone\\_bins & AbsDay\\\\\n  & <int> & <int> & <dbl> & <int> & <dbl> & <int> & <fct> & <dbl>\\\\\n\\hline\n\t1 & 41 & 190 &  7.4 & 67 & 5 & 1 & bin4 & 0\\\\\n\t2 & 36 & 118 &  8.0 & 72 & 5 & 2 & bin3 & 1\\\\\n\t3 & 12 & 149 & 12.6 & 74 & 5 & 3 & bin1 & 2\\\\\n\\end{tabular}\n",
            "text/plain": [
              "  Ozone Solar.R Wind Temp Month Day Ozone_bins AbsDay\n",
              "1 41    190      7.4 67   5     1   bin4       0     \n",
              "2 36    118      8.0 72   5     2   bin3       1     \n",
              "3 12    149     12.6 74   5     3   bin1       2     "
            ]
          },
          "metadata": {}
        }
      ]
    },
    {
      "cell_type": "markdown",
      "source": [
        "# Exercise 6: Data transformation (3)."
      ],
      "metadata": {
        "id": "RCbmu-UP4LKj"
      }
    },
    {
      "cell_type": "code",
      "source": [
        "titanic <- read.csv(\"titanic.csv\",header=TRUE, sep=\",\")\n",
        "head(titanic, 3)"
      ],
      "metadata": {
        "colab": {
          "base_uri": "https://localhost:8080/",
          "height": 192
        },
        "id": "e6v4WCK5JLWv",
        "outputId": "672c5ddf-9706-4d1a-b3b0-07b12af401e2"
      },
      "execution_count": 49,
      "outputs": [
        {
          "output_type": "display_data",
          "data": {
            "text/html": [
              "<table class=\"dataframe\">\n",
              "<caption>A data.frame: 3 × 6</caption>\n",
              "<thead>\n",
              "\t<tr><th></th><th scope=col>X</th><th scope=col>Class</th><th scope=col>Sex</th><th scope=col>Age</th><th scope=col>Survived</th><th scope=col>Freq</th></tr>\n",
              "\t<tr><th></th><th scope=col>&lt;int&gt;</th><th scope=col>&lt;chr&gt;</th><th scope=col>&lt;chr&gt;</th><th scope=col>&lt;chr&gt;</th><th scope=col>&lt;chr&gt;</th><th scope=col>&lt;int&gt;</th></tr>\n",
              "</thead>\n",
              "<tbody>\n",
              "\t<tr><th scope=row>1</th><td>1</td><td>1st</td><td>Male</td><td>Child</td><td>No</td><td> 0</td></tr>\n",
              "\t<tr><th scope=row>2</th><td>2</td><td>2nd</td><td>Male</td><td>Child</td><td>No</td><td> 0</td></tr>\n",
              "\t<tr><th scope=row>3</th><td>3</td><td>3rd</td><td>Male</td><td>Child</td><td>No</td><td>35</td></tr>\n",
              "</tbody>\n",
              "</table>\n"
            ],
            "text/markdown": "\nA data.frame: 3 × 6\n\n| <!--/--> | X &lt;int&gt; | Class &lt;chr&gt; | Sex &lt;chr&gt; | Age &lt;chr&gt; | Survived &lt;chr&gt; | Freq &lt;int&gt; |\n|---|---|---|---|---|---|---|\n| 1 | 1 | 1st | Male | Child | No |  0 |\n| 2 | 2 | 2nd | Male | Child | No |  0 |\n| 3 | 3 | 3rd | Male | Child | No | 35 |\n\n",
            "text/latex": "A data.frame: 3 × 6\n\\begin{tabular}{r|llllll}\n  & X & Class & Sex & Age & Survived & Freq\\\\\n  & <int> & <chr> & <chr> & <chr> & <chr> & <int>\\\\\n\\hline\n\t1 & 1 & 1st & Male & Child & No &  0\\\\\n\t2 & 2 & 2nd & Male & Child & No &  0\\\\\n\t3 & 3 & 3rd & Male & Child & No & 35\\\\\n\\end{tabular}\n",
            "text/plain": [
              "  X Class Sex  Age   Survived Freq\n",
              "1 1 1st   Male Child No        0  \n",
              "2 2 2nd   Male Child No        0  \n",
              "3 3 3rd   Male Child No       35  "
            ]
          },
          "metadata": {}
        }
      ]
    },
    {
      "cell_type": "code",
      "source": [
        "class_mapping <- c('Crew' = 4, '1st' = 3, '2nd' = 2, '3rd' = 1)\n",
        "class_mapping"
      ],
      "metadata": {
        "colab": {
          "base_uri": "https://localhost:8080/",
          "height": 34
        },
        "id": "Wn2oRUAIJZfV",
        "outputId": "c5b84545-1f78-4849-f408-2ddf5b657352"
      },
      "execution_count": 50,
      "outputs": [
        {
          "output_type": "display_data",
          "data": {
            "text/html": [
              "<style>\n",
              ".dl-inline {width: auto; margin:0; padding: 0}\n",
              ".dl-inline>dt, .dl-inline>dd {float: none; width: auto; display: inline-block}\n",
              ".dl-inline>dt::after {content: \":\\0020\"; padding-right: .5ex}\n",
              ".dl-inline>dt:not(:first-of-type) {padding-left: .5ex}\n",
              "</style><dl class=dl-inline><dt>Crew</dt><dd>4</dd><dt>1st</dt><dd>3</dd><dt>2nd</dt><dd>2</dd><dt>3rd</dt><dd>1</dd></dl>\n"
            ],
            "text/markdown": "Crew\n:   41st\n:   32nd\n:   23rd\n:   1\n\n",
            "text/latex": "\\begin{description*}\n\\item[Crew] 4\n\\item[1st] 3\n\\item[2nd] 2\n\\item[3rd] 1\n\\end{description*}\n",
            "text/plain": [
              "Crew  1st  2nd  3rd \n",
              "   4    3    2    1 "
            ]
          },
          "metadata": {}
        }
      ]
    },
    {
      "cell_type": "code",
      "source": [
        "names(class_mapping)"
      ],
      "metadata": {
        "colab": {
          "base_uri": "https://localhost:8080/",
          "height": 34
        },
        "id": "_urNI1W-DcsL",
        "outputId": "f7f3256d-71fa-40e5-ad7d-410faf9ab6bb"
      },
      "execution_count": 52,
      "outputs": [
        {
          "output_type": "display_data",
          "data": {
            "text/html": [
              "<style>\n",
              ".list-inline {list-style: none; margin:0; padding: 0}\n",
              ".list-inline>li {display: inline-block}\n",
              ".list-inline>li:not(:last-child)::after {content: \"\\00b7\"; padding: 0 .5ex}\n",
              "</style>\n",
              "<ol class=list-inline><li>'Crew'</li><li>'1st'</li><li>'2nd'</li><li>'3rd'</li></ol>\n"
            ],
            "text/markdown": "1. 'Crew'\n2. '1st'\n3. '2nd'\n4. '3rd'\n\n\n",
            "text/latex": "\\begin{enumerate*}\n\\item 'Crew'\n\\item '1st'\n\\item '2nd'\n\\item '3rd'\n\\end{enumerate*}\n",
            "text/plain": [
              "[1] \"Crew\" \"1st\"  \"2nd\"  \"3rd\" "
            ]
          },
          "metadata": {}
        }
      ]
    },
    {
      "cell_type": "code",
      "source": [
        "titanic$Class <- as.numeric(factor(titanic$Class, levels = names(class_mapping), labels = class_mapping))\n",
        "# factor zamienia te wartości na faktor, będą one traktowane jako kategorie\n",
        "head(titanic)\n"
      ],
      "metadata": {
        "colab": {
          "base_uri": "https://localhost:8080/",
          "height": 286
        },
        "id": "h6KfexgwJ9JE",
        "outputId": "70e63e29-c9b9-482b-bd7d-843b25d2210b"
      },
      "execution_count": 53,
      "outputs": [
        {
          "output_type": "display_data",
          "data": {
            "text/html": [
              "<table class=\"dataframe\">\n",
              "<caption>A data.frame: 6 × 6</caption>\n",
              "<thead>\n",
              "\t<tr><th></th><th scope=col>X</th><th scope=col>Class</th><th scope=col>Sex</th><th scope=col>Age</th><th scope=col>Survived</th><th scope=col>Freq</th></tr>\n",
              "\t<tr><th></th><th scope=col>&lt;int&gt;</th><th scope=col>&lt;dbl&gt;</th><th scope=col>&lt;chr&gt;</th><th scope=col>&lt;chr&gt;</th><th scope=col>&lt;chr&gt;</th><th scope=col>&lt;int&gt;</th></tr>\n",
              "</thead>\n",
              "<tbody>\n",
              "\t<tr><th scope=row>1</th><td>1</td><td>NA</td><td>Male  </td><td>Child</td><td>No</td><td> 0</td></tr>\n",
              "\t<tr><th scope=row>2</th><td>2</td><td>NA</td><td>Male  </td><td>Child</td><td>No</td><td> 0</td></tr>\n",
              "\t<tr><th scope=row>3</th><td>3</td><td>NA</td><td>Male  </td><td>Child</td><td>No</td><td>35</td></tr>\n",
              "\t<tr><th scope=row>4</th><td>4</td><td>NA</td><td>Male  </td><td>Child</td><td>No</td><td> 0</td></tr>\n",
              "\t<tr><th scope=row>5</th><td>5</td><td>NA</td><td>Female</td><td>Child</td><td>No</td><td> 0</td></tr>\n",
              "\t<tr><th scope=row>6</th><td>6</td><td>NA</td><td>Female</td><td>Child</td><td>No</td><td> 0</td></tr>\n",
              "</tbody>\n",
              "</table>\n"
            ],
            "text/markdown": "\nA data.frame: 6 × 6\n\n| <!--/--> | X &lt;int&gt; | Class &lt;dbl&gt; | Sex &lt;chr&gt; | Age &lt;chr&gt; | Survived &lt;chr&gt; | Freq &lt;int&gt; |\n|---|---|---|---|---|---|---|\n| 1 | 1 | NA | Male   | Child | No |  0 |\n| 2 | 2 | NA | Male   | Child | No |  0 |\n| 3 | 3 | NA | Male   | Child | No | 35 |\n| 4 | 4 | NA | Male   | Child | No |  0 |\n| 5 | 5 | NA | Female | Child | No |  0 |\n| 6 | 6 | NA | Female | Child | No |  0 |\n\n",
            "text/latex": "A data.frame: 6 × 6\n\\begin{tabular}{r|llllll}\n  & X & Class & Sex & Age & Survived & Freq\\\\\n  & <int> & <dbl> & <chr> & <chr> & <chr> & <int>\\\\\n\\hline\n\t1 & 1 & NA & Male   & Child & No &  0\\\\\n\t2 & 2 & NA & Male   & Child & No &  0\\\\\n\t3 & 3 & NA & Male   & Child & No & 35\\\\\n\t4 & 4 & NA & Male   & Child & No &  0\\\\\n\t5 & 5 & NA & Female & Child & No &  0\\\\\n\t6 & 6 & NA & Female & Child & No &  0\\\\\n\\end{tabular}\n",
            "text/plain": [
              "  X Class Sex    Age   Survived Freq\n",
              "1 1 NA    Male   Child No        0  \n",
              "2 2 NA    Male   Child No        0  \n",
              "3 3 NA    Male   Child No       35  \n",
              "4 4 NA    Male   Child No        0  \n",
              "5 5 NA    Female Child No        0  \n",
              "6 6 NA    Female Child No        0  "
            ]
          },
          "metadata": {}
        }
      ]
    },
    {
      "cell_type": "code",
      "source": [
        "titanic_filtered <- titanic[titanic$Freq > 0, ]\n",
        "rep(seq_len(nrow(titanic_filtered)), titanic_filtered$Freq)\n",
        "# seq_len(nrow(titanic_filtered))"
      ],
      "metadata": {
        "colab": {
          "base_uri": "https://localhost:8080/",
          "height": 225
        },
        "id": "Iv94HYB7Dzoy",
        "outputId": "ede45522-80f8-4da7-ce8d-52d21dbe21b2"
      },
      "execution_count": 57,
      "outputs": [
        {
          "output_type": "display_data",
          "data": {
            "text/html": [
              "<style>\n",
              ".list-inline {list-style: none; margin:0; padding: 0}\n",
              ".list-inline>li {display: inline-block}\n",
              ".list-inline>li:not(:last-child)::after {content: \"\\00b7\"; padding: 0 .5ex}\n",
              "</style>\n",
              "<ol class=list-inline><li>1</li><li>1</li><li>1</li><li>1</li><li>1</li><li>1</li><li>1</li><li>1</li><li>1</li><li>1</li><li>1</li><li>1</li><li>1</li><li>1</li><li>1</li><li>1</li><li>1</li><li>1</li><li>1</li><li>1</li><li>1</li><li>1</li><li>1</li><li>1</li><li>1</li><li>1</li><li>1</li><li>1</li><li>1</li><li>1</li><li>1</li><li>1</li><li>1</li><li>1</li><li>1</li><li>2</li><li>2</li><li>2</li><li>2</li><li>2</li><li>2</li><li>2</li><li>2</li><li>2</li><li>2</li><li>2</li><li>2</li><li>2</li><li>2</li><li>2</li><li>2</li><li>2</li><li>3</li><li>3</li><li>3</li><li>3</li><li>3</li><li>3</li><li>3</li><li>3</li><li>3</li><li>3</li><li>3</li><li>3</li><li>3</li><li>3</li><li>3</li><li>3</li><li>3</li><li>3</li><li>3</li><li>3</li><li>3</li><li>3</li><li>3</li><li>3</li><li>3</li><li>3</li><li>3</li><li>3</li><li>3</li><li>3</li><li>3</li><li>3</li><li>3</li><li>3</li><li>3</li><li>3</li><li>3</li><li>3</li><li>3</li><li>3</li><li>3</li><li>3</li><li>3</li><li>3</li><li>3</li><li>3</li><li>3</li><li>3</li><li>3</li><li>3</li><li>3</li><li>3</li><li>3</li><li>3</li><li>3</li><li>3</li><li>3</li><li>3</li><li>3</li><li>3</li><li>3</li><li>3</li><li>3</li><li>3</li><li>3</li><li>3</li><li>3</li><li>3</li><li>3</li><li>3</li><li>3</li><li>3</li><li>3</li><li>3</li><li>3</li><li>3</li><li>3</li><li>3</li><li>3</li><li>3</li><li>3</li><li>3</li><li>3</li><li>3</li><li>3</li><li>3</li><li>3</li><li>3</li><li>3</li><li>3</li><li>3</li><li>3</li><li>3</li><li>3</li><li>3</li><li>3</li><li>3</li><li>3</li><li>3</li><li>3</li><li>3</li><li>3</li><li>3</li><li>3</li><li>3</li><li>3</li><li>3</li><li>3</li><li>3</li><li>3</li><li>3</li><li>3</li><li>3</li><li>3</li><li>3</li><li>3</li><li>3</li><li>3</li><li>4</li><li>4</li><li>4</li><li>4</li><li>4</li><li>4</li><li>4</li><li>4</li><li>4</li><li>4</li><li>4</li><li>4</li><li>4</li><li>4</li><li>4</li><li>4</li><li>4</li><li>4</li><li>4</li><li>4</li><li>4</li><li>4</li><li>4</li><li>4</li><li>4</li><li>4</li><li>4</li><li>4</li><li>4</li><li>4</li><li>⋯</li><li>21</li><li>21</li><li>21</li><li>21</li><li>21</li><li>21</li><li>21</li><li>21</li><li>21</li><li>21</li><li>21</li><li>21</li><li>21</li><li>21</li><li>21</li><li>21</li><li>21</li><li>21</li><li>21</li><li>21</li><li>21</li><li>21</li><li>21</li><li>21</li><li>22</li><li>22</li><li>22</li><li>22</li><li>22</li><li>22</li><li>22</li><li>22</li><li>22</li><li>22</li><li>22</li><li>22</li><li>22</li><li>22</li><li>22</li><li>22</li><li>22</li><li>22</li><li>22</li><li>22</li><li>22</li><li>22</li><li>22</li><li>22</li><li>22</li><li>22</li><li>22</li><li>22</li><li>22</li><li>22</li><li>22</li><li>22</li><li>22</li><li>22</li><li>22</li><li>22</li><li>22</li><li>22</li><li>22</li><li>22</li><li>22</li><li>22</li><li>22</li><li>22</li><li>22</li><li>22</li><li>22</li><li>22</li><li>22</li><li>22</li><li>22</li><li>22</li><li>22</li><li>22</li><li>22</li><li>22</li><li>22</li><li>22</li><li>22</li><li>22</li><li>22</li><li>22</li><li>22</li><li>22</li><li>22</li><li>22</li><li>22</li><li>22</li><li>22</li><li>22</li><li>22</li><li>22</li><li>22</li><li>22</li><li>22</li><li>22</li><li>22</li><li>22</li><li>22</li><li>22</li><li>23</li><li>23</li><li>23</li><li>23</li><li>23</li><li>23</li><li>23</li><li>23</li><li>23</li><li>23</li><li>23</li><li>23</li><li>23</li><li>23</li><li>23</li><li>23</li><li>23</li><li>23</li><li>23</li><li>23</li><li>23</li><li>23</li><li>23</li><li>23</li><li>23</li><li>23</li><li>23</li><li>23</li><li>23</li><li>23</li><li>23</li><li>23</li><li>23</li><li>23</li><li>23</li><li>23</li><li>23</li><li>23</li><li>23</li><li>23</li><li>23</li><li>23</li><li>23</li><li>23</li><li>23</li><li>23</li><li>23</li><li>23</li><li>23</li><li>23</li><li>23</li><li>23</li><li>23</li><li>23</li><li>23</li><li>23</li><li>23</li><li>23</li><li>23</li><li>23</li><li>23</li><li>23</li><li>23</li><li>23</li><li>23</li><li>23</li><li>23</li><li>23</li><li>23</li><li>23</li><li>23</li><li>23</li><li>23</li><li>23</li><li>23</li><li>23</li><li>24</li><li>24</li><li>24</li><li>24</li><li>24</li><li>24</li><li>24</li><li>24</li><li>24</li><li>24</li><li>24</li><li>24</li><li>24</li><li>24</li><li>24</li><li>24</li><li>24</li><li>24</li><li>24</li><li>24</li></ol>\n"
            ],
            "text/markdown": "1. 1\n2. 1\n3. 1\n4. 1\n5. 1\n6. 1\n7. 1\n8. 1\n9. 1\n10. 1\n11. 1\n12. 1\n13. 1\n14. 1\n15. 1\n16. 1\n17. 1\n18. 1\n19. 1\n20. 1\n21. 1\n22. 1\n23. 1\n24. 1\n25. 1\n26. 1\n27. 1\n28. 1\n29. 1\n30. 1\n31. 1\n32. 1\n33. 1\n34. 1\n35. 1\n36. 2\n37. 2\n38. 2\n39. 2\n40. 2\n41. 2\n42. 2\n43. 2\n44. 2\n45. 2\n46. 2\n47. 2\n48. 2\n49. 2\n50. 2\n51. 2\n52. 2\n53. 3\n54. 3\n55. 3\n56. 3\n57. 3\n58. 3\n59. 3\n60. 3\n61. 3\n62. 3\n63. 3\n64. 3\n65. 3\n66. 3\n67. 3\n68. 3\n69. 3\n70. 3\n71. 3\n72. 3\n73. 3\n74. 3\n75. 3\n76. 3\n77. 3\n78. 3\n79. 3\n80. 3\n81. 3\n82. 3\n83. 3\n84. 3\n85. 3\n86. 3\n87. 3\n88. 3\n89. 3\n90. 3\n91. 3\n92. 3\n93. 3\n94. 3\n95. 3\n96. 3\n97. 3\n98. 3\n99. 3\n100. 3\n101. 3\n102. 3\n103. 3\n104. 3\n105. 3\n106. 3\n107. 3\n108. 3\n109. 3\n110. 3\n111. 3\n112. 3\n113. 3\n114. 3\n115. 3\n116. 3\n117. 3\n118. 3\n119. 3\n120. 3\n121. 3\n122. 3\n123. 3\n124. 3\n125. 3\n126. 3\n127. 3\n128. 3\n129. 3\n130. 3\n131. 3\n132. 3\n133. 3\n134. 3\n135. 3\n136. 3\n137. 3\n138. 3\n139. 3\n140. 3\n141. 3\n142. 3\n143. 3\n144. 3\n145. 3\n146. 3\n147. 3\n148. 3\n149. 3\n150. 3\n151. 3\n152. 3\n153. 3\n154. 3\n155. 3\n156. 3\n157. 3\n158. 3\n159. 3\n160. 3\n161. 3\n162. 3\n163. 3\n164. 3\n165. 3\n166. 3\n167. 3\n168. 3\n169. 3\n170. 3\n171. 4\n172. 4\n173. 4\n174. 4\n175. 4\n176. 4\n177. 4\n178. 4\n179. 4\n180. 4\n181. 4\n182. 4\n183. 4\n184. 4\n185. 4\n186. 4\n187. 4\n188. 4\n189. 4\n190. 4\n191. 4\n192. 4\n193. 4\n194. 4\n195. 4\n196. 4\n197. 4\n198. 4\n199. 4\n200. 4\n201. ⋯\n202. 21\n203. 21\n204. 21\n205. 21\n206. 21\n207. 21\n208. 21\n209. 21\n210. 21\n211. 21\n212. 21\n213. 21\n214. 21\n215. 21\n216. 21\n217. 21\n218. 21\n219. 21\n220. 21\n221. 21\n222. 21\n223. 21\n224. 21\n225. 21\n226. 22\n227. 22\n228. 22\n229. 22\n230. 22\n231. 22\n232. 22\n233. 22\n234. 22\n235. 22\n236. 22\n237. 22\n238. 22\n239. 22\n240. 22\n241. 22\n242. 22\n243. 22\n244. 22\n245. 22\n246. 22\n247. 22\n248. 22\n249. 22\n250. 22\n251. 22\n252. 22\n253. 22\n254. 22\n255. 22\n256. 22\n257. 22\n258. 22\n259. 22\n260. 22\n261. 22\n262. 22\n263. 22\n264. 22\n265. 22\n266. 22\n267. 22\n268. 22\n269. 22\n270. 22\n271. 22\n272. 22\n273. 22\n274. 22\n275. 22\n276. 22\n277. 22\n278. 22\n279. 22\n280. 22\n281. 22\n282. 22\n283. 22\n284. 22\n285. 22\n286. 22\n287. 22\n288. 22\n289. 22\n290. 22\n291. 22\n292. 22\n293. 22\n294. 22\n295. 22\n296. 22\n297. 22\n298. 22\n299. 22\n300. 22\n301. 22\n302. 22\n303. 22\n304. 22\n305. 22\n306. 23\n307. 23\n308. 23\n309. 23\n310. 23\n311. 23\n312. 23\n313. 23\n314. 23\n315. 23\n316. 23\n317. 23\n318. 23\n319. 23\n320. 23\n321. 23\n322. 23\n323. 23\n324. 23\n325. 23\n326. 23\n327. 23\n328. 23\n329. 23\n330. 23\n331. 23\n332. 23\n333. 23\n334. 23\n335. 23\n336. 23\n337. 23\n338. 23\n339. 23\n340. 23\n341. 23\n342. 23\n343. 23\n344. 23\n345. 23\n346. 23\n347. 23\n348. 23\n349. 23\n350. 23\n351. 23\n352. 23\n353. 23\n354. 23\n355. 23\n356. 23\n357. 23\n358. 23\n359. 23\n360. 23\n361. 23\n362. 23\n363. 23\n364. 23\n365. 23\n366. 23\n367. 23\n368. 23\n369. 23\n370. 23\n371. 23\n372. 23\n373. 23\n374. 23\n375. 23\n376. 23\n377. 23\n378. 23\n379. 23\n380. 23\n381. 23\n382. 24\n383. 24\n384. 24\n385. 24\n386. 24\n387. 24\n388. 24\n389. 24\n390. 24\n391. 24\n392. 24\n393. 24\n394. 24\n395. 24\n396. 24\n397. 24\n398. 24\n399. 24\n400. 24\n401. 24\n\n\n",
            "text/latex": "\\begin{enumerate*}\n\\item 1\n\\item 1\n\\item 1\n\\item 1\n\\item 1\n\\item 1\n\\item 1\n\\item 1\n\\item 1\n\\item 1\n\\item 1\n\\item 1\n\\item 1\n\\item 1\n\\item 1\n\\item 1\n\\item 1\n\\item 1\n\\item 1\n\\item 1\n\\item 1\n\\item 1\n\\item 1\n\\item 1\n\\item 1\n\\item 1\n\\item 1\n\\item 1\n\\item 1\n\\item 1\n\\item 1\n\\item 1\n\\item 1\n\\item 1\n\\item 1\n\\item 2\n\\item 2\n\\item 2\n\\item 2\n\\item 2\n\\item 2\n\\item 2\n\\item 2\n\\item 2\n\\item 2\n\\item 2\n\\item 2\n\\item 2\n\\item 2\n\\item 2\n\\item 2\n\\item 2\n\\item 3\n\\item 3\n\\item 3\n\\item 3\n\\item 3\n\\item 3\n\\item 3\n\\item 3\n\\item 3\n\\item 3\n\\item 3\n\\item 3\n\\item 3\n\\item 3\n\\item 3\n\\item 3\n\\item 3\n\\item 3\n\\item 3\n\\item 3\n\\item 3\n\\item 3\n\\item 3\n\\item 3\n\\item 3\n\\item 3\n\\item 3\n\\item 3\n\\item 3\n\\item 3\n\\item 3\n\\item 3\n\\item 3\n\\item 3\n\\item 3\n\\item 3\n\\item 3\n\\item 3\n\\item 3\n\\item 3\n\\item 3\n\\item 3\n\\item 3\n\\item 3\n\\item 3\n\\item 3\n\\item 3\n\\item 3\n\\item 3\n\\item 3\n\\item 3\n\\item 3\n\\item 3\n\\item 3\n\\item 3\n\\item 3\n\\item 3\n\\item 3\n\\item 3\n\\item 3\n\\item 3\n\\item 3\n\\item 3\n\\item 3\n\\item 3\n\\item 3\n\\item 3\n\\item 3\n\\item 3\n\\item 3\n\\item 3\n\\item 3\n\\item 3\n\\item 3\n\\item 3\n\\item 3\n\\item 3\n\\item 3\n\\item 3\n\\item 3\n\\item 3\n\\item 3\n\\item 3\n\\item 3\n\\item 3\n\\item 3\n\\item 3\n\\item 3\n\\item 3\n\\item 3\n\\item 3\n\\item 3\n\\item 3\n\\item 3\n\\item 3\n\\item 3\n\\item 3\n\\item 3\n\\item 3\n\\item 3\n\\item 3\n\\item 3\n\\item 3\n\\item 3\n\\item 3\n\\item 3\n\\item 3\n\\item 3\n\\item 3\n\\item 3\n\\item 3\n\\item 3\n\\item 3\n\\item 3\n\\item 3\n\\item 3\n\\item 3\n\\item 3\n\\item 4\n\\item 4\n\\item 4\n\\item 4\n\\item 4\n\\item 4\n\\item 4\n\\item 4\n\\item 4\n\\item 4\n\\item 4\n\\item 4\n\\item 4\n\\item 4\n\\item 4\n\\item 4\n\\item 4\n\\item 4\n\\item 4\n\\item 4\n\\item 4\n\\item 4\n\\item 4\n\\item 4\n\\item 4\n\\item 4\n\\item 4\n\\item 4\n\\item 4\n\\item 4\n\\item ⋯\n\\item 21\n\\item 21\n\\item 21\n\\item 21\n\\item 21\n\\item 21\n\\item 21\n\\item 21\n\\item 21\n\\item 21\n\\item 21\n\\item 21\n\\item 21\n\\item 21\n\\item 21\n\\item 21\n\\item 21\n\\item 21\n\\item 21\n\\item 21\n\\item 21\n\\item 21\n\\item 21\n\\item 21\n\\item 22\n\\item 22\n\\item 22\n\\item 22\n\\item 22\n\\item 22\n\\item 22\n\\item 22\n\\item 22\n\\item 22\n\\item 22\n\\item 22\n\\item 22\n\\item 22\n\\item 22\n\\item 22\n\\item 22\n\\item 22\n\\item 22\n\\item 22\n\\item 22\n\\item 22\n\\item 22\n\\item 22\n\\item 22\n\\item 22\n\\item 22\n\\item 22\n\\item 22\n\\item 22\n\\item 22\n\\item 22\n\\item 22\n\\item 22\n\\item 22\n\\item 22\n\\item 22\n\\item 22\n\\item 22\n\\item 22\n\\item 22\n\\item 22\n\\item 22\n\\item 22\n\\item 22\n\\item 22\n\\item 22\n\\item 22\n\\item 22\n\\item 22\n\\item 22\n\\item 22\n\\item 22\n\\item 22\n\\item 22\n\\item 22\n\\item 22\n\\item 22\n\\item 22\n\\item 22\n\\item 22\n\\item 22\n\\item 22\n\\item 22\n\\item 22\n\\item 22\n\\item 22\n\\item 22\n\\item 22\n\\item 22\n\\item 22\n\\item 22\n\\item 22\n\\item 22\n\\item 22\n\\item 22\n\\item 22\n\\item 22\n\\item 22\n\\item 22\n\\item 23\n\\item 23\n\\item 23\n\\item 23\n\\item 23\n\\item 23\n\\item 23\n\\item 23\n\\item 23\n\\item 23\n\\item 23\n\\item 23\n\\item 23\n\\item 23\n\\item 23\n\\item 23\n\\item 23\n\\item 23\n\\item 23\n\\item 23\n\\item 23\n\\item 23\n\\item 23\n\\item 23\n\\item 23\n\\item 23\n\\item 23\n\\item 23\n\\item 23\n\\item 23\n\\item 23\n\\item 23\n\\item 23\n\\item 23\n\\item 23\n\\item 23\n\\item 23\n\\item 23\n\\item 23\n\\item 23\n\\item 23\n\\item 23\n\\item 23\n\\item 23\n\\item 23\n\\item 23\n\\item 23\n\\item 23\n\\item 23\n\\item 23\n\\item 23\n\\item 23\n\\item 23\n\\item 23\n\\item 23\n\\item 23\n\\item 23\n\\item 23\n\\item 23\n\\item 23\n\\item 23\n\\item 23\n\\item 23\n\\item 23\n\\item 23\n\\item 23\n\\item 23\n\\item 23\n\\item 23\n\\item 23\n\\item 23\n\\item 23\n\\item 23\n\\item 23\n\\item 23\n\\item 23\n\\item 24\n\\item 24\n\\item 24\n\\item 24\n\\item 24\n\\item 24\n\\item 24\n\\item 24\n\\item 24\n\\item 24\n\\item 24\n\\item 24\n\\item 24\n\\item 24\n\\item 24\n\\item 24\n\\item 24\n\\item 24\n\\item 24\n\\item 24\n\\end{enumerate*}\n",
            "text/plain": [
              "   [1]  1  1  1  1  1  1  1  1  1  1  1  1  1  1  1  1  1  1  1  1  1  1  1  1\n",
              "  [25]  1  1  1  1  1  1  1  1  1  1  1  2  2  2  2  2  2  2  2  2  2  2  2  2\n",
              "  [49]  2  2  2  2  3  3  3  3  3  3  3  3  3  3  3  3  3  3  3  3  3  3  3  3\n",
              "  [73]  3  3  3  3  3  3  3  3  3  3  3  3  3  3  3  3  3  3  3  3  3  3  3  3\n",
              "  [97]  3  3  3  3  3  3  3  3  3  3  3  3  3  3  3  3  3  3  3  3  3  3  3  3\n",
              " [121]  3  3  3  3  3  3  3  3  3  3  3  3  3  3  3  3  3  3  3  3  3  3  3  3\n",
              " [145]  3  3  3  3  3  3  3  3  3  3  3  3  3  3  3  3  3  3  3  3  3  3  3  3\n",
              " [169]  3  3  4  4  4  4  4  4  4  4  4  4  4  4  4  4  4  4  4  4  4  4  4  4\n",
              " [193]  4  4  4  4  4  4  4  4  4  4  4  4  4  4  4  4  4  4  4  4  4  4  4  4\n",
              " [217]  4  4  4  4  4  4  4  4  4  4  4  4  4  4  4  4  4  4  4  4  4  4  4  4\n",
              " [241]  4  4  4  4  4  4  4  4  4  4  4  4  4  4  4  4  4  4  4  4  4  4  4  4\n",
              " [265]  4  4  4  4  4  4  4  4  4  4  4  4  4  4  4  4  4  4  4  4  4  4  4  4\n",
              " [289]  4  4  4  4  4  4  4  4  4  4  4  4  4  4  4  4  4  4  4  4  4  4  4  4\n",
              " [313]  4  4  4  4  4  4  4  4  4  4  4  4  5  5  5  5  5  5  5  5  5  5  5  5\n",
              " [337]  5  5  5  5  5  5  5  5  5  5  5  5  5  5  5  5  5  5  5  5  5  5  5  5\n",
              " [361]  5  5  5  5  5  5  5  5  5  5  5  5  5  5  5  5  5  5  5  5  5  5  5  5\n",
              " [385]  5  5  5  5  5  5  5  5  5  5  5  5  5  5  5  5  5  5  5  5  5  5  5  5\n",
              " [409]  5  5  5  5  5  5  5  5  5  5  5  5  5  5  5  5  5  5  5  5  5  5  5  5\n",
              " [433]  5  5  5  5  5  5  5  5  5  5  5  5  5  5  5  5  5  5  5  5  5  5  5  5\n",
              " [457]  5  5  5  5  5  5  5  5  5  5  5  5  5  5  5  5  5  5  5  5  5  5  5  5\n",
              " [481]  5  5  5  5  5  5  5  5  5  5  5  5  5  5  5  5  5  5  5  5  5  5  5  5\n",
              " [505]  5  5  5  5  5  5  5  5  5  5  5  5  5  5  5  5  5  5  5  5  5  5  5  5\n",
              " [529]  5  5  5  5  5  5  5  5  5  5  5  5  5  5  5  5  5  5  5  5  5  5  5  5\n",
              " [553]  5  5  5  5  5  5  5  5  5  5  5  5  5  5  5  5  5  5  5  5  5  5  5  5\n",
              " [577]  5  5  5  5  5  5  5  5  5  5  5  5  5  5  5  5  5  5  5  5  5  5  5  5\n",
              " [601]  5  5  5  5  5  5  5  5  5  5  5  5  5  5  5  5  5  5  5  5  5  5  5  5\n",
              " [625]  5  5  5  5  5  5  5  5  5  5  5  5  5  5  5  5  5  5  5  5  5  5  5  5\n",
              " [649]  5  5  5  5  5  5  5  5  5  5  5  5  5  5  5  5  5  5  5  5  5  5  5  5\n",
              " [673]  5  5  5  5  5  5  5  5  5  5  5  5  5  5  5  5  5  5  5  5  5  5  5  5\n",
              " [697]  5  5  5  5  5  5  5  5  5  5  5  5  5  5  5  6  6  6  6  6  6  6  6  6\n",
              " [721]  6  6  6  6  6  6  6  6  6  6  6  6  6  6  6  6  6  6  6  6  6  6  6  6\n",
              " [745]  6  6  6  6  6  6  6  6  6  6  6  6  6  6  6  6  6  6  6  6  6  6  6  6\n",
              " [769]  6  6  6  6  6  6  6  6  6  6  6  6  6  6  6  6  6  6  6  6  6  6  6  6\n",
              " [793]  6  6  6  6  6  6  6  6  6  6  6  6  6  6  6  6  6  6  6  6  6  6  6  6\n",
              " [817]  6  6  6  6  6  6  6  6  6  6  6  6  6  6  6  6  6  6  6  6  6  6  6  6\n",
              " [841]  6  6  6  6  6  6  6  6  6  6  6  6  6  6  6  6  6  6  6  6  6  6  6  6\n",
              " [865]  6  6  6  6  6  6  6  6  6  6  6  6  6  6  6  6  6  6  6  6  6  6  6  6\n",
              " [889]  6  6  6  6  6  6  6  6  6  6  6  6  6  6  6  6  6  6  6  6  6  6  6  6\n",
              " [913]  6  6  6  6  6  6  6  6  6  6  6  6  6  6  6  6  6  6  6  6  6  6  6  6\n",
              " [937]  6  6  6  6  6  6  6  6  6  6  6  6  6  6  6  6  6  6  6  6  6  6  6  6\n",
              " [961]  6  6  6  6  6  6  6  6  6  6  6  6  6  6  6  6  6  6  6  6  6  6  6  6\n",
              " [985]  6  6  6  6  6  6  6  6  6  6  6  6  6  6  6  6  6  6  6  6  6  6  6  6\n",
              "[1009]  6  6  6  6  6  6  6  6  6  6  6  6  6  6  6  6  6  6  6  6  6  6  6  6\n",
              "[1033]  6  6  6  6  6  6  6  6  6  6  6  6  6  6  6  6  6  6  6  6  6  6  6  6\n",
              "[1057]  6  6  6  6  6  6  6  6  6  6  6  6  6  6  6  6  6  6  6  6  6  6  6  6\n",
              "[1081]  6  6  6  6  6  6  6  6  6  6  6  6  6  6  6  6  6  6  6  6  6  6  6  6\n",
              "[1105]  6  6  6  6  6  6  6  6  6  6  6  6  6  6  6  6  6  6  6  6  6  6  6  6\n",
              "[1129]  6  6  6  6  6  6  6  6  6  6  6  6  6  6  6  6  6  6  6  6  6  6  6  6\n",
              "[1153]  6  6  6  6  6  6  6  6  6  6  6  6  6  6  6  6  6  6  6  6  6  6  6  6\n",
              "[1177]  6  6  6  6  6  6  6  6  6  6  6  6  6  6  6  6  6  6  6  6  6  6  6  6\n",
              "[1201]  6  6  6  6  6  6  6  6  6  6  6  6  6  6  6  6  6  6  6  6  6  6  6  6\n",
              "[1225]  6  6  6  6  6  6  6  6  6  6  6  6  6  6  6  6  6  6  6  6  6  6  6  6\n",
              "[1249]  6  6  6  6  6  6  6  6  6  6  6  6  6  6  6  6  6  6  6  6  6  6  6  6\n",
              "[1273]  6  6  6  6  6  6  6  6  6  6  6  6  6  6  6  6  6  6  6  6  6  6  6  6\n",
              "[1297]  6  6  6  6  6  6  6  6  6  6  6  6  6  6  6  6  6  6  6  6  6  6  6  6\n",
              "[1321]  6  6  6  6  6  6  6  6  6  6  6  6  6  6  6  6  6  6  6  6  6  6  6  6\n",
              "[1345]  6  6  6  6  6  6  6  6  6  6  6  6  6  6  6  6  6  6  6  6  6  6  6  6\n",
              "[1369]  6  6  6  6  6  6  6  6  6  6  6  6  6  7  7  7  7  8  8  8  8  8  8  8\n",
              "[1393]  8  8  8  8  8  8  9  9  9  9  9  9  9  9  9  9  9  9  9  9  9  9  9  9\n",
              "[1417]  9  9  9  9  9  9  9  9  9  9  9  9  9  9  9  9  9  9  9  9  9  9  9  9\n",
              "[1441]  9  9  9  9  9  9  9  9  9  9  9  9  9  9  9  9  9  9  9  9  9  9  9  9\n",
              "[1465]  9  9  9  9  9  9  9  9  9  9  9  9  9  9  9  9  9  9  9  9  9  9  9 10\n",
              "[1489] 10 10 11 11 11 11 11 12 12 12 12 12 12 12 12 12 12 12 13 13 13 13 13 13\n",
              "[1513] 13 13 13 13 13 13 13 14 15 15 15 15 15 15 15 15 15 15 15 15 15 16 16 16\n",
              "[1537] 16 16 16 16 16 16 16 16 16 16 16 17 17 17 17 17 17 17 17 17 17 17 17 17\n",
              "[1561] 17 17 17 17 17 17 17 17 17 17 17 17 17 17 17 17 17 17 17 17 17 17 17 17\n",
              "[1585] 17 17 17 17 17 17 17 17 17 17 17 17 17 17 17 17 17 17 17 17 18 18 18 18\n",
              "[1609] 18 18 18 18 18 18 18 18 18 18 19 19 19 19 19 19 19 19 19 19 19 19 19 19\n",
              "[1633] 19 19 19 19 19 19 19 19 19 19 19 19 19 19 19 19 19 19 19 19 19 19 19 19\n",
              "[1657] 19 19 19 19 19 19 19 19 19 19 19 19 19 19 19 19 19 19 19 19 19 19 19 19\n",
              "[1681] 19 19 19 19 19 19 19 19 19 19 19 19 19 20 20 20 20 20 20 20 20 20 20 20\n",
              "[1705] 20 20 20 20 20 20 20 20 20 20 20 20 20 20 20 20 20 20 20 20 20 20 20 20\n",
              "[1729] 20 20 20 20 20 20 20 20 20 20 20 20 20 20 20 20 20 20 20 20 20 20 20 20\n",
              "[1753] 20 20 20 20 20 20 20 20 20 20 20 20 20 20 20 20 20 20 20 20 20 20 20 20\n",
              "[1777] 20 20 20 20 20 20 20 20 20 20 20 20 20 20 20 20 20 20 20 20 20 20 20 20\n",
              "[1801] 20 20 20 20 20 20 20 20 20 20 20 20 20 20 20 20 20 20 20 20 20 20 20 20\n",
              "[1825] 20 20 20 20 20 20 20 20 20 20 20 20 20 20 20 20 20 20 20 20 20 20 20 20\n",
              "[1849] 20 20 20 20 20 20 20 20 20 20 20 20 20 20 20 20 20 20 20 20 20 20 20 20\n",
              "[1873] 20 20 20 20 20 20 20 20 20 20 20 20 20 21 21 21 21 21 21 21 21 21 21 21\n",
              "[1897] 21 21 21 21 21 21 21 21 21 21 21 21 21 21 21 21 21 21 21 21 21 21 21 21\n",
              "[1921] 21 21 21 21 21 21 21 21 21 21 21 21 21 21 21 21 21 21 21 21 21 21 21 21\n",
              "[1945] 21 21 21 21 21 21 21 21 21 21 21 21 21 21 21 21 21 21 21 21 21 21 21 21\n",
              "[1969] 21 21 21 21 21 21 21 21 21 21 21 21 21 21 21 21 21 21 21 21 21 21 21 21\n",
              "[1993] 21 21 21 21 21 21 21 21 21 21 21 21 21 21 21 21 21 21 21 21 21 21 21 21\n",
              "[2017] 21 21 21 21 21 21 21 21 21 22 22 22 22 22 22 22 22 22 22 22 22 22 22 22\n",
              "[2041] 22 22 22 22 22 22 22 22 22 22 22 22 22 22 22 22 22 22 22 22 22 22 22 22\n",
              "[2065] 22 22 22 22 22 22 22 22 22 22 22 22 22 22 22 22 22 22 22 22 22 22 22 22\n",
              "[2089] 22 22 22 22 22 22 22 22 22 22 22 22 22 22 22 22 22 23 23 23 23 23 23 23\n",
              "[2113] 23 23 23 23 23 23 23 23 23 23 23 23 23 23 23 23 23 23 23 23 23 23 23 23\n",
              "[2137] 23 23 23 23 23 23 23 23 23 23 23 23 23 23 23 23 23 23 23 23 23 23 23 23\n",
              "[2161] 23 23 23 23 23 23 23 23 23 23 23 23 23 23 23 23 23 23 23 23 23 24 24 24\n",
              "[2185] 24 24 24 24 24 24 24 24 24 24 24 24 24 24 24 24 24"
            ]
          },
          "metadata": {}
        }
      ]
    },
    {
      "cell_type": "code",
      "source": [
        "titanic_filtered <- titanic[titanic$Freq > 0, ]\n",
        "\n",
        "titanic2 <- titanic_filtered[rep(seq_len(nrow(titanic_filtered)), titanic_filtered$Freq), ]\n",
        "\n",
        "titanic2 <- titanic2[order(titanic2$X), ]\n",
        "\n",
        "head(titanic2)\n"
      ],
      "metadata": {
        "id": "hktfQJsfK_5s",
        "colab": {
          "base_uri": "https://localhost:8080/",
          "height": 286
        },
        "outputId": "745b0ebe-c39b-40d2-b626-7e0e857c6889"
      },
      "execution_count": 58,
      "outputs": [
        {
          "output_type": "display_data",
          "data": {
            "text/html": [
              "<table class=\"dataframe\">\n",
              "<caption>A data.frame: 6 × 6</caption>\n",
              "<thead>\n",
              "\t<tr><th></th><th scope=col>X</th><th scope=col>Class</th><th scope=col>Sex</th><th scope=col>Age</th><th scope=col>Survived</th><th scope=col>Freq</th></tr>\n",
              "\t<tr><th></th><th scope=col>&lt;int&gt;</th><th scope=col>&lt;dbl&gt;</th><th scope=col>&lt;chr&gt;</th><th scope=col>&lt;chr&gt;</th><th scope=col>&lt;chr&gt;</th><th scope=col>&lt;int&gt;</th></tr>\n",
              "</thead>\n",
              "<tbody>\n",
              "\t<tr><th scope=row>3</th><td>3</td><td>NA</td><td>Male</td><td>Child</td><td>No</td><td>35</td></tr>\n",
              "\t<tr><th scope=row>3.1</th><td>3</td><td>NA</td><td>Male</td><td>Child</td><td>No</td><td>35</td></tr>\n",
              "\t<tr><th scope=row>3.2</th><td>3</td><td>NA</td><td>Male</td><td>Child</td><td>No</td><td>35</td></tr>\n",
              "\t<tr><th scope=row>3.3</th><td>3</td><td>NA</td><td>Male</td><td>Child</td><td>No</td><td>35</td></tr>\n",
              "\t<tr><th scope=row>3.4</th><td>3</td><td>NA</td><td>Male</td><td>Child</td><td>No</td><td>35</td></tr>\n",
              "\t<tr><th scope=row>3.5</th><td>3</td><td>NA</td><td>Male</td><td>Child</td><td>No</td><td>35</td></tr>\n",
              "</tbody>\n",
              "</table>\n"
            ],
            "text/markdown": "\nA data.frame: 6 × 6\n\n| <!--/--> | X &lt;int&gt; | Class &lt;dbl&gt; | Sex &lt;chr&gt; | Age &lt;chr&gt; | Survived &lt;chr&gt; | Freq &lt;int&gt; |\n|---|---|---|---|---|---|---|\n| 3 | 3 | NA | Male | Child | No | 35 |\n| 3.1 | 3 | NA | Male | Child | No | 35 |\n| 3.2 | 3 | NA | Male | Child | No | 35 |\n| 3.3 | 3 | NA | Male | Child | No | 35 |\n| 3.4 | 3 | NA | Male | Child | No | 35 |\n| 3.5 | 3 | NA | Male | Child | No | 35 |\n\n",
            "text/latex": "A data.frame: 6 × 6\n\\begin{tabular}{r|llllll}\n  & X & Class & Sex & Age & Survived & Freq\\\\\n  & <int> & <dbl> & <chr> & <chr> & <chr> & <int>\\\\\n\\hline\n\t3 & 3 & NA & Male & Child & No & 35\\\\\n\t3.1 & 3 & NA & Male & Child & No & 35\\\\\n\t3.2 & 3 & NA & Male & Child & No & 35\\\\\n\t3.3 & 3 & NA & Male & Child & No & 35\\\\\n\t3.4 & 3 & NA & Male & Child & No & 35\\\\\n\t3.5 & 3 & NA & Male & Child & No & 35\\\\\n\\end{tabular}\n",
            "text/plain": [
              "    X Class Sex  Age   Survived Freq\n",
              "3   3 NA    Male Child No       35  \n",
              "3.1 3 NA    Male Child No       35  \n",
              "3.2 3 NA    Male Child No       35  \n",
              "3.3 3 NA    Male Child No       35  \n",
              "3.4 3 NA    Male Child No       35  \n",
              "3.5 3 NA    Male Child No       35  "
            ]
          },
          "metadata": {}
        }
      ]
    },
    {
      "cell_type": "code",
      "source": [
        "barplot(table(titanic$Freq), main=\"Original Titanic Data \", xlab=\"Freq feature\", ylab=\"Count\", col=\"skyblue\")\n",
        "\n",
        "barplot(table(titanic2$Freq), main=\"Transformed Titanic Data \", xlab=\"Freq feature\", ylab=\"Count\", col=\"lightgreen\")\n"
      ],
      "metadata": {
        "colab": {
          "base_uri": "https://localhost:8080/",
          "height": 857
        },
        "id": "CN6KMiZ7pQbd",
        "outputId": "78cc4def-3838-4693-f379-eb37828033ff"
      },
      "execution_count": 59,
      "outputs": [
        {
          "output_type": "display_data",
          "data": {
            "text/plain": [
              "Plot with title “Original Titanic Data ”"
            ],
            "image/png": "[encoded data removed]"
          },
          "metadata": {
            "image/png": {
              "width": 420,
              "height": 420
            }
          }
        },
        {
          "output_type": "display_data",
          "data": {
            "text/plain": [
              "Plot with title “Transformed Titanic Data ”"
            ],
            "image/png": "[encoded data removed]"
          },
          "metadata": {
            "image/png": {
              "width": 420,
              "height": 420
            }
          }
        }
      ]
    },
    {
      "cell_type": "markdown",
      "source": [
        "# Exercise 7: Data selection."
      ],
      "metadata": {
        "id": "qeG5tJVtEwWB"
      }
    },
    {
      "cell_type": "code",
      "source": [
        "airq <- read.csv(\"airquality.csv\",header=TRUE, sep=\",\")\n",
        "\n",
        "for (col in names(airq)) {\n",
        "  airq[is.na(airq[[col]]), col] <- mean(airq[[col]], na.rm = TRUE)\n",
        "}\n",
        "head(airq)"
      ],
      "metadata": {
        "colab": {
          "base_uri": "https://localhost:8080/",
          "height": 286
        },
        "id": "ENE-JBBjqf9F",
        "outputId": "cd89a725-84fc-4a94-cd3b-7122b53ec524"
      },
      "execution_count": 60,
      "outputs": [
        {
          "output_type": "display_data",
          "data": {
            "text/html": [
              "<table class=\"dataframe\">\n",
              "<caption>A data.frame: 6 × 6</caption>\n",
              "<thead>\n",
              "\t<tr><th></th><th scope=col>Ozone</th><th scope=col>Solar.R</th><th scope=col>Wind</th><th scope=col>Temp</th><th scope=col>Month</th><th scope=col>Day</th></tr>\n",
              "\t<tr><th></th><th scope=col>&lt;dbl&gt;</th><th scope=col>&lt;dbl&gt;</th><th scope=col>&lt;dbl&gt;</th><th scope=col>&lt;int&gt;</th><th scope=col>&lt;int&gt;</th><th scope=col>&lt;int&gt;</th></tr>\n",
              "</thead>\n",
              "<tbody>\n",
              "\t<tr><th scope=row>1</th><td>41.00000</td><td>190.0000</td><td> 7.4</td><td>67</td><td>5</td><td>1</td></tr>\n",
              "\t<tr><th scope=row>2</th><td>36.00000</td><td>118.0000</td><td> 8.0</td><td>72</td><td>5</td><td>2</td></tr>\n",
              "\t<tr><th scope=row>3</th><td>12.00000</td><td>149.0000</td><td>12.6</td><td>74</td><td>5</td><td>3</td></tr>\n",
              "\t<tr><th scope=row>4</th><td>18.00000</td><td>313.0000</td><td>11.5</td><td>62</td><td>5</td><td>4</td></tr>\n",
              "\t<tr><th scope=row>5</th><td>42.12931</td><td>185.9315</td><td>14.3</td><td>56</td><td>5</td><td>5</td></tr>\n",
              "\t<tr><th scope=row>6</th><td>28.00000</td><td>185.9315</td><td>14.9</td><td>66</td><td>5</td><td>6</td></tr>\n",
              "</tbody>\n",
              "</table>\n"
            ],
            "text/markdown": "\nA data.frame: 6 × 6\n\n| <!--/--> | Ozone &lt;dbl&gt; | Solar.R &lt;dbl&gt; | Wind &lt;dbl&gt; | Temp &lt;int&gt; | Month &lt;int&gt; | Day &lt;int&gt; |\n|---|---|---|---|---|---|---|\n| 1 | 41.00000 | 190.0000 |  7.4 | 67 | 5 | 1 |\n| 2 | 36.00000 | 118.0000 |  8.0 | 72 | 5 | 2 |\n| 3 | 12.00000 | 149.0000 | 12.6 | 74 | 5 | 3 |\n| 4 | 18.00000 | 313.0000 | 11.5 | 62 | 5 | 4 |\n| 5 | 42.12931 | 185.9315 | 14.3 | 56 | 5 | 5 |\n| 6 | 28.00000 | 185.9315 | 14.9 | 66 | 5 | 6 |\n\n",
            "text/latex": "A data.frame: 6 × 6\n\\begin{tabular}{r|llllll}\n  & Ozone & Solar.R & Wind & Temp & Month & Day\\\\\n  & <dbl> & <dbl> & <dbl> & <int> & <int> & <int>\\\\\n\\hline\n\t1 & 41.00000 & 190.0000 &  7.4 & 67 & 5 & 1\\\\\n\t2 & 36.00000 & 118.0000 &  8.0 & 72 & 5 & 2\\\\\n\t3 & 12.00000 & 149.0000 & 12.6 & 74 & 5 & 3\\\\\n\t4 & 18.00000 & 313.0000 & 11.5 & 62 & 5 & 4\\\\\n\t5 & 42.12931 & 185.9315 & 14.3 & 56 & 5 & 5\\\\\n\t6 & 28.00000 & 185.9315 & 14.9 & 66 & 5 & 6\\\\\n\\end{tabular}\n",
            "text/plain": [
              "  Ozone    Solar.R  Wind Temp Month Day\n",
              "1 41.00000 190.0000  7.4 67   5     1  \n",
              "2 36.00000 118.0000  8.0 72   5     2  \n",
              "3 12.00000 149.0000 12.6 74   5     3  \n",
              "4 18.00000 313.0000 11.5 62   5     4  \n",
              "5 42.12931 185.9315 14.3 56   5     5  \n",
              "6 28.00000 185.9315 14.9 66   5     6  "
            ]
          },
          "metadata": {}
        }
      ]
    },
    {
      "cell_type": "code",
      "source": [
        "correlation_matrix <- cor(airq)\n",
        "\n",
        "print(correlation_matrix)"
      ],
      "metadata": {
        "colab": {
          "base_uri": "https://localhost:8080/"
        },
        "id": "57Ng5pmmq6LX",
        "outputId": "187aef14-a97b-4b11-a6c6-6a7bd93254d4"
      },
      "execution_count": 61,
      "outputs": [
        {
          "output_type": "stream",
          "name": "stdout",
          "text": [
            "              Ozone     Solar.R        Wind       Temp        Month\n",
            "Ozone    1.00000000  0.30296951 -0.53093584  0.6087420  0.149081301\n",
            "Solar.R  0.30296951  1.00000000 -0.05524488  0.2625689 -0.072904429\n",
            "Wind    -0.53093584 -0.05524488  1.00000000 -0.4579879 -0.178292579\n",
            "Temp     0.60874201  0.26256886 -0.45798788  1.0000000  0.420947252\n",
            "Month    0.14908130 -0.07290443 -0.17829258  0.4209473  1.000000000\n",
            "Day     -0.01135537 -0.14562113  0.02718090 -0.1305932 -0.007961763\n",
            "                 Day\n",
            "Ozone   -0.011355366\n",
            "Solar.R -0.145621130\n",
            "Wind     0.027180903\n",
            "Temp    -0.130593175\n",
            "Month   -0.007961763\n",
            "Day      1.000000000\n"
          ]
        }
      ]
    },
    {
      "cell_type": "markdown",
      "source": [
        "Calculate a correlation matrix for the air dataset. Do you see a\n",
        "pair of attributes that are redundant?\n",
        "\n",
        "I dont see souch a attributes. Thw highest correlation have Ozone and Temp, but still 0.6 its too small to named it redundant."
      ],
      "metadata": {
        "id": "7RznJHB0FGzj"
      }
    },
    {
      "cell_type": "code",
      "source": [
        "heatmap(correlation_matrix,\n",
        "        col = colorRampPalette(c(\"navy\", \"white\", \"firebrick3\"))(100),\n",
        "        scale = \"none\",\n",
        "        margins = c(10, 10))\n",
        "\n",
        "# Dodaj tytuł do mapy cieplnej\n",
        "title(\"Correlation Heatmap for cars Dataset\")\n",
        "\n"
      ],
      "metadata": {
        "colab": {
          "base_uri": "https://localhost:8080/",
          "height": 437
        },
        "id": "MslEkt8yvKUz",
        "outputId": "546591e1-0b55-4a7f-9998-4988a83848b1"
      },
      "execution_count": 62,
      "outputs": [
        {
          "output_type": "display_data",
          "data": {
            "text/plain": [
              "Plot with title “Correlation Heatmap for cars Dataset”"
            ],
            "image/png": "[encoded data removed]"
          },
          "metadata": {
            "image/png": {
              "width": 420,
              "height": 420
            }
          }
        }
      ]
    },
    {
      "cell_type": "code",
      "source": [
        "cars <- read.csv(\"cars.csv\",header=TRUE, sep=\",\")\n",
        "\n",
        "correlation_matrix <- cor(cars)\n",
        "correlation_matrix\n"
      ],
      "metadata": {
        "colab": {
          "base_uri": "https://localhost:8080/",
          "height": 161
        },
        "id": "c7U8B3fyFgn4",
        "outputId": "41e3bc91-dd3b-4b9b-eb7c-04d3da876d79"
      },
      "execution_count": 66,
      "outputs": [
        {
          "output_type": "display_data",
          "data": {
            "text/html": [
              "<table class=\"dataframe\">\n",
              "<caption>A matrix: 3 × 3 of type dbl</caption>\n",
              "<thead>\n",
              "\t<tr><th></th><th scope=col>X</th><th scope=col>speed</th><th scope=col>dist</th></tr>\n",
              "</thead>\n",
              "<tbody>\n",
              "\t<tr><th scope=row>X</th><td>1.0000000</td><td>0.9854590</td><td>0.8176576</td></tr>\n",
              "\t<tr><th scope=row>speed</th><td>0.9854590</td><td>1.0000000</td><td>0.8068949</td></tr>\n",
              "\t<tr><th scope=row>dist</th><td>0.8176576</td><td>0.8068949</td><td>1.0000000</td></tr>\n",
              "</tbody>\n",
              "</table>\n"
            ],
            "text/markdown": "\nA matrix: 3 × 3 of type dbl\n\n| <!--/--> | X | speed | dist |\n|---|---|---|---|\n| X | 1.0000000 | 0.9854590 | 0.8176576 |\n| speed | 0.9854590 | 1.0000000 | 0.8068949 |\n| dist | 0.8176576 | 0.8068949 | 1.0000000 |\n\n",
            "text/latex": "A matrix: 3 × 3 of type dbl\n\\begin{tabular}{r|lll}\n  & X & speed & dist\\\\\n\\hline\n\tX & 1.0000000 & 0.9854590 & 0.8176576\\\\\n\tspeed & 0.9854590 & 1.0000000 & 0.8068949\\\\\n\tdist & 0.8176576 & 0.8068949 & 1.0000000\\\\\n\\end{tabular}\n",
            "text/plain": [
              "      X         speed     dist     \n",
              "X     1.0000000 0.9854590 0.8176576\n",
              "speed 0.9854590 1.0000000 0.8068949\n",
              "dist  0.8176576 0.8068949 1.0000000"
            ]
          },
          "metadata": {}
        }
      ]
    },
    {
      "cell_type": "markdown",
      "source": [
        "Calculate a correlation matrix for the air dataset. Do you see a\n",
        "pair of attributes that are redundant?\n",
        "\n",
        "All attributes have a high correlation score, when speed and X are redundant (0.985)."
      ],
      "metadata": {
        "id": "DE9FTF0iFs4P"
      }
    },
    {
      "cell_type": "code",
      "source": [
        "heatmap(correlation_matrix,\n",
        "        col = colorRampPalette(c(\"navy\", \"white\", \"firebrick3\"))(100),\n",
        "        scale = \"none\",\n",
        "        margins = c(10, 10))\n",
        "\n",
        "# Dodaj tytuł do mapy cieplnej\n",
        "title(\"Correlation Heatmap for cars Dataset\")\n"
      ],
      "metadata": {
        "id": "mWJshYKTrK1H",
        "colab": {
          "base_uri": "https://localhost:8080/",
          "height": 437
        },
        "outputId": "285b22f4-588e-4adc-a9a8-922d2159ab51"
      },
      "execution_count": 67,
      "outputs": [
        {
          "output_type": "display_data",
          "data": {
            "text/plain": [
              "Plot with title “Correlation Heatmap for cars Dataset”"
            ],
            "image/png": "[encoded data removed]"
          },
          "metadata": {
            "image/png": {
              "width": 420,
              "height": 420
            }
          }
        }
      ]
    },
    {
      "cell_type": "code",
      "source": [
        "random_sample <- airq[sample(nrow(airq), 50), ]\n",
        "\n",
        "head(random_sample)\n"
      ],
      "metadata": {
        "colab": {
          "base_uri": "https://localhost:8080/",
          "height": 286
        },
        "id": "_wvw5HRstzW1",
        "outputId": "69721ac8-c586-477c-e71d-5f437eb7dec6"
      },
      "execution_count": 68,
      "outputs": [
        {
          "output_type": "display_data",
          "data": {
            "text/html": [
              "<table class=\"dataframe\">\n",
              "<caption>A data.frame: 6 × 6</caption>\n",
              "<thead>\n",
              "\t<tr><th></th><th scope=col>Ozone</th><th scope=col>Solar.R</th><th scope=col>Wind</th><th scope=col>Temp</th><th scope=col>Month</th><th scope=col>Day</th></tr>\n",
              "\t<tr><th></th><th scope=col>&lt;dbl&gt;</th><th scope=col>&lt;dbl&gt;</th><th scope=col>&lt;dbl&gt;</th><th scope=col>&lt;int&gt;</th><th scope=col>&lt;int&gt;</th><th scope=col>&lt;int&gt;</th></tr>\n",
              "</thead>\n",
              "<tbody>\n",
              "\t<tr><th scope=row>2</th><td>36</td><td>118</td><td> 8.0</td><td>72</td><td>5</td><td> 2</td></tr>\n",
              "\t<tr><th scope=row>140</th><td>18</td><td>224</td><td>13.8</td><td>67</td><td>9</td><td>17</td></tr>\n",
              "\t<tr><th scope=row>134</th><td>44</td><td>236</td><td>14.9</td><td>81</td><td>9</td><td>11</td></tr>\n",
              "\t<tr><th scope=row>68</th><td>77</td><td>276</td><td> 5.1</td><td>88</td><td>7</td><td> 7</td></tr>\n",
              "\t<tr><th scope=row>70</th><td>97</td><td>272</td><td> 5.7</td><td>92</td><td>7</td><td> 9</td></tr>\n",
              "\t<tr><th scope=row>123</th><td>85</td><td>188</td><td> 6.3</td><td>94</td><td>8</td><td>31</td></tr>\n",
              "</tbody>\n",
              "</table>\n"
            ],
            "text/markdown": "\nA data.frame: 6 × 6\n\n| <!--/--> | Ozone &lt;dbl&gt; | Solar.R &lt;dbl&gt; | Wind &lt;dbl&gt; | Temp &lt;int&gt; | Month &lt;int&gt; | Day &lt;int&gt; |\n|---|---|---|---|---|---|---|\n| 2 | 36 | 118 |  8.0 | 72 | 5 |  2 |\n| 140 | 18 | 224 | 13.8 | 67 | 9 | 17 |\n| 134 | 44 | 236 | 14.9 | 81 | 9 | 11 |\n| 68 | 77 | 276 |  5.1 | 88 | 7 |  7 |\n| 70 | 97 | 272 |  5.7 | 92 | 7 |  9 |\n| 123 | 85 | 188 |  6.3 | 94 | 8 | 31 |\n\n",
            "text/latex": "A data.frame: 6 × 6\n\\begin{tabular}{r|llllll}\n  & Ozone & Solar.R & Wind & Temp & Month & Day\\\\\n  & <dbl> & <dbl> & <dbl> & <int> & <int> & <int>\\\\\n\\hline\n\t2 & 36 & 118 &  8.0 & 72 & 5 &  2\\\\\n\t140 & 18 & 224 & 13.8 & 67 & 9 & 17\\\\\n\t134 & 44 & 236 & 14.9 & 81 & 9 & 11\\\\\n\t68 & 77 & 276 &  5.1 & 88 & 7 &  7\\\\\n\t70 & 97 & 272 &  5.7 & 92 & 7 &  9\\\\\n\t123 & 85 & 188 &  6.3 & 94 & 8 & 31\\\\\n\\end{tabular}\n",
            "text/plain": [
              "    Ozone Solar.R Wind Temp Month Day\n",
              "2   36    118      8.0 72   5      2 \n",
              "140 18    224     13.8 67   9     17 \n",
              "134 44    236     14.9 81   9     11 \n",
              "68  77    276      5.1 88   7      7 \n",
              "70  97    272      5.7 92   7      9 \n",
              "123 85    188      6.3 94   8     31 "
            ]
          },
          "metadata": {}
        }
      ]
    },
    {
      "cell_type": "code",
      "source": [
        "install.packages(\"splitstackshape\")\n"
      ],
      "metadata": {
        "colab": {
          "base_uri": "https://localhost:8080/"
        },
        "id": "ocTOedQquUWB",
        "outputId": "03f4323a-626a-4963-8065-39d313f4bdd9"
      },
      "execution_count": 69,
      "outputs": [
        {
          "output_type": "stream",
          "name": "stderr",
          "text": [
            "Installing package into ‘/usr/local/lib/R/site-library’\n",
            "(as ‘lib’ is unspecified)\n",
            "\n"
          ]
        }
      ]
    },
    {
      "cell_type": "code",
      "source": [
        "library(splitstackshape)\n",
        "# stratified_sample - na podstawie miesiąca\n",
        "# najpierw populacja zostanie podzielona na 12 podgrup, każda reprezentująca jeden miesiąc.\n",
        "# Następnie z każdej podgrupy zostaną losowo wybrane 5 przykłady\n",
        "stratified_sample <- stratified(airq, \"Month\", 5)\n",
        "\n",
        "print(stratified_sample)\n"
      ],
      "metadata": {
        "colab": {
          "base_uri": "https://localhost:8080/"
        },
        "id": "BEEyAo-vuBDn",
        "outputId": "ad74a48b-e5ee-48f8-e7b1-07f1f6884100"
      },
      "execution_count": null,
      "outputs": [
        {
          "output_type": "stream",
          "name": "stdout",
          "text": [
            "        Ozone  Solar.R Wind Temp Month Day\n",
            " 1:  45.00000 252.0000 14.9   81     5  29\n",
            " 2:  42.12931 185.9315 14.3   56     5   5\n",
            " 3:  18.00000 313.0000 11.5   62     5   4\n",
            " 4:  30.00000 322.0000 11.5   68     5  19\n",
            " 5:  14.00000 334.0000 11.5   64     5  16\n",
            " 6:  42.12931 259.0000 10.9   93     6  11\n",
            " 7:  42.12931 264.0000 14.3   79     6   6\n",
            " 8:  13.00000 137.0000 10.3   76     6  20\n",
            " 9:  42.12931  91.0000  4.6   76     6  23\n",
            "10:  42.12931 186.0000  9.2   84     6   4\n",
            "11:  16.00000   7.0000  6.9   74     7  21\n",
            "12:  32.00000 236.0000  9.2   81     7   3\n",
            "13:  79.00000 187.0000  5.1   87     7  19\n",
            "14: 108.00000 223.0000  8.0   85     7  25\n",
            "15:  59.00000 254.0000  9.2   81     7  31\n",
            "16: 122.00000 255.0000  4.0   89     8   7\n",
            "17:  89.00000 229.0000 10.3   90     8   8\n",
            "18:  22.00000  71.0000 10.3   77     8  16\n",
            "19:  28.00000 273.0000 11.5   82     8  13\n",
            "20: 168.00000 238.0000  3.4   81     8  25\n",
            "21:   9.00000  24.0000 10.9   71     9  14\n",
            "22:  18.00000 131.0000  8.0   76     9  29\n",
            "23:   7.00000  49.0000 10.3   69     9  24\n",
            "24:  18.00000 224.0000 13.8   67     9  17\n",
            "25:  24.00000 259.0000  9.7   73     9  10\n",
            "        Ozone  Solar.R Wind Temp Month Day\n"
          ]
        }
      ]
    },
    {
      "cell_type": "code",
      "source": [],
      "metadata": {
        "id": "UoptNvfSwDFq"
      },
      "execution_count": null,
      "outputs": []
    }
  ]
}