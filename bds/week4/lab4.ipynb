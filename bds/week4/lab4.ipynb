{
 "cells": [
  {
   "cell_type": "code",
   "execution_count": 1,
   "metadata": {},
   "outputs": [],
   "source": [
    "import pandas as pd"
   ]
  },
  {
   "cell_type": "code",
   "execution_count": 2,
   "metadata": {},
   "outputs": [
    {
     "data": {
      "text/html": [
       "<div>\n",
       "<style scoped>\n",
       "    .dataframe tbody tr th:only-of-type {\n",
       "        vertical-align: middle;\n",
       "    }\n",
       "\n",
       "    .dataframe tbody tr th {\n",
       "        vertical-align: top;\n",
       "    }\n",
       "\n",
       "    .dataframe thead th {\n",
       "        text-align: right;\n",
       "    }\n",
       "</style>\n",
       "<table border=\"1\" class=\"dataframe\">\n",
       "  <thead>\n",
       "    <tr style=\"text-align: right;\">\n",
       "      <th></th>\n",
       "      <th>age</th>\n",
       "      <th>barthel</th>\n",
       "      <th>charlson</th>\n",
       "      <th>codidiagingreso</th>\n",
       "      <th>codservicioreal</th>\n",
       "      <th>creatinina</th>\n",
       "      <th>drg</th>\n",
       "      <th>estancias</th>\n",
       "      <th>glucosa</th>\n",
       "      <th>hematocrito</th>\n",
       "      <th>...</th>\n",
       "      <th>metastatic_tumor</th>\n",
       "      <th>num_grupoact3_HOSP</th>\n",
       "      <th>numurgenciasprevias</th>\n",
       "      <th>potasio</th>\n",
       "      <th>proteina_c_reactiva</th>\n",
       "      <th>rdw_cv</th>\n",
       "      <th>rdw_sd</th>\n",
       "      <th>sodio</th>\n",
       "      <th>urea</th>\n",
       "      <th>label</th>\n",
       "    </tr>\n",
       "  </thead>\n",
       "  <tbody>\n",
       "    <tr>\n",
       "      <th>0</th>\n",
       "      <td>80</td>\n",
       "      <td>NaN</td>\n",
       "      <td>4.0</td>\n",
       "      <td>NaN</td>\n",
       "      <td>HNEM</td>\n",
       "      <td>0.42</td>\n",
       "      <td>141.0</td>\n",
       "      <td>7.0</td>\n",
       "      <td>110.0</td>\n",
       "      <td>29.548684</td>\n",
       "      <td>...</td>\n",
       "      <td>0.0</td>\n",
       "      <td>NaN</td>\n",
       "      <td>6.0</td>\n",
       "      <td>4.653334</td>\n",
       "      <td>NaN</td>\n",
       "      <td>24.9</td>\n",
       "      <td>83.1</td>\n",
       "      <td>145.0</td>\n",
       "      <td>NaN</td>\n",
       "      <td>0.0</td>\n",
       "    </tr>\n",
       "    <tr>\n",
       "      <th>1</th>\n",
       "      <td>67</td>\n",
       "      <td>NaN</td>\n",
       "      <td>5.0</td>\n",
       "      <td>NaN</td>\n",
       "      <td>HNEF</td>\n",
       "      <td>NaN</td>\n",
       "      <td>444.0</td>\n",
       "      <td>11.0</td>\n",
       "      <td>NaN</td>\n",
       "      <td>30.648684</td>\n",
       "      <td>...</td>\n",
       "      <td>0.0</td>\n",
       "      <td>NaN</td>\n",
       "      <td>1.0</td>\n",
       "      <td>NaN</td>\n",
       "      <td>NaN</td>\n",
       "      <td>14.8</td>\n",
       "      <td>46.3</td>\n",
       "      <td>NaN</td>\n",
       "      <td>NaN</td>\n",
       "      <td>0.0</td>\n",
       "    </tr>\n",
       "    <tr>\n",
       "      <th>2</th>\n",
       "      <td>75</td>\n",
       "      <td>NaN</td>\n",
       "      <td>13.0</td>\n",
       "      <td>M97303</td>\n",
       "      <td>HHEM</td>\n",
       "      <td>0.92</td>\n",
       "      <td>691.0</td>\n",
       "      <td>14.0</td>\n",
       "      <td>NaN</td>\n",
       "      <td>33.848684</td>\n",
       "      <td>...</td>\n",
       "      <td>0.0</td>\n",
       "      <td>NaN</td>\n",
       "      <td>16.0</td>\n",
       "      <td>5.153334</td>\n",
       "      <td>1.090658</td>\n",
       "      <td>23.1</td>\n",
       "      <td>57.2</td>\n",
       "      <td>135.0</td>\n",
       "      <td>NaN</td>\n",
       "      <td>0.0</td>\n",
       "    </tr>\n",
       "  </tbody>\n",
       "</table>\n",
       "<p>3 rows × 21 columns</p>\n",
       "</div>"
      ],
      "text/plain": [
       "   age  barthel  charlson codidiagingreso codservicioreal  creatinina    drg   \n",
       "0   80      NaN       4.0             NaN            HNEM        0.42  141.0  \\\n",
       "1   67      NaN       5.0             NaN            HNEF         NaN  444.0   \n",
       "2   75      NaN      13.0          M97303            HHEM        0.92  691.0   \n",
       "\n",
       "   estancias  glucosa  hematocrito  ...  metastatic_tumor  num_grupoact3_HOSP   \n",
       "0        7.0    110.0    29.548684  ...               0.0                 NaN  \\\n",
       "1       11.0      NaN    30.648684  ...               0.0                 NaN   \n",
       "2       14.0      NaN    33.848684  ...               0.0                 NaN   \n",
       "\n",
       "   numurgenciasprevias   potasio  proteina_c_reactiva  rdw_cv  rdw_sd  sodio   \n",
       "0                  6.0  4.653334                  NaN    24.9    83.1  145.0  \\\n",
       "1                  1.0       NaN                  NaN    14.8    46.3    NaN   \n",
       "2                 16.0  5.153334             1.090658    23.1    57.2  135.0   \n",
       "\n",
       "   urea  label  \n",
       "0   NaN    0.0  \n",
       "1   NaN    0.0  \n",
       "2   NaN    0.0  \n",
       "\n",
       "[3 rows x 21 columns]"
      ]
     },
     "execution_count": 2,
     "metadata": {},
     "output_type": "execute_result"
    }
   ],
   "source": [
    "df = pd.read_csv('inadvance_synth.csv', sep=';', index_col=0)\n",
    "df.head(3)"
   ]
  },
  {
   "cell_type": "code",
   "execution_count": 3,
   "metadata": {},
   "outputs": [
    {
     "data": {
      "text/plain": [
       "(38416, 21)"
      ]
     },
     "execution_count": 3,
     "metadata": {},
     "output_type": "execute_result"
    }
   ],
   "source": [
    "# 1. What is the size of the dataframe?\n",
    "df.shape"
   ]
  },
  {
   "cell_type": "code",
   "execution_count": 4,
   "metadata": {},
   "outputs": [
    {
     "data": {
      "text/plain": [
       "79.4033215326947"
      ]
     },
     "execution_count": 4,
     "metadata": {},
     "output_type": "execute_result"
    }
   ],
   "source": [
    "# 2. What is the mean age?\n",
    "df['age'].mean()"
   ]
  },
  {
   "cell_type": "code",
   "execution_count": 5,
   "metadata": {},
   "outputs": [
    {
     "data": {
      "text/plain": [
       "8.361737254115944"
      ]
     },
     "execution_count": 5,
     "metadata": {},
     "output_type": "execute_result"
    }
   ],
   "source": [
    "# 3. What is the age standard deviation (std)?\n",
    "df['age'].std()"
   ]
  },
  {
   "cell_type": "code",
   "execution_count": 6,
   "metadata": {},
   "outputs": [
    {
     "data": {
      "text/plain": [
       "barthel                28198\n",
       "num_grupoact3_HOSP     21001\n",
       "proteina_c_reactiva    18175\n",
       "urea                   14260\n",
       "codidiagingreso        11378\n",
       "glucosa                 9228\n",
       "potasio                 8646\n",
       "rdw_sd                  8334\n",
       "rdw_cv                  8334\n",
       "hematocrito             8302\n",
       "leucocitos              8302\n",
       "sodio                   8142\n",
       "creatinina              7951\n",
       "drg                     3640\n",
       "numurgenciasprevias      552\n",
       "metastatic_tumor          77\n",
       "charlson                  77\n",
       "age                        0\n",
       "estancias                  0\n",
       "codservicioreal            0\n",
       "label                      0\n",
       "dtype: int64"
      ]
     },
     "execution_count": 6,
     "metadata": {},
     "output_type": "execute_result"
    }
   ],
   "source": [
    "# 4. Which is the variable with the most amount of missing values? Can you list the name of the variables,\n",
    "# sorting them by number of missing values?\n",
    "df.isnull().sum().sort_values(ascending=False)"
   ]
  },
  {
   "cell_type": "code",
   "execution_count": 7,
   "metadata": {},
   "outputs": [
    {
     "data": {
      "text/plain": [
       "codidiagingreso    object\n",
       "codservicioreal    object\n",
       "dtype: object"
      ]
     },
     "execution_count": 7,
     "metadata": {},
     "output_type": "execute_result"
    }
   ],
   "source": [
    "# 5. Name which are the categorical variables.\n",
    "df.dtypes[df.dtypes == 'object']"
   ]
  },
  {
   "cell_type": "code",
   "execution_count": 8,
   "metadata": {},
   "outputs": [
    {
     "data": {
      "text/plain": [
       "label\n",
       "0.0    24985\n",
       "1.0    13431\n",
       "Name: count, dtype: int64"
      ]
     },
     "execution_count": 8,
     "metadata": {},
     "output_type": "execute_result"
    }
   ],
   "source": [
    "# 6. Extract the ‘label’ column to another variable. How many positive cases there are? And negatives?\n",
    "label = df['label']\n",
    "label.value_counts()"
   ]
  },
  {
   "cell_type": "code",
   "execution_count": 9,
   "metadata": {},
   "outputs": [],
   "source": [
    "#▪ Split the dataset in two: train (80%) and test (20%). Use a seed to allow replication.\n",
    "from sklearn.model_selection import train_test_split\n",
    "train, test = train_test_split(df, test_size=0.2, random_state=42)\n",
    "y_train = train[\"label\"]\n",
    "train.drop(\"label\", axis=1, inplace=True)\n",
    "y_test = test[\"label\"]\n",
    "test.drop(\"label\", axis=1, inplace=True)\n"
   ]
  },
  {
   "cell_type": "code",
   "execution_count": 10,
   "metadata": {},
   "outputs": [
    {
     "data": {
      "text/plain": [
       "((30732,), (30732, 20), (7684,), (7684, 20))"
      ]
     },
     "execution_count": 10,
     "metadata": {},
     "output_type": "execute_result"
    }
   ],
   "source": [
    "y_train.shape, train.shape, y_test.shape, test.shape"
   ]
  },
  {
   "cell_type": "code",
   "execution_count": 11,
   "metadata": {},
   "outputs": [
    {
     "data": {
      "text/plain": [
       "codidiagingreso\n",
       "401.9     2734\n",
       "518.81     643\n",
       "486        533\n",
       "250.00     532\n",
       "414.9      511\n",
       "          ... \n",
       "376.11       1\n",
       "281.2        1\n",
       "453.6        1\n",
       "482.49       1\n",
       "147.1        1\n",
       "Name: count, Length: 2038, dtype: int64"
      ]
     },
     "execution_count": 11,
     "metadata": {},
     "output_type": "execute_result"
    }
   ],
   "source": [
    "non_num_col = df.select_dtypes(exclude=['number']).columns.tolist()\n",
    "# df[non_num_col[-1]].value_counts()\n",
    "df[non_num_col[0]].value_counts()"
   ]
  },
  {
   "cell_type": "code",
   "execution_count": 12,
   "metadata": {},
   "outputs": [
    {
     "name": "stdout",
     "output_type": "stream",
     "text": [
      "(30732, 20)\n",
      "(7684, 20)\n"
     ]
    }
   ],
   "source": [
    "# 1. How many samples have each set after the split?\n",
    "print(train.shape)\n",
    "print(test.shape)"
   ]
  },
  {
   "cell_type": "code",
   "execution_count": 13,
   "metadata": {},
   "outputs": [
    {
     "data": {
      "text/plain": [
       "['codidiagingreso', 'codservicioreal']"
      ]
     },
     "execution_count": 13,
     "metadata": {},
     "output_type": "execute_result"
    }
   ],
   "source": [
    "df.dtypes[df.dtypes == 'object'].index.tolist()"
   ]
  },
  {
   "cell_type": "code",
   "execution_count": 15,
   "metadata": {},
   "outputs": [],
   "source": [
    "from sklearn.preprocessing import OneHotEncoder\n",
    "\n",
    "categorical_cols_train = train.select_dtypes(include=['object']).columns.tolist()\n",
    "\n",
    "encoder = OneHotEncoder(handle_unknown='ignore')\n",
    "\n",
    "train_encoded = encoder.fit_transform(train[categorical_cols_train]).toarray()\n",
    "test_encoded = encoder.transform(test[categorical_cols_train]).toarray()\n",
    "\n",
    "train_encoded_df = pd.DataFrame(train_encoded, columns=encoder.get_feature_names_out(categorical_cols_train))\n",
    "test_encoded_df = pd.DataFrame(test_encoded, columns=encoder.get_feature_names_out(categorical_cols_train))\n",
    "\n",
    "\n",
    "train_df_encoded = pd.concat([train.reset_index(), train_encoded_df.reset_index()], axis=1, ignore_index=True)\n",
    "test_df_encoded = pd.concat([test.reset_index(), test_encoded_df.reset_index()], axis=1, ignore_index=True)\n",
    "\n",
    "# 30732"
   ]
  },
  {
   "cell_type": "code",
   "execution_count": 17,
   "metadata": {},
   "outputs": [
    {
     "name": "stdout",
     "output_type": "stream",
     "text": [
      "train_df_encoded.shape=(30732, 1945)\n"
     ]
    },
    {
     "data": {
      "text/plain": [
       "(30732, 1945)"
      ]
     },
     "execution_count": 17,
     "metadata": {},
     "output_type": "execute_result"
    }
   ],
   "source": [
    "train_df_encoded.drop(train_df_encoded.select_dtypes(include=['object']).columns.tolist(), axis=1, inplace=True)\n",
    "test_df_encoded.drop(test_df_encoded.select_dtypes(include=['object']).columns.tolist(), axis=1, inplace=True)\n",
    "print(f'{train_df_encoded.shape=}')\n",
    "\n",
    "train_df_encoded.shape\n"
   ]
  },
  {
   "cell_type": "markdown",
   "metadata": {},
   "source": [
    "Implement the method to deal with categorical variables. Briefly explain the chosen alternative. What would happen if a variable in the test set contains a category that doesn’t exist on the train set? How would you deal with this situation?\n",
    "\n",
    "- Label Encoding involves converting each category into a unique numerical value. For example, if a categorical variable has three categories: 'A', 'B', and 'C', Label Encoding might convert them to 0, 1, and 2 respectively. If a new category is encountered in the test set that was not present in the training set, Label Encoding would still assign a unique numerical value to that category. However, this approach might not be ideal because it implies an ordinal relationship between categories which might not exist.\n",
    "- One-Hot Encoding creates binary columns for each category and indicates the presence of the category with a 1 or 0. For example, the categories 'Red', 'Green', and 'Blue' would be transformed into three columns: 'Is_Red', 'Is_Green', and 'Is_Blue. If a new category appears in the test set, it would result in a column of all zeros in the one-hot encoded representation\n",
    "- Binary Encoding convert category into binary digits. Eatch binary digits creat one feture columns.Similar to label encoding if a new category is encountered in the test set that was not present in the training set, binary encoding would still assign a unique numerical value to that category\n",
    "\n",
    "\n",
    "I used handle_unknown='ignore' in OneHotEncoder, to manaage a stituation when category that doesn’t exist on the train set, but exist in test set. \n"
   ]
  },
  {
   "cell_type": "code",
   "execution_count": 55,
   "metadata": {},
   "outputs": [
    {
     "data": {
      "text/plain": [
       "0       0\n",
       "1279    0\n",
       "1307    0\n",
       "1306    0\n",
       "1305    0\n",
       "       ..\n",
       "646     0\n",
       "645     0\n",
       "644     0\n",
       "643     0\n",
       "1946    0\n",
       "Length: 1945, dtype: int64"
      ]
     },
     "execution_count": 55,
     "metadata": {},
     "output_type": "execute_result"
    }
   ],
   "source": [
    "# Implement a method to deal with missing values using simple techniques such as the imputation by\n",
    "# the mean or the median\n",
    "from sklearn.impute import SimpleImputer\n",
    "imputer = SimpleImputer(strategy='mean')\n",
    "imputer.fit(train_df_encoded)\n",
    "train_trans = imputer.transform(train_df_encoded)\n",
    "train_trans = pd.DataFrame(train_trans, columns=train_df_encoded.columns)\n",
    "train_trans.isnull().sum().sort_values(ascending=False)"
   ]
  },
  {
   "cell_type": "code",
   "execution_count": 64,
   "metadata": {},
   "outputs": [
    {
     "data": {
      "text/plain": [
       "0       0\n",
       "1279    0\n",
       "1307    0\n",
       "1306    0\n",
       "1305    0\n",
       "       ..\n",
       "646     0\n",
       "645     0\n",
       "644     0\n",
       "643     0\n",
       "1946    0\n",
       "Length: 1945, dtype: int64"
      ]
     },
     "execution_count": 64,
     "metadata": {},
     "output_type": "execute_result"
    }
   ],
   "source": [
    "# ▪ The transformation applied on the training set of the data should be the same applied to the test set. \n",
    "test_trans = imputer.transform(test_df_encoded)\n",
    "test_trans = pd.DataFrame(test_trans, columns=test_df_encoded.columns)\n",
    "test_trans.isnull().sum().sort_values(ascending=False)"
   ]
  },
  {
   "cell_type": "markdown",
   "metadata": {},
   "source": [
    "Implement the method to deal with the missing values. Briefly explain the chosen alternative. What\n",
    "would happen if a variable without missing on the train set appears to have been missing in the test\n",
    "set? How would you deal with them?\n",
    "- removing entire rows that contain missing values \"train.dropna(inplace=True)\"\n",
    "- Fill missing values with the mean, median, or mode of the column. Mean is useful for continuous variables, while median is less sensitive to outliers. Mode is used for categorical variables.\n",
    "- Use more sophisticated imputation methods like K-Nearest Neighbors (KNN) or regression models to predict missing values based on other features\n",
    "- Introduce an additional binary feature indicating whether the value was missing. This way, the model can learn if missingness is informative.\n",
    "\n",
    "Handling Missing Values in Test Set:\n",
    "\n",
    "If a variable without missing values in the training set has missing values in the test set, it should be handle by using the same strategy that can be applied to the training set:\n",
    "\n"
   ]
  },
  {
   "cell_type": "markdown",
   "metadata": {},
   "source": [
    "What if we used the whole dataset to fit the imputer and the categorical variables’ method so we don’t have to worry about unconsidered values? Explain briefly why this is a terrible idea. \n",
    "\n",
    "Including the test set during preprocessing can lead to data leakage, where information from the test set is used to influence the preprocessing decisions. It may lead to overly optimistic performance estimates. Whatsmore then its more difficult to check if your model is not overfited, what means it has problem with generalization and it's unable to handle new values in real-world scenarios."
   ]
  },
  {
   "cell_type": "code",
   "execution_count": 57,
   "metadata": {},
   "outputs": [],
   "source": [
    "# 1. Import the RandomForestClassifier and create the model with the default arguments\n",
    "from sklearn.ensemble import RandomForestClassifier\n",
    "rf = RandomForestClassifier()"
   ]
  },
  {
   "cell_type": "code",
   "execution_count": 60,
   "metadata": {},
   "outputs": [
    {
     "data": {
      "text/html": [
       "<style>#sk-container-id-1 {color: black;background-color: white;}#sk-container-id-1 pre{padding: 0;}#sk-container-id-1 div.sk-toggleable {background-color: white;}#sk-container-id-1 label.sk-toggleable__label {cursor: pointer;display: block;width: 100%;margin-bottom: 0;padding: 0.3em;box-sizing: border-box;text-align: center;}#sk-container-id-1 label.sk-toggleable__label-arrow:before {content: \"▸\";float: left;margin-right: 0.25em;color: #696969;}#sk-container-id-1 label.sk-toggleable__label-arrow:hover:before {color: black;}#sk-container-id-1 div.sk-estimator:hover label.sk-toggleable__label-arrow:before {color: black;}#sk-container-id-1 div.sk-toggleable__content {max-height: 0;max-width: 0;overflow: hidden;text-align: left;background-color: #f0f8ff;}#sk-container-id-1 div.sk-toggleable__content pre {margin: 0.2em;color: black;border-radius: 0.25em;background-color: #f0f8ff;}#sk-container-id-1 input.sk-toggleable__control:checked~div.sk-toggleable__content {max-height: 200px;max-width: 100%;overflow: auto;}#sk-container-id-1 input.sk-toggleable__control:checked~label.sk-toggleable__label-arrow:before {content: \"▾\";}#sk-container-id-1 div.sk-estimator input.sk-toggleable__control:checked~label.sk-toggleable__label {background-color: #d4ebff;}#sk-container-id-1 div.sk-label input.sk-toggleable__control:checked~label.sk-toggleable__label {background-color: #d4ebff;}#sk-container-id-1 input.sk-hidden--visually {border: 0;clip: rect(1px 1px 1px 1px);clip: rect(1px, 1px, 1px, 1px);height: 1px;margin: -1px;overflow: hidden;padding: 0;position: absolute;width: 1px;}#sk-container-id-1 div.sk-estimator {font-family: monospace;background-color: #f0f8ff;border: 1px dotted black;border-radius: 0.25em;box-sizing: border-box;margin-bottom: 0.5em;}#sk-container-id-1 div.sk-estimator:hover {background-color: #d4ebff;}#sk-container-id-1 div.sk-parallel-item::after {content: \"\";width: 100%;border-bottom: 1px solid gray;flex-grow: 1;}#sk-container-id-1 div.sk-label:hover label.sk-toggleable__label {background-color: #d4ebff;}#sk-container-id-1 div.sk-serial::before {content: \"\";position: absolute;border-left: 1px solid gray;box-sizing: border-box;top: 0;bottom: 0;left: 50%;z-index: 0;}#sk-container-id-1 div.sk-serial {display: flex;flex-direction: column;align-items: center;background-color: white;padding-right: 0.2em;padding-left: 0.2em;position: relative;}#sk-container-id-1 div.sk-item {position: relative;z-index: 1;}#sk-container-id-1 div.sk-parallel {display: flex;align-items: stretch;justify-content: center;background-color: white;position: relative;}#sk-container-id-1 div.sk-item::before, #sk-container-id-1 div.sk-parallel-item::before {content: \"\";position: absolute;border-left: 1px solid gray;box-sizing: border-box;top: 0;bottom: 0;left: 50%;z-index: -1;}#sk-container-id-1 div.sk-parallel-item {display: flex;flex-direction: column;z-index: 1;position: relative;background-color: white;}#sk-container-id-1 div.sk-parallel-item:first-child::after {align-self: flex-end;width: 50%;}#sk-container-id-1 div.sk-parallel-item:last-child::after {align-self: flex-start;width: 50%;}#sk-container-id-1 div.sk-parallel-item:only-child::after {width: 0;}#sk-container-id-1 div.sk-dashed-wrapped {border: 1px dashed gray;margin: 0 0.4em 0.5em 0.4em;box-sizing: border-box;padding-bottom: 0.4em;background-color: white;}#sk-container-id-1 div.sk-label label {font-family: monospace;font-weight: bold;display: inline-block;line-height: 1.2em;}#sk-container-id-1 div.sk-label-container {text-align: center;}#sk-container-id-1 div.sk-container {/* jupyter's `normalize.less` sets `[hidden] { display: none; }` but bootstrap.min.css set `[hidden] { display: none !important; }` so we also need the `!important` here to be able to override the default hidden behavior on the sphinx rendered scikit-learn.org. See: https://github.com/scikit-learn/scikit-learn/issues/21755 */display: inline-block !important;position: relative;}#sk-container-id-1 div.sk-text-repr-fallback {display: none;}</style><div id=\"sk-container-id-1\" class=\"sk-top-container\"><div class=\"sk-text-repr-fallback\"><pre>RandomForestClassifier()</pre><b>In a Jupyter environment, please rerun this cell to show the HTML representation or trust the notebook. <br />On GitHub, the HTML representation is unable to render, please try loading this page with nbviewer.org.</b></div><div class=\"sk-container\" hidden><div class=\"sk-item\"><div class=\"sk-estimator sk-toggleable\"><input class=\"sk-toggleable__control sk-hidden--visually\" id=\"sk-estimator-id-1\" type=\"checkbox\" checked><label for=\"sk-estimator-id-1\" class=\"sk-toggleable__label sk-toggleable__label-arrow\">RandomForestClassifier</label><div class=\"sk-toggleable__content\"><pre>RandomForestClassifier()</pre></div></div></div></div></div>"
      ],
      "text/plain": [
       "RandomForestClassifier()"
      ]
     },
     "execution_count": 60,
     "metadata": {},
     "output_type": "execute_result"
    }
   ],
   "source": [
    "# 2. Fit the model using the train set and the train labels\n",
    "rf.fit(train_trans, y_train)"
   ]
  },
  {
   "cell_type": "code",
   "execution_count": 65,
   "metadata": {},
   "outputs": [],
   "source": [
    "# 3. Get the probabilities for the positive class from the test set\n",
    "probabilities = rf.predict_proba(test_trans)[:, 1]"
   ]
  },
  {
   "cell_type": "code",
   "execution_count": 66,
   "metadata": {},
   "outputs": [
    {
     "name": "stdout",
     "output_type": "stream",
     "text": [
      "AUC ROC Score: 0.8944241517010797\n"
     ]
    }
   ],
   "source": [
    "from sklearn.metrics import roc_auc_score\n",
    "\n",
    "roc_auc = roc_auc_score(y_test, probabilities)\n",
    "\n",
    "print(\"AUC ROC Score:\", roc_auc)\n"
   ]
  },
  {
   "cell_type": "code",
   "execution_count": 67,
   "metadata": {},
   "outputs": [
    {
     "name": "stdout",
     "output_type": "stream",
     "text": [
      "Accuracy: 0.8217074440395628\n"
     ]
    }
   ],
   "source": [
    "from sklearn.metrics import accuracy_score\n",
    "\n",
    "predicted_labels = (probabilities > 0.5).astype(int)\n",
    "\n",
    "accuracy = accuracy_score(y_test, predicted_labels)\n",
    "print(\"Accuracy:\", accuracy)"
   ]
  },
  {
   "cell_type": "code",
   "execution_count": 68,
   "metadata": {},
   "outputs": [
    {
     "name": "stdout",
     "output_type": "stream",
     "text": [
      "Sensitivity: 0.6441947565543071\n",
      "Specificity: 0.9162345432788193\n"
     ]
    }
   ],
   "source": [
    "from sklearn.metrics import confusion_matrix\n",
    "\n",
    "conf_matrix = confusion_matrix(y_test, predicted_labels)\n",
    "\n",
    "TP = conf_matrix[1, 1]  # True Positive\n",
    "TN = conf_matrix[0, 0]  # True Negative\n",
    "FP = conf_matrix[0, 1]  # False Positive\n",
    "FN = conf_matrix[1, 0]  # False Negative\n",
    "sensitivity = TP / (TP + FN)\n",
    "specificity = TN / (TN + FP)\n",
    "\n",
    "print(\"Sensitivity:\", sensitivity)\n",
    "print(\"Specificity:\", specificity)\n"
   ]
  },
  {
   "cell_type": "code",
   "execution_count": 69,
   "metadata": {},
   "outputs": [
    {
     "data": {
      "image/png": "[encoded data removed]",
      "text/plain": [
       "<Figure size 800x600 with 1 Axes>"
      ]
     },
     "metadata": {},
     "output_type": "display_data"
    }
   ],
   "source": [
    "from sklearn.metrics import roc_curve, auc\n",
    "import matplotlib.pyplot as plt\n",
    "\n",
    "fpr, tpr, thresholds = roc_curve(y_test, probabilities)\n",
    "\n",
    "roc_auc = auc(fpr, tpr)\n",
    "\n",
    "plt.figure(figsize=(8, 6))\n",
    "plt.plot(fpr, tpr, color='darkorange', lw=2, label=f'AUC = {roc_auc:.2f}')\n",
    "plt.plot([0, 1], [0, 1], color='navy', lw=2, linestyle='--')\n",
    "plt.xlim([0.0, 1.0])\n",
    "plt.ylim([0.0, 1.05])\n",
    "plt.xlabel('False Positive Rate')\n",
    "plt.ylabel('True Positive Rate')\n",
    "plt.title('Receiver Operating Characteristic (ROC) Curve')\n",
    "plt.legend(loc='lower right')\n",
    "plt.show()"
   ]
  },
  {
   "cell_type": "code",
   "execution_count": 70,
   "metadata": {},
   "outputs": [
    {
     "name": "stdout",
     "output_type": "stream",
     "text": [
      "Najlepsze hiperparametry: {'max_depth': 20, 'n_estimators': 200, 'random_state': 42}\n"
     ]
    }
   ],
   "source": [
    "from sklearn.model_selection import GridSearchCV\n",
    "from sklearn.ensemble import RandomForestClassifier\n",
    "\n",
    "param_grid = {\n",
    "    'n_estimators': [100, 150, 200],\n",
    "    'max_depth': [10, 15, 20],\n",
    "    'random_state': [42]\n",
    "}\n",
    "\n",
    "rf = RandomForestClassifier()\n",
    "\n",
    "grid_search = GridSearchCV(estimator=rf, param_grid=param_grid, scoring='roc_auc', cv=5)\n",
    "\n",
    "grid_search.fit(train_trans, y_train)\n",
    "\n",
    "best_params = grid_search.best_params_\n",
    "print(\"Najlepsze hiperparametry:\", best_params)\n",
    "\n",
    "results = pd.DataFrame(grid_search.cv_results_)\n"
   ]
  },
  {
   "cell_type": "code",
   "execution_count": null,
   "metadata": {},
   "outputs": [],
   "source": []
  }
 ],
 "metadata": {
  "kernelspec": {
   "display_name": "ml",
   "language": "python",
   "name": "python3"
  },
  "language_info": {
   "codemirror_mode": {
    "name": "ipython",
    "version": 3
   },
   "file_extension": ".py",
   "mimetype": "text/x-python",
   "name": "python",
   "nbconvert_exporter": "python",
   "pygments_lexer": "ipython3",
   "version": "3.11.2"
  }
 },
 "nbformat": 4,
 "nbformat_minor": 2
}
